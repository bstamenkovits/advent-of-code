{
 "cells": [
  {
   "cell_type": "markdown",
   "metadata": {},
   "source": [
    "# **Day 5**: *Print Queue*"
   ]
  },
  {
   "cell_type": "markdown",
   "metadata": {},
   "source": [
    "## Part 1\n",
    "\n",
    "Satisfied with their search on Ceres, the squadron of scholars suggests subsequently scanning the stationery stacks of sub-basement 17.\n",
    "\n",
    "The North Pole printing department is busier than ever this close to Christmas, and while The Historians continue their search of this historically significant facility, an Elf operating a very familiar printer beckons you over.\n",
    "\n",
    "The Elf must recognize you, because they waste no time explaining that the new sleigh launch safety manual updates won't print correctly. Failure to update the safety manuals would be dire indeed, so you offer your services.\n",
    "\n",
    "Safety protocols clearly indicate that new pages for the safety manuals must be printed in a very specific order. The notation X|Y means that if both page number X and page number Y are to be produced as part of an update, page number X must be printed at some point before page number Y.\n",
    "\n",
    "The Elf has for you both the page ordering rules and the pages to produce in each update (your puzzle input), but can't figure out whether each update has the pages in the right order.\n",
    "\n",
    "For example:\n",
    "\n",
    "```\n",
    "47|53\n",
    "97|13\n",
    "97|61\n",
    "97|47\n",
    "75|29\n",
    "61|13\n",
    "75|53\n",
    "29|13\n",
    "97|29\n",
    "53|29\n",
    "61|53\n",
    "97|53\n",
    "61|29\n",
    "47|13\n",
    "75|47\n",
    "97|75\n",
    "47|61\n",
    "75|61\n",
    "47|29\n",
    "75|13\n",
    "53|13\n",
    "\n",
    "75,47,61,53,29\n",
    "97,61,53,29,13\n",
    "75,29,13\n",
    "75,97,47,61,53\n",
    "61,13,29\n",
    "97,13,75,29,47\n",
    "```\n",
    "\n",
    "The first section specifies the page ordering rules, one per line. The first rule, `47|53`, means that if an update includes both page number 47 and page number 53, then page number 47 must be printed at some point before page number 53. (47 doesn't necessarily need to be immediately before 53; other pages are allowed to be between them.)\n",
    "\n",
    "The second section specifies the page numbers of each update. Because most safety manuals are different, the pages needed in the updates are different too. The first update, `75,47,61,53,29`, means that the update consists of page numbers 75, 47, 61, 53, and 29.\n",
    "\n",
    "To get the printers going as soon as possible, start by identifying which updates are already in the right order.\n",
    "\n",
    "In the above example, the first update (`75,47,61,53,29`) is in the right order:\n",
    "\n",
    "- `75` is correctly first because there are rules that put each other page after it: `75|47`, `75|61`, `75|53`, and `75|29`.\n",
    "- `47` is correctly second because `75` must be before it (`75|47`) and every other page must be after it according to `47|61`, `47|53`, and `47|29`.\n",
    "- `61` is correctly in the middle because `75` and `47` are before it (`75|61` and `47|61`) and `53` and `29` are after it (`61|53` and `61|29`).\n",
    "- `53` is correctly fourth because it is before page number `29` (`53|29`).\n",
    "- `29` is the only page left and so is correctly last.\n",
    "- \n",
    "Because the first update does not include some page numbers, the ordering rules involving those missing page numbers are ignored.\n",
    "\n",
    "The second and third updates are also in the correct order according to the rules. Like the first update, they also do not include every page number, and so only some of the ordering rules apply - within each update, the ordering rules that involve missing page numbers are not used.\n",
    "\n",
    "The fourth update, `75,97,47,61,53`, is not in the correct order: it would print `75` before `97`, which violates the rule `97|75`.\n",
    "\n",
    "The fifth update, `61,13,29`, is also not in the correct order, since it breaks the rule `29|13`.\n",
    "\n",
    "The last update, `97,13,75,29,47`, is not in the correct order due to breaking several rules.\n",
    "\n",
    "For some reason, the Elves also need to know the middle page number of each update being printed. Because you are currently only printing the correctly-ordered updates, you will need to find the middle page number of each correctly-ordered update. In the above example, the correctly-ordered updates are:\n",
    "\n",
    "```\n",
    "75,47,61,53,29\n",
    "97,61,53,29,13\n",
    "75,29,13\n",
    "```\n",
    "\n",
    "These have middle page numbers of `61`, `53`, and `29` respectively. Adding these page numbers together gives `143`.\n",
    "\n",
    "Of course, you'll need to be careful: the actual list of page ordering rules is bigger and more complicated than the above example.\n",
    "\n",
    "Determine which updates are already in the correct order. What do you get if you add up the middle page number from those correctly-ordered updates?"
   ]
  },
  {
   "cell_type": "markdown",
   "metadata": {},
   "source": [
    "### Solution"
   ]
  },
  {
   "cell_type": "code",
   "execution_count": 116,
   "metadata": {},
   "outputs": [],
   "source": [
    "def get_ordered_rules(rules):\n",
    "    # rules = [(val1, val2), (val3, val4), ...]\n",
    "    rules = [tuple(int(x) for x in rule.split('|')) for rule in rules]\n",
    "\n",
    "    # values = [val1, val2, val3, val4, ...]\n",
    "    values = []\n",
    "    for v1, v2 in rules:\n",
    "        values.append(v1)\n",
    "        values.append(v2)\n",
    "\n",
    "    # only unique values\n",
    "    values = list(set(values))\n",
    "\n",
    "    for rule in rules:\n",
    "        # get values and indices\n",
    "        v1, v2 = rule\n",
    "        idx1 = values.index(v1)\n",
    "        idx2 = values.index(v2)\n",
    "\n",
    "        # swap values if they are in the wrong order\n",
    "        if idx1 > idx2:\n",
    "            values[idx1], values[idx2] = values[idx2], values[idx1]\n",
    "\n",
    "    return values\n",
    "\n",
    "\n",
    "def get_correct_sequences(rules, lists):\n",
    "    ordered_rules = get_ordered_rules(rules)\n",
    "\n",
    "    correct_sequences = []\n",
    "    for sequence in lists:\n",
    "        max_idx = 0\n",
    "        valid_sequence = True\n",
    "        for val in sequence.split(','):\n",
    "            val = int(val)\n",
    "            if val in ordered_rules:\n",
    "                idx = ordered_rules.index(val)\n",
    "                if idx < max_idx:\n",
    "                    valid_sequence = False\n",
    "                    break\n",
    "                max_idx = idx\n",
    "        if valid_sequence:\n",
    "            correct_sequences.append(sequence)\n",
    "\n",
    "    return correct_sequences\n",
    "\n",
    "\n",
    "def my_func(input_string):\n",
    "    rules, lists = input_string.split('\\n\\n')\n",
    "    rules = rules.splitlines()\n",
    "    lists = lists.splitlines()\n",
    "\n",
    "    # ordered_rules = get_ordered_rules(rules)\n",
    "    correct_sequences = get_correct_sequences(rules, lists)\n",
    "\n",
    "    page_num_sum = 0\n",
    "    print(correct_sequences)\n",
    "    for sequence in correct_sequences:\n",
    "        sequence = [int(x) for x in sequence.split(',')]\n",
    "        mid_val = sequence[int((len(sequence)-1)/2)]\n",
    "        print(mid_val)\n",
    "        page_num_sum += mid_val\n",
    "\n",
    "    return page_num_sum\n"
   ]
  },
  {
   "cell_type": "code",
   "execution_count": null,
   "metadata": {},
   "outputs": [],
   "source": [
    "def my_func(input_string):\n",
    "    rules, lists = input_string.split('\\n\\n')\n",
    "    rules = rules.splitlines()\n",
    "    lists = lists.splitlines()\n",
    "\n",
    "    rules = [tuple(int(x) for x in rule.split('|')) for rule in rules]\n",
    "\n",
    "    correct_sequences = []\n",
    "    for sequence in lists:\n",
    "        sequence = [int(x) for x in sequence.split(',')]\n",
    "        valid_sequence = True\n",
    "        for v1, v2 in rules:\n",
    "            if v1 not in sequence or v2 not in sequence:\n",
    "                continue\n",
    "            idx1 = sequence.index(v1)\n",
    "            idx2 = sequence.index(v2)\n",
    "            if idx1 > idx2:\n",
    "                valid_sequence = False\n",
    "                break\n",
    "        if valid_sequence:\n",
    "            correct_sequences.append(sequence)\n",
    "\n",
    "    page_num_sum = 0\n",
    "    for sequence in correct_sequences:\n",
    "        mid_val = sequence[int((len(sequence)-1)/2)]\n",
    "        page_num_sum += mid_val\n",
    "\n",
    "    return page_num_sum\n",
    "\n",
    "\n",
    "        # for val in sequence.split(','):\n",
    "        #     val = int(val)\n",
    "        #     if val in ordered_rules:"
   ]
  },
  {
   "cell_type": "markdown",
   "metadata": {},
   "source": [
    "### Example"
   ]
  },
  {
   "cell_type": "code",
   "execution_count": 138,
   "metadata": {},
   "outputs": [
    {
     "data": {
      "text/plain": [
       "143"
      ]
     },
     "execution_count": 138,
     "metadata": {},
     "output_type": "execute_result"
    }
   ],
   "source": [
    "input_string = \"\"\"47|53\n",
    "97|13\n",
    "97|61\n",
    "97|47\n",
    "75|29\n",
    "61|13\n",
    "75|53\n",
    "29|13\n",
    "97|29\n",
    "53|29\n",
    "61|53\n",
    "97|53\n",
    "61|29\n",
    "47|13\n",
    "75|47\n",
    "97|75\n",
    "47|61\n",
    "75|61\n",
    "47|29\n",
    "75|13\n",
    "53|13\n",
    "\n",
    "75,47,61,53,29\n",
    "97,61,53,29,13\n",
    "75,29,13\n",
    "75,97,47,61,53\n",
    "61,13,29\n",
    "97,13,75,29,47\"\"\"\n",
    "\n",
    "my_func(input_string)\n"
   ]
  },
  {
   "cell_type": "markdown",
   "metadata": {},
   "source": [
    "### Submission"
   ]
  },
  {
   "cell_type": "code",
   "execution_count": 139,
   "metadata": {},
   "outputs": [
    {
     "data": {
      "text/plain": [
       "5248"
      ]
     },
     "execution_count": 139,
     "metadata": {},
     "output_type": "execute_result"
    }
   ],
   "source": [
    "with open('input/day05.txt', 'r') as file:\n",
    "    input_string = file.read()\n",
    "\n",
    "my_func(input_string)\n"
   ]
  },
  {
   "cell_type": "markdown",
   "metadata": {},
   "source": [
    "## Part 2\n",
    "\n",
    "While the Elves get to work printing the correctly-ordered updates, you have a little time to fix the rest of them.\n",
    "\n",
    "For each of the incorrectly-ordered updates, use the page ordering rules to put the page numbers in the right order. For the above example, here are the three incorrectly-ordered updates and their correct orderings:\n",
    "\n",
    "- `75,97,47,61,53` becomes `97,75,47,61,53`.\n",
    "- `61,13,29` becomes `61,29,13`.\n",
    "- `97,13,75,29,47` becomes `97,75,47,29,13`.\n",
    "\n",
    "After taking only the incorrectly-ordered updates and ordering them correctly, their middle page numbers are 47, 29, and 47. Adding these together produces 123.\n",
    "\n",
    "Find the updates which are not in the correct order. What do you get if you add up the middle page numbers after correctly ordering just those updates?"
   ]
  },
  {
   "cell_type": "markdown",
   "metadata": {},
   "source": [
    "### Solution"
   ]
  },
  {
   "cell_type": "code",
   "execution_count": null,
   "metadata": {},
   "outputs": [],
   "source": [
    "def get_incorrect_sequences(rules, lists):\n",
    "    incorrect_sequences = []\n",
    "    for sequence in lists:\n",
    "        sequence = [int(x) for x in sequence.split(',')]\n",
    "        valid_sequence = True\n",
    "        for v1, v2 in rules:\n",
    "            if v1 not in sequence or v2 not in sequence:\n",
    "                continue\n",
    "            idx1 = sequence.index(v1)\n",
    "            idx2 = sequence.index(v2)\n",
    "            if idx1 > idx2:\n",
    "                valid_sequence = False\n",
    "                break\n",
    "        if not valid_sequence:\n",
    "            incorrect_sequences.append(sequence)\n",
    "    return incorrect_sequences\n",
    "\n",
    "def bubbleSort(arr, rules):\n",
    "    n = len(arr)\n",
    "\n",
    "    # Traverse through all array elements\n",
    "    for i in range(n):\n",
    "        swapped = False\n",
    "\n",
    "        # Last i elements are already in place\n",
    "        for j in range(0, n-i-1):\n",
    "\n",
    "            # Traverse the array from 0 to n-i-1\n",
    "            # Swap if the element found is greater\n",
    "            # than the next element\n",
    "            if arr[j] > arr[j+1]:\n",
    "                arr[j], arr[j+1] = arr[j+1], arr[j]\n",
    "                swapped = True\n",
    "        if (swapped == False):\n",
    "            break\n",
    "\n",
    "\n",
    "def my_func(input_string):\n",
    "    rules, lists = input_string.split('\\n\\n')\n",
    "    rules = rules.splitlines()\n",
    "    lists = lists.splitlines()\n",
    "\n",
    "    rules = [tuple(int(x) for x in rule.split('|')) for rule in rules]\n",
    "    incorrect_sequences = get_incorrect_sequences(rules, lists)\n",
    "\n",
    "\n",
    "    page_num_sum = 0\n",
    "    for sequence in incorrect_sequences:\n",
    "        print(sequence)\n",
    "        for v1, v2 in rules:\n",
    "            if v1 in sequence and v2 in sequence:\n",
    "                idx1 = sequence.index(v1)\n",
    "                idx2 = sequence.index(v2)\n",
    "                if idx1 > idx2:\n",
    "                    sequence[idx1], sequence[idx2] = sequence[idx2], sequence[idx1]\n",
    "        print(sequence)\n",
    "        print()\n",
    "        mid_val = sequence[int((len(sequence)-1)/2)]\n",
    "        page_num_sum += mid_val\n",
    "\n",
    "    return page_num_sum\n"
   ]
  },
  {
   "cell_type": "markdown",
   "metadata": {},
   "source": [
    "### Example"
   ]
  },
  {
   "cell_type": "code",
   "execution_count": 143,
   "metadata": {},
   "outputs": [
    {
     "name": "stdout",
     "output_type": "stream",
     "text": [
      "[75, 97, 47, 61, 53]\n",
      "[97, 75, 47, 61, 53]\n",
      "\n",
      "[61, 13, 29]\n",
      "[61, 29, 13]\n",
      "\n",
      "[97, 13, 75, 29, 47]\n",
      "[97, 47, 75, 29, 13]\n",
      "\n"
     ]
    },
    {
     "data": {
      "text/plain": [
       "151"
      ]
     },
     "execution_count": 143,
     "metadata": {},
     "output_type": "execute_result"
    }
   ],
   "source": [
    "input_string = \"\"\"47|53\n",
    "97|13\n",
    "97|61\n",
    "97|47\n",
    "75|29\n",
    "61|13\n",
    "75|53\n",
    "29|13\n",
    "97|29\n",
    "53|29\n",
    "61|53\n",
    "97|53\n",
    "61|29\n",
    "47|13\n",
    "75|47\n",
    "97|75\n",
    "47|61\n",
    "75|61\n",
    "47|29\n",
    "75|13\n",
    "53|13\n",
    "\n",
    "75,47,61,53,29\n",
    "97,61,53,29,13\n",
    "75,29,13\n",
    "75,97,47,61,53\n",
    "61,13,29\n",
    "97,13,75,29,47\"\"\"\n",
    "\n",
    "my_func(input_string)\n"
   ]
  },
  {
   "cell_type": "markdown",
   "metadata": {},
   "source": [
    "### Submission"
   ]
  },
  {
   "cell_type": "code",
   "execution_count": null,
   "metadata": {},
   "outputs": [],
   "source": [
    "with open('input/day00.txt', 'r') as file:\n",
    "    input_string = file.read()\n",
    "\n",
    "\n",
    "my_func(input_string)\n"
   ]
  }
 ],
 "metadata": {
  "kernelspec": {
   "display_name": ".venv",
   "language": "python",
   "name": "python3"
  },
  "language_info": {
   "codemirror_mode": {
    "name": "ipython",
    "version": 3
   },
   "file_extension": ".py",
   "mimetype": "text/x-python",
   "name": "python",
   "nbconvert_exporter": "python",
   "pygments_lexer": "ipython3",
   "version": "3.9.7"
  }
 },
 "nbformat": 4,
 "nbformat_minor": 2
}
