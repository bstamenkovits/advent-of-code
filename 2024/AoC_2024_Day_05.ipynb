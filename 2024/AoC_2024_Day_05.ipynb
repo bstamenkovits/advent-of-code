{
 "cells": [
  {
   "cell_type": "markdown",
   "metadata": {},
   "source": [
    "# **Day 5**: *Print Queue*"
   ]
  },
  {
   "cell_type": "markdown",
   "metadata": {},
   "source": [
    "## Part 1\n",
    "\n",
    "Satisfied with their search on Ceres, the squadron of scholars suggests subsequently scanning the stationery stacks of sub-basement 17.\n",
    "\n",
    "The North Pole printing department is busier than ever this close to Christmas, and while The Historians continue their search of this historically significant facility, an Elf operating a very familiar printer beckons you over.\n",
    "\n",
    "The Elf must recognize you, because they waste no time explaining that the new sleigh launch safety manual updates won't print correctly. Failure to update the safety manuals would be dire indeed, so you offer your services.\n",
    "\n",
    "Safety protocols clearly indicate that new pages for the safety manuals must be printed in a very specific order. The notation X|Y means that if both page number X and page number Y are to be produced as part of an update, page number X must be printed at some point before page number Y.\n",
    "\n",
    "The Elf has for you both the page ordering rules and the pages to produce in each update (your puzzle input), but can't figure out whether each update has the pages in the right order.\n",
    "\n",
    "For example:\n",
    "\n",
    "```\n",
    "47|53\n",
    "97|13\n",
    "97|61\n",
    "97|47\n",
    "75|29\n",
    "61|13\n",
    "75|53\n",
    "29|13\n",
    "97|29\n",
    "53|29\n",
    "61|53\n",
    "97|53\n",
    "61|29\n",
    "47|13\n",
    "75|47\n",
    "97|75\n",
    "47|61\n",
    "75|61\n",
    "47|29\n",
    "75|13\n",
    "53|13\n",
    "\n",
    "75,47,61,53,29\n",
    "97,61,53,29,13\n",
    "75,29,13\n",
    "75,97,47,61,53\n",
    "61,13,29\n",
    "97,13,75,29,47\n",
    "```\n",
    "\n",
    "The first section specifies the page ordering rules, one per line. The first rule, `47|53`, means that if an update includes both page number 47 and page number 53, then page number 47 must be printed at some point before page number 53. (47 doesn't necessarily need to be immediately before 53; other pages are allowed to be between them.)\n",
    "\n",
    "The second section specifies the page numbers of each update. Because most safety manuals are different, the pages needed in the updates are different too. The first update, `75,47,61,53,29`, means that the update consists of page numbers 75, 47, 61, 53, and 29.\n",
    "\n",
    "To get the printers going as soon as possible, start by identifying which updates are already in the right order.\n",
    "\n",
    "In the above example, the first update (`75,47,61,53,29`) is in the right order:\n",
    "\n",
    "- `75` is correctly first because there are rules that put each other page after it: `75|47`, `75|61`, `75|53`, and `75|29`.\n",
    "- `47` is correctly second because `75` must be before it (`75|47`) and every other page must be after it according to `47|61`, `47|53`, and `47|29`.\n",
    "- `61` is correctly in the middle because `75` and `47` are before it (`75|61` and `47|61`) and `53` and `29` are after it (`61|53` and `61|29`).\n",
    "- `53` is correctly fourth because it is before page number `29` (`53|29`).\n",
    "- `29` is the only page left and so is correctly last.\n",
    "- \n",
    "Because the first update does not include some page numbers, the ordering rules involving those missing page numbers are ignored.\n",
    "\n",
    "The second and third updates are also in the correct order according to the rules. Like the first update, they also do not include every page number, and so only some of the ordering rules apply - within each update, the ordering rules that involve missing page numbers are not used.\n",
    "\n",
    "The fourth update, `75,97,47,61,53`, is not in the correct order: it would print `75` before `97`, which violates the rule `97|75`.\n",
    "\n",
    "The fifth update, `61,13,29`, is also not in the correct order, since it breaks the rule `29|13`.\n",
    "\n",
    "The last update, `97,13,75,29,47`, is not in the correct order due to breaking several rules.\n",
    "\n",
    "For some reason, the Elves also need to know the middle page number of each update being printed. Because you are currently only printing the correctly-ordered updates, you will need to find the middle page number of each correctly-ordered update. In the above example, the correctly-ordered updates are:\n",
    "\n",
    "```\n",
    "75,47,61,53,29\n",
    "97,61,53,29,13\n",
    "75,29,13\n",
    "```\n",
    "\n",
    "These have middle page numbers of `61`, `53`, and `29` respectively. Adding these page numbers together gives `143`.\n",
    "\n",
    "Of course, you'll need to be careful: the actual list of page ordering rules is bigger and more complicated than the above example.\n",
    "\n",
    "Determine which updates are already in the correct order. What do you get if you add up the middle page number from those correctly-ordered updates?"
   ]
  },
  {
   "cell_type": "markdown",
   "metadata": {},
   "source": [
    "### Solution"
   ]
  },
  {
   "cell_type": "markdown",
   "metadata": {},
   "source": [
    "My initial instinct was to try and sort each sequence using a Bubble Sort algorithm, however I could not seem to get that to work. \n",
    "\n",
    "On the subreddit someone much smarter than I pointed out that the rules form a \"closed loop\": all of the values on the left can also be found on the right. As a result, the more rules associated with a value, the earlier it will appear in an ordered sequence."
   ]
  },
  {
   "cell_type": "code",
   "execution_count": 1,
   "metadata": {},
   "outputs": [],
   "source": [
    "from collections import defaultdict\n",
    "\n",
    "def my_func(input_string):\n",
    "    # read in data\n",
    "    rules, lists = input_string.split('\\n\\n')\n",
    "    rules = rules.splitlines()\n",
    "    lists = lists.splitlines()\n",
    "\n",
    "    # orders dict contains all of the rules associated with each value\n",
    "    orders = defaultdict(list)\n",
    "    for rule in rules:\n",
    "        v1, v2 = rule.split('|')\n",
    "        orders[int(v1)].append(int(v2))\n",
    "\n",
    "    page_num_sum = 0\n",
    "    for sequence in lists:\n",
    "        sequence = [int(x) for x in sequence.split(',')]\n",
    "\n",
    "        def get_sort_key(val):\n",
    "            \"\"\"\n",
    "            Get the sort key for a value in the sequence.\n",
    "\n",
    "            The values that have the most rules are placed first. The orders dict\n",
    "            contains all of the rules associated with each value, the more rules\n",
    "            associated with a value, the more important it is to the sequence.\n",
    "\n",
    "            First the rules are extracted from the orders dict. Only the rules\n",
    "            that are relevant to the sequence are included.\n",
    "            \"\"\"\n",
    "            rules = [x for x in orders.get(val, []) if x in sequence]\n",
    "            n_rules = len(rules)\n",
    "            return -n_rules\n",
    "\n",
    "        sorted_sequence = sorted(sequence, key=get_sort_key)\n",
    "\n",
    "        # valid sequence\n",
    "        if sequence == sorted_sequence:\n",
    "            mid_val = sequence[len(sequence) // 2]\n",
    "            page_num_sum += mid_val\n",
    "\n",
    "    return page_num_sum\n"
   ]
  },
  {
   "cell_type": "markdown",
   "metadata": {},
   "source": [
    "### Example"
   ]
  },
  {
   "cell_type": "code",
   "execution_count": 2,
   "metadata": {},
   "outputs": [
    {
     "data": {
      "text/plain": [
       "143"
      ]
     },
     "execution_count": 2,
     "metadata": {},
     "output_type": "execute_result"
    }
   ],
   "source": [
    "input_string = \"\"\"47|53\n",
    "97|13\n",
    "97|61\n",
    "97|47\n",
    "75|29\n",
    "61|13\n",
    "75|53\n",
    "29|13\n",
    "97|29\n",
    "53|29\n",
    "61|53\n",
    "97|53\n",
    "61|29\n",
    "47|13\n",
    "75|47\n",
    "97|75\n",
    "47|61\n",
    "75|61\n",
    "47|29\n",
    "75|13\n",
    "53|13\n",
    "\n",
    "75,47,61,53,29\n",
    "97,61,53,29,13\n",
    "75,29,13\n",
    "75,97,47,61,53\n",
    "61,13,29\n",
    "97,13,75,29,47\"\"\"\n",
    "\n",
    "my_func(input_string)\n"
   ]
  },
  {
   "cell_type": "markdown",
   "metadata": {},
   "source": [
    "### Submission"
   ]
  },
  {
   "cell_type": "code",
   "execution_count": 3,
   "metadata": {},
   "outputs": [
    {
     "data": {
      "text/plain": [
       "5248"
      ]
     },
     "execution_count": 3,
     "metadata": {},
     "output_type": "execute_result"
    }
   ],
   "source": [
    "with open('input/day05.txt', 'r') as file:\n",
    "    input_string = file.read()\n",
    "\n",
    "my_func(input_string)\n"
   ]
  },
  {
   "cell_type": "markdown",
   "metadata": {},
   "source": [
    "## Part 2\n",
    "\n",
    "While the Elves get to work printing the correctly-ordered updates, you have a little time to fix the rest of them.\n",
    "\n",
    "For each of the incorrectly-ordered updates, use the page ordering rules to put the page numbers in the right order. For the above example, here are the three incorrectly-ordered updates and their correct orderings:\n",
    "\n",
    "- `75,97,47,61,53` becomes `97,75,47,61,53`.\n",
    "- `61,13,29` becomes `61,29,13`.\n",
    "- `97,13,75,29,47` becomes `97,75,47,29,13`.\n",
    "\n",
    "After taking only the incorrectly-ordered updates and ordering them correctly, their middle page numbers are 47, 29, and 47. Adding these together produces 123.\n",
    "\n",
    "Find the updates which are not in the correct order. What do you get if you add up the middle page numbers after correctly ordering just those updates?"
   ]
  },
  {
   "cell_type": "markdown",
   "metadata": {},
   "source": [
    "### Solution"
   ]
  },
  {
   "cell_type": "code",
   "execution_count": 4,
   "metadata": {},
   "outputs": [],
   "source": [
    "from collections import defaultdict\n",
    "\n",
    "def my_func(input_string):\n",
    "    # read in data\n",
    "    rules, lists = input_string.split('\\n\\n')\n",
    "    rules = rules.splitlines()\n",
    "    lists = lists.splitlines()\n",
    "\n",
    "    # orders dict contains all of the rules associated with each value\n",
    "    orders = defaultdict(list)\n",
    "    for rule in rules:\n",
    "        v1, v2 = rule.split('|')\n",
    "        orders[int(v1)].append(int(v2))\n",
    "\n",
    "    page_num_sum = 0\n",
    "    for sequence in lists:\n",
    "        sequence = [int(x) for x in sequence.split(',')]\n",
    "\n",
    "        def get_sort_key(val):\n",
    "            \"\"\"\n",
    "            Get the sort key for a value in the sequence.\n",
    "\n",
    "            The values that have the most rules are placed first. The orders dict\n",
    "            contains all of the rules associated with each value, the more rules\n",
    "            associated with a value, the more important it is to the sequence.\n",
    "\n",
    "            First the rules are extracted from the orders dict. Only the rules\n",
    "            that are relevant to the sequence are included.\n",
    "            \"\"\"\n",
    "            rules = [x for x in orders.get(val, []) if x in sequence]\n",
    "            n_rules = len(rules)\n",
    "            return -n_rules\n",
    "\n",
    "        sorted_sequence = sorted(sequence, key=get_sort_key)\n",
    "\n",
    "        # invalid sequence (code below is only diffence wtith part 1)\n",
    "        if sequence != sorted_sequence:\n",
    "            mid_val = sorted_sequence[len(sequence) // 2]\n",
    "            page_num_sum += mid_val\n",
    "\n",
    "    return page_num_sum\n"
   ]
  },
  {
   "cell_type": "markdown",
   "metadata": {},
   "source": [
    "### Example"
   ]
  },
  {
   "cell_type": "code",
   "execution_count": 5,
   "metadata": {},
   "outputs": [
    {
     "data": {
      "text/plain": [
       "123"
      ]
     },
     "execution_count": 5,
     "metadata": {},
     "output_type": "execute_result"
    }
   ],
   "source": [
    "input_string = \"\"\"47|53\n",
    "97|13\n",
    "97|61\n",
    "97|47\n",
    "75|29\n",
    "61|13\n",
    "75|53\n",
    "29|13\n",
    "97|29\n",
    "53|29\n",
    "61|53\n",
    "97|53\n",
    "61|29\n",
    "47|13\n",
    "75|47\n",
    "97|75\n",
    "47|61\n",
    "75|61\n",
    "47|29\n",
    "75|13\n",
    "53|13\n",
    "\n",
    "75,47,61,53,29\n",
    "97,61,53,29,13\n",
    "75,29,13\n",
    "75,97,47,61,53\n",
    "61,13,29\n",
    "97,13,75,29,47\"\"\"\n",
    "\n",
    "my_func(input_string)\n"
   ]
  },
  {
   "cell_type": "markdown",
   "metadata": {},
   "source": [
    "### Submission"
   ]
  },
  {
   "cell_type": "code",
   "execution_count": 6,
   "metadata": {},
   "outputs": [
    {
     "data": {
      "text/plain": [
       "4507"
      ]
     },
     "execution_count": 6,
     "metadata": {},
     "output_type": "execute_result"
    }
   ],
   "source": [
    "with open('input/day05.txt', 'r') as file:\n",
    "    input_string = file.read()\n",
    "\n",
    "\n",
    "my_func(input_string)\n"
   ]
  }
 ],
 "metadata": {
  "kernelspec": {
   "display_name": ".venv",
   "language": "python",
   "name": "python3"
  },
  "language_info": {
   "codemirror_mode": {
    "name": "ipython",
    "version": 3
   },
   "file_extension": ".py",
   "mimetype": "text/x-python",
   "name": "python",
   "nbconvert_exporter": "python",
   "pygments_lexer": "ipython3",
   "version": "3.9.7"
  }
 },
 "nbformat": 4,
 "nbformat_minor": 2
}
