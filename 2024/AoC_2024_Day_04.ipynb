{
 "cells": [
  {
   "cell_type": "markdown",
   "metadata": {},
   "source": [
    "# **Day 4**: *Ceres Search*"
   ]
  },
  {
   "cell_type": "markdown",
   "metadata": {},
   "source": [
    "## Part 1\n",
    "\n",
    "\"Looks like the Chief's not here. Next!\" One of The Historians pulls out a device and pushes the only button on it. After a brief flash, you recognize the interior of the Ceres monitoring station!\n",
    "\n",
    "As the search for the Chief continues, a small Elf who lives on the station tugs on your shirt; she'd like to know if you could help her with her word search (your puzzle input). She only has to find one word: `XMAS`.\n",
    "\n",
    "This word search allows words to be horizontal, vertical, diagonal, written backwards, or even overlapping other words. It's a little unusual, though, as you don't merely need to find one instance of `XMAS` - you need to find all of them. Here are a few ways `XMAS` might appear, where irrelevant characters have been replaced with .:\n",
    "\n",
    "```\n",
    "..X...\n",
    ".SAMX.\n",
    ".A..A.\n",
    "XMAS.S\n",
    ".X....\n",
    "```\n",
    "\n",
    "The actual word search will be full of letters instead. For example:\n",
    "\n",
    "```\n",
    "MMMSXXMASM\n",
    "MSAMXMSMSA\n",
    "AMXSXMAAMM\n",
    "MSAMASMSMX\n",
    "XMASAMXAMM\n",
    "XXAMMXXAMA\n",
    "SMSMSASXSS\n",
    "SAXAMASAAA\n",
    "MAMMMXMMMM\n",
    "MXMXAXMASX\n",
    "```\n",
    "\n",
    "In this word search, `XMAS` occurs a total of `18` times; here's the same word search again, but where letters not involved in any `XMAS` have been replaced with `.`:\n",
    "\n",
    "```\n",
    "....XXMAS.\n",
    ".SAMXMS...\n",
    "...S..A...\n",
    "..A.A.MS.X\n",
    "XMASAMX.MM\n",
    "X.....XA.A\n",
    "S.S.S.S.SS\n",
    ".A.A.A.A.A\n",
    "..M.M.M.MM\n",
    ".X.X.XMASX\n",
    "```\n",
    "\n",
    "Take a look at the little Elf's word search. How many times does `XMAS` appear?"
   ]
  },
  {
   "cell_type": "markdown",
   "metadata": {},
   "source": [
    "### Solution"
   ]
  },
  {
   "cell_type": "code",
   "execution_count": null,
   "metadata": {},
   "outputs": [],
   "source": [
    "def find_m(matrix, row_limits, col_limits, row_idx, col_idx):\n",
    "    \"\"\"\n",
    "    Find all directions relative to the current matrix indices where a value of\n",
    "    \"M\" can be found. Returns a list of directions, where each direction looks\n",
    "    like `direction = (delta_row_idx, delta_col_idx)`.\n",
    "    \"\"\"\n",
    "    directions = []\n",
    "    for i in range(row_idx-1, row_idx+2):\n",
    "        if not row_limits[0] < i < row_limits[1]:\n",
    "            continue\n",
    "\n",
    "        for j in range(col_idx-1, col_idx+2):\n",
    "            if not col_limits[0] < j < col_limits[1]:\n",
    "                continue # out of bounds j\n",
    "\n",
    "            if matrix[i][j] == \"M\":\n",
    "                # get position of M relative to X\n",
    "                directions.append((i - row_idx, j - col_idx))\n",
    "\n",
    "    return directions\n",
    "\n",
    "\n",
    "def count_xmas(matrix, row_limits, col_limits, row_idx, col_idx):\n",
    "    \"\"\"\n",
    "    Count the number of XMAS sequences that can be found in the matrix given\n",
    "    the current indices of the letter \"X\". First all directions with a value\n",
    "    of \"M\" are found, then for each direction it is checked if values of \"A\"\n",
    "    and \"S\" can be found in the same direction.\n",
    "\n",
    "    Returns the number of XMAS sequences in any direction that can be found for\n",
    "    a position (row_idx, col_idx) given that this position has a value of \"X\".\n",
    "    \"\"\"\n",
    "    # find all directions in which the letter \"M\" is found\n",
    "    directions = find_m(matrix, row_limits, col_limits, row_idx, col_idx)\n",
    "\n",
    "    XMAS_count = 0\n",
    "\n",
    "    # check each direction\n",
    "    for direction in directions:\n",
    "        delta_row, delta_col = direction\n",
    "\n",
    "        # potential indices of XMAS\n",
    "        X_idx = (row_idx, col_idx)\n",
    "        M_idx = (X_idx[0] + delta_row, X_idx[1] + delta_col)\n",
    "        A_idx = (M_idx[0] + delta_row, M_idx[1] + delta_col)\n",
    "        S_idx = (A_idx[0] + delta_row, A_idx[1] + delta_col)\n",
    "\n",
    "        # check if A and S indices are within bounds\n",
    "        valid_bounds = (\n",
    "            row_limits[0] < A_idx[0] < row_limits[1],\n",
    "            col_limits[0] < A_idx[1] < col_limits[1],\n",
    "\n",
    "            row_limits[0] < S_idx[0] < row_limits[1],\n",
    "            col_limits[0] < S_idx[1] < col_limits[1],\n",
    "        )\n",
    "\n",
    "        # check if A and S indices contain the correct letters\n",
    "        if all(valid_bounds):\n",
    "            correct_letters = (\n",
    "                matrix[A_idx[0]][A_idx[1]] == \"A\",\n",
    "                matrix[S_idx[0]][S_idx[1]] == \"S\"\n",
    "            )\n",
    "\n",
    "            if all(correct_letters):\n",
    "                XMAS_count += 1\n",
    "\n",
    "    return XMAS_count\n",
    "\n",
    "\n",
    "def my_func(input_string):\n",
    "    lines = input_string.splitlines()\n",
    "    matrix = [[val for val in line] for line in lines]\n",
    "\n",
    "    row_limits = (-1, len(matrix))\n",
    "    col_limits = (-1, len(matrix[0]))\n",
    "\n",
    "    XMAS_count = 0\n",
    "    for row_idx, row in enumerate(matrix):\n",
    "        for col_idx, char in enumerate(row):\n",
    "            if char == \"X\":\n",
    "                XMAS_count += count_xmas(matrix, row_limits, col_limits, row_idx, col_idx)\n",
    "\n",
    "    return XMAS_count"
   ]
  },
  {
   "cell_type": "markdown",
   "metadata": {},
   "source": [
    "### Example"
   ]
  },
  {
   "cell_type": "code",
   "execution_count": 2,
   "metadata": {},
   "outputs": [
    {
     "data": {
      "text/plain": [
       "18"
      ]
     },
     "execution_count": 2,
     "metadata": {},
     "output_type": "execute_result"
    }
   ],
   "source": [
    "input_string = \"\"\"MMMSXXMASM\n",
    "MSAMXMSMSA\n",
    "AMXSXMAAMM\n",
    "MSAMASMSMX\n",
    "XMASAMXAMM\n",
    "XXAMMXXAMA\n",
    "SMSMSASXSS\n",
    "SAXAMASAAA\n",
    "MAMMMXMMMM\n",
    "MXMXAXMASX\"\"\"\n",
    "\n",
    "my_func(input_string)\n"
   ]
  },
  {
   "cell_type": "markdown",
   "metadata": {},
   "source": [
    "### Submission"
   ]
  },
  {
   "cell_type": "code",
   "execution_count": 3,
   "metadata": {},
   "outputs": [
    {
     "data": {
      "text/plain": [
       "2521"
      ]
     },
     "execution_count": 3,
     "metadata": {},
     "output_type": "execute_result"
    }
   ],
   "source": [
    "with open('input/day04.txt', 'r') as file:\n",
    "    input_string = file.read()\n",
    "\n",
    "my_func(input_string)\n"
   ]
  },
  {
   "cell_type": "markdown",
   "metadata": {},
   "source": [
    "## Part 2\n",
    "\n",
    "The Elf looks quizzically at you. Did you misunderstand the assignment?\n",
    "\n",
    "Looking for the instructions, you flip over the word search to find that this isn't actually an `XMAS` puzzle; it's an `X`-`MAS` puzzle in which you're supposed to find two `MAS` in the shape of an `X`. One way to achieve that is like this:\n",
    "\n",
    "```\n",
    "M.S\n",
    ".A.\n",
    "M.S\n",
    "```\n",
    "\n",
    "Irrelevant characters have again been replaced with . in the above diagram. Within the `X`, each `MAS` can be written forwards or backwards.\n",
    "\n",
    "Here's the same example from before, but this time all of the `X`-`MAS`es have been kept instead:\n",
    "\n",
    "```\n",
    ".M.S......\n",
    "..A..MSMS.\n",
    ".M.S.MAA..\n",
    "..A.ASMSM.\n",
    ".M.S.M....\n",
    "..........\n",
    "S.S.S.S.S.\n",
    ".A.A.A.A..\n",
    "M.M.M.M.M.\n",
    "..........\n",
    "```\n",
    "\n",
    "In this example, an `X`-`MAS` appears `9` times.\n",
    "\n",
    "Flip the word search from the instructions back over to the word search side and try again. How many times does an `X`-`MAS` appear?"
   ]
  },
  {
   "cell_type": "markdown",
   "metadata": {},
   "source": [
    "### Solution"
   ]
  },
  {
   "cell_type": "code",
   "execution_count": 4,
   "metadata": {},
   "outputs": [],
   "source": [
    "def check_bounds(row_limits, col_limits, idx):\n",
    "    \"\"\"\n",
    "    Given an index idx=(row_idx, col_idx), check if it is within the provided\n",
    "    bounds.\n",
    "    \"\"\"\n",
    "    return (\n",
    "        row_limits[0] < idx[0] < row_limits[1]\n",
    "        and col_limits[0] < idx[1] < col_limits[1]\n",
    "    )\n",
    "\n",
    "\n",
    "def check_corners(matrix, row_limits, col_limits, row_idx, col_idx):\n",
    "    \"\"\"\n",
    "    Retrieve the values at the corners and check if each diagonal contains an\n",
    "    \"S\" and an \"M\"\n",
    "    \"\"\"\n",
    "    # corner indices\n",
    "    TL = (row_idx-1, col_idx-1)\n",
    "    TR = (row_idx-1, col_idx+1)\n",
    "    BL = (row_idx+1, col_idx-1)\n",
    "    BR = (row_idx+1, col_idx+1)\n",
    "\n",
    "    # check if corners are within matrix bounds\n",
    "    bounds_conditions = (\n",
    "        check_bounds(row_limits, col_limits, TL),\n",
    "        check_bounds(row_limits, col_limits, TR),\n",
    "        check_bounds(row_limits, col_limits, BL),\n",
    "        check_bounds(row_limits, col_limits, BR),\n",
    "    )\n",
    "\n",
    "    if not all(bounds_conditions):\n",
    "        return False\n",
    "\n",
    "    # get values at corners\n",
    "    diag1_values = (matrix[TL[0]][TL[1]], matrix[BR[0]][BR[1]])\n",
    "    diag2_values = (matrix[TR[0]][TR[1]], matrix[BL[0]][BL[1]])\n",
    "\n",
    "    # check if both diagonals contain \"S\" and \"M\"\n",
    "    value_conditions = (\n",
    "        \"M\" in diag1_values and \"M\" in diag2_values,\n",
    "        \"S\" in diag1_values and \"S\" in diag2_values,\n",
    "    )\n",
    "\n",
    "    if not all(value_conditions):\n",
    "        return False\n",
    "\n",
    "    return True\n",
    "\n",
    "\n",
    "def my_func(input_string):\n",
    "    lines = input_string.splitlines()\n",
    "    matrix = [[val for val in line] for line in lines]\n",
    "\n",
    "    row_limits = (-1, len(matrix))\n",
    "    col_limits = (-1, len(matrix[0]))\n",
    "\n",
    "    XMAS_count = 0\n",
    "    for row_idx, row in enumerate(matrix):\n",
    "        for col_idx, char in enumerate(row):\n",
    "            if char == \"A\":\n",
    "                valid_X_MAS = check_corners(matrix, row_limits, col_limits, row_idx, col_idx)\n",
    "                if valid_X_MAS:\n",
    "                    XMAS_count += 1\n",
    "    return XMAS_count\n"
   ]
  },
  {
   "cell_type": "markdown",
   "metadata": {},
   "source": [
    "### Example"
   ]
  },
  {
   "cell_type": "code",
   "execution_count": 5,
   "metadata": {},
   "outputs": [
    {
     "data": {
      "text/plain": [
       "9"
      ]
     },
     "execution_count": 5,
     "metadata": {},
     "output_type": "execute_result"
    }
   ],
   "source": [
    "input_string = \"\"\"MMMSXXMASM\n",
    "MSAMXMSMSA\n",
    "AMXSXMAAMM\n",
    "MSAMASMSMX\n",
    "XMASAMXAMM\n",
    "XXAMMXXAMA\n",
    "SMSMSASXSS\n",
    "SAXAMASAAA\n",
    "MAMMMXMMMM\n",
    "MXMXAXMASX\"\"\"\n",
    "\n",
    "my_func(input_string)\n"
   ]
  },
  {
   "cell_type": "markdown",
   "metadata": {},
   "source": [
    "### Submission"
   ]
  },
  {
   "cell_type": "code",
   "execution_count": 6,
   "metadata": {},
   "outputs": [
    {
     "data": {
      "text/plain": [
       "1912"
      ]
     },
     "execution_count": 6,
     "metadata": {},
     "output_type": "execute_result"
    }
   ],
   "source": [
    "with open('input/day04.txt', 'r') as file:\n",
    "    input_string = file.read()\n",
    "\n",
    "\n",
    "my_func(input_string)\n"
   ]
  }
 ],
 "metadata": {
  "kernelspec": {
   "display_name": ".venv",
   "language": "python",
   "name": "python3"
  },
  "language_info": {
   "codemirror_mode": {
    "name": "ipython",
    "version": 3
   },
   "file_extension": ".py",
   "mimetype": "text/x-python",
   "name": "python",
   "nbconvert_exporter": "python",
   "pygments_lexer": "ipython3",
   "version": "3.9.7"
  }
 },
 "nbformat": 4,
 "nbformat_minor": 2
}
