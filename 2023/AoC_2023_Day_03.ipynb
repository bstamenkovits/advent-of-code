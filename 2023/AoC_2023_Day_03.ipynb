{
  "cells": [
    {
      "cell_type": "markdown",
      "metadata": {
        "id": "6H13E4mHsvyi"
      },
      "source": [
        "# **Day3**: *Gear Ratios*"
      ]
    },
    {
      "cell_type": "markdown",
      "metadata": {
        "id": "3O7njkYks1Y8"
      },
      "source": [
        "## Part 1\n",
        "\n",
        "You and the Elf eventually reach a gondola lift station; he says the gondola lift will take you up to the water source, but this is as far as he can bring you. You go inside.\n",
        "\n",
        "It doesn't take long to find the gondolas, but there seems to be a problem: they're not moving.\n",
        "\n",
        "\"Aaah!\"\n",
        "\n",
        "You turn around to see a slightly-greasy Elf with a wrench and a look of surprise. \"Sorry, I wasn't expecting anyone! The gondola lift isn't working right now; it'll still be a while before I can fix it.\" You offer to help.\n",
        "\n",
        "The engineer explains that an engine part seems to be missing from the engine, but nobody can figure out which one. If you can add up all the part numbers in the engine schematic, it should be easy to work out which part is missing.\n",
        "\n",
        "The engine schematic (your puzzle input) consists of a visual representation of the engine. There are lots of numbers and symbols you don't really understand, but apparently any number adjacent to a symbol, even diagonally, is a \"part number\" and should be included in your sum. (Periods (.) do not count as a symbol.)\n",
        "\n",
        "Here is an example engine schematic:\n",
        "\n",
        "```\n",
        "467..114..\n",
        "...*......\n",
        "..35..633.\n",
        "......#...\n",
        "617*......\n",
        ".....+.58.\n",
        "..592.....\n",
        "......755.\n",
        "...$.*....\n",
        ".664.598..\n",
        "```\n",
        "\n",
        "In this schematic, two numbers are not part numbers because they are not adjacent to a symbol: 114 (top right) and 58 (middle right). Every other number is adjacent to a symbol and so is a part number; their sum is 4361.\n",
        "\n",
        "Of course, the actual engine schematic is much larger. What is the sum of all of the part numbers in the engine schematic?\n",
        "\n"
      ]
    },
    {
      "cell_type": "markdown",
      "metadata": {},
      "source": [
        "### Solution"
      ]
    },
    {
      "cell_type": "code",
      "execution_count": 1,
      "metadata": {
        "id": "_koHY6Qms51M"
      },
      "outputs": [],
      "source": [
        "import re\n",
        "\n",
        "\n",
        "def calculate_part_numbers_sum(input_string):\n",
        "    symbols = ['%', '@', '$', '=', '*', '-', '+', '/', '#', '&']\n",
        "    lines = input_string.splitlines()\n",
        "    machine_part_numbers = []\n",
        "\n",
        "    for row, line in enumerate(lines):\n",
        "        matches = re.finditer(r'\\d+', line)\n",
        "        results = [(match.group(), match.start()) for match in matches]\n",
        "\n",
        "        for n, start_idx in results:\n",
        "            end_idx = start_idx + len(n)\n",
        "\n",
        "            # indices between which to look for symbols\n",
        "            row_min = max(row - 1, 0)\n",
        "            row_max = min(row + 1, len(lines)-1)\n",
        "            col_min = max(start_idx -1, 0)\n",
        "            col_max = min(end_idx +1, len(line))\n",
        "\n",
        "            characters_above = lines[row_min][col_min:col_max]\n",
        "            characters_row = line[col_min:col_max]\n",
        "            characters_below = lines[row_max][col_min:col_max]\n",
        "\n",
        "            conditions = (\n",
        "                any(symbol in characters_above for symbol in symbols),\n",
        "                any(symbol in characters_row for symbol in symbols),\n",
        "                any(symbol in characters_below for symbol in symbols),\n",
        "            )\n",
        "\n",
        "            if any(conditions):\n",
        "                machine_part_numbers.append(int(n))\n",
        "\n",
        "    return(sum(machine_part_numbers))\n",
        "\n"
      ]
    },
    {
      "cell_type": "markdown",
      "metadata": {},
      "source": [
        "### Example"
      ]
    },
    {
      "cell_type": "code",
      "execution_count": 2,
      "metadata": {
        "cellView": "form",
        "colab": {
          "base_uri": "https://localhost:8080/"
        },
        "id": "HCdIk0qTtmxN",
        "outputId": "2ad616cb-852c-48cd-97b0-a981f80615e0"
      },
      "outputs": [
        {
          "data": {
            "text/plain": [
              "4361"
            ]
          },
          "execution_count": 2,
          "metadata": {},
          "output_type": "execute_result"
        }
      ],
      "source": [
        "input_string = \"\"\"\n",
        "467..114..\n",
        "...*......\n",
        "..35..633.\n",
        "......#...\n",
        "617*......\n",
        ".....+.58.\n",
        "..592.....\n",
        "......755.\n",
        "...$.*....\n",
        ".664.598..\"\"\"\n",
        "\n",
        "calculate_part_numbers_sum(input_string)"
      ]
    },
    {
      "cell_type": "markdown",
      "metadata": {},
      "source": [
        "### Submission"
      ]
    },
    {
      "cell_type": "code",
      "execution_count": 3,
      "metadata": {
        "cellView": "form",
        "colab": {
          "base_uri": "https://localhost:8080/"
        },
        "id": "om_mju23tqI-",
        "outputId": "ac959dd1-0fe3-4462-a11e-cb7c479caefb"
      },
      "outputs": [
        {
          "data": {
            "text/plain": [
              "530849"
            ]
          },
          "execution_count": 3,
          "metadata": {},
          "output_type": "execute_result"
        }
      ],
      "source": [
        "with open('input/day03.txt', 'r') as file:\n",
        "    input_string = file.read()\n",
        "\n",
        "calculate_part_numbers_sum(input_string)\n"
      ]
    },
    {
      "cell_type": "markdown",
      "metadata": {
        "id": "QNuC-WjRs2-5"
      },
      "source": [
        "## Part 2\n",
        "\n",
        "The engineer finds the missing part and installs it in the engine! As the engine springs to life, you jump in the closest gondola, finally ready to ascend to the water source.\n",
        "\n",
        "You don't seem to be going very fast, though. Maybe something is still wrong? Fortunately, the gondola has a phone labeled \"help\", so you pick it up and the engineer answers.\n",
        "\n",
        "Before you can explain the situation, she suggests that you look out the window. There stands the engineer, holding a phone in one hand and waving with the other. You're going so slowly that you haven't even left the station. You exit the gondola.\n",
        "\n",
        "The missing part wasn't the only issue - one of the gears in the engine is wrong. A gear is any * symbol that is adjacent to exactly two part numbers. Its gear ratio is the result of multiplying those two numbers together.\n",
        "\n",
        "This time, you need to find the gear ratio of every gear and add them all up so that the engineer can figure out which gear needs to be replaced.\n",
        "\n",
        "Consider the same engine schematic again:\n",
        "```\n",
        "467..114..\n",
        "...*......\n",
        "..35..633.\n",
        "......#...\n",
        "617*......\n",
        ".....+.58.\n",
        "..592.....\n",
        "......755.\n",
        "...$.*....\n",
        ".664.598..\n",
        "```\n",
        "\n",
        "In this schematic, there are two gears. The first is in the top left; it has part numbers 467 and 35, so its gear ratio is 16345. The second gear is in the lower right; its gear ratio is 451490. (The * adjacent to 617 is not a gear because it is only adjacent to one part number.) Adding up all of the gear ratios produces 467835.\n",
        "\n",
        "What is the sum of all of the gear ratios in your engine schematic?"
      ]
    },
    {
      "cell_type": "markdown",
      "metadata": {},
      "source": [
        "### Solution"
      ]
    },
    {
      "cell_type": "code",
      "execution_count": 4,
      "metadata": {
        "id": "n0VpyCZR8Ioq"
      },
      "outputs": [],
      "source": [
        "import re\n",
        "\n",
        "\n",
        "def calculate_gear_ratio_sum(input_string):\n",
        "    lines = input_string.splitlines()\n",
        "    gears = []\n",
        "\n",
        "    for row_idx, line in enumerate(lines):\n",
        "        matches = re.finditer(r'\\d+', line)\n",
        "        results = [(match.group(), match.start()) for match in matches]\n",
        "\n",
        "        for n, start_idx in results:\n",
        "            end_idx = start_idx + len(n)\n",
        "            col_min = max(start_idx -1, 0)\n",
        "            col_max = min(end_idx +1, len(line))\n",
        "\n",
        "            for row in [row_idx-1, row_idx, row_idx+1]:\n",
        "                if 0 < row and row < len(lines):\n",
        "                    characters = lines[row][col_min:col_max]\n",
        "\n",
        "                    if \"*\" in characters:\n",
        "                        local_col_idx = characters.find('*')\n",
        "                        col = col_min + local_col_idx\n",
        "\n",
        "                        for gear in gears:\n",
        "                            if gear['row_idx']==row and gear['col_idx']==col:\n",
        "                                gear['adjacent_numbers'].append(int(n))\n",
        "                                break\n",
        "                        else:\n",
        "                            gears.append({\n",
        "                                'row_idx': row,\n",
        "                                'col_idx': col,\n",
        "                                'adjacent_numbers': [int(n)]\n",
        "                            })\n",
        "\n",
        "    gear_ratios = []\n",
        "    for gear in gears:\n",
        "        numbers = gear['adjacent_numbers']\n",
        "        if len(numbers) == 2:\n",
        "            n1, n2 = numbers\n",
        "            gear_ratios.append(n1*n2)\n",
        "\n",
        "    return sum(gear_ratios)\n"
      ]
    },
    {
      "cell_type": "markdown",
      "metadata": {},
      "source": [
        "### Example"
      ]
    },
    {
      "cell_type": "code",
      "execution_count": 5,
      "metadata": {
        "colab": {
          "base_uri": "https://localhost:8080/"
        },
        "id": "Oj6rIztddsCh",
        "outputId": "fe9866ff-f9ad-4654-db98-7a0526637696"
      },
      "outputs": [
        {
          "data": {
            "text/plain": [
              "467835"
            ]
          },
          "execution_count": 5,
          "metadata": {},
          "output_type": "execute_result"
        }
      ],
      "source": [
        "input_string = \"\"\"\n",
        "467..114..\n",
        "...*......\n",
        "..35..633.\n",
        "......#...\n",
        "617*......\n",
        ".....+.58.\n",
        "..592.....\n",
        "......755.\n",
        "...$.*....\n",
        ".664.598..\"\"\"\n",
        "\n",
        "calculate_gear_ratio_sum(input_string)\n",
        "\n"
      ]
    },
    {
      "cell_type": "markdown",
      "metadata": {},
      "source": [
        "### Submission"
      ]
    },
    {
      "cell_type": "code",
      "execution_count": 6,
      "metadata": {
        "cellView": "form",
        "colab": {
          "base_uri": "https://localhost:8080/"
        },
        "id": "oi9QtaPpd3ku",
        "outputId": "792fc902-6f15-4df7-cfc1-053a4b5d9429"
      },
      "outputs": [
        {
          "data": {
            "text/plain": [
              "84900879"
            ]
          },
          "execution_count": 6,
          "metadata": {},
          "output_type": "execute_result"
        }
      ],
      "source": [
        "with open('input/day03.txt', 'r') as file:\n",
        "    input_string = file.read()\n",
        "\n",
        "calculate_gear_ratio_sum(input_string)"
      ]
    }
  ],
  "metadata": {
    "colab": {
      "provenance": []
    },
    "kernelspec": {
      "display_name": "Python 3",
      "name": "python3"
    },
    "language_info": {
      "codemirror_mode": {
        "name": "ipython",
        "version": 3
      },
      "file_extension": ".py",
      "mimetype": "text/x-python",
      "name": "python",
      "nbconvert_exporter": "python",
      "pygments_lexer": "ipython3",
      "version": "3.9.7"
    }
  },
  "nbformat": 4,
  "nbformat_minor": 0
}
