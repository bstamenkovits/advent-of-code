{
  "cells": [
    {
      "cell_type": "markdown",
      "metadata": {
        "id": "6fHaypyPna_R"
      },
      "source": [
        "# **Day4**: *Scratchcards*"
      ]
    },
    {
      "cell_type": "markdown",
      "metadata": {
        "id": "MONRHW7smMlV"
      },
      "source": [
        "## Part 1\n",
        "\n",
        "The gondola takes you up. Strangely, though, the ground doesn't seem to be coming with you; you're not climbing a mountain. As the circle of Snow Island recedes below you, an entire new landmass suddenly appears above you! The gondola carries you to the surface of the new island and lurches into the station.\n",
        "\n",
        "As you exit the gondola, the first thing you notice is that the air here is much warmer than it was on Snow Island. It's also quite humid. Is this where the water source is?\n",
        "\n",
        "The next thing you notice is an Elf sitting on the floor across the station in what seems to be a pile of colorful square cards.\n",
        "\n",
        "\"Oh! Hello!\" The Elf excitedly runs over to you. \"How may I be of service?\" You ask about water sources.\n",
        "\n",
        "\"I'm not sure; I just operate the gondola lift. That does sound like something we'd have, though - this is Island Island, after all! I bet the gardener would know. He's on a different island, though - er, the small kind surrounded by water, not the floating kind. We really need to come up with a better naming scheme. Tell you what: if you can help me with something quick, I'll let you borrow my boat and you can go visit the gardener. I got all these scratchcards as a gift, but I can't figure out what I've won.\"\n",
        "\n",
        "The Elf leads you over to the pile of colorful cards. There, you discover dozens of scratchcards, all with their opaque covering already scratched off. Picking one up, it looks like each card has two lists of numbers separated by a vertical bar (|): a list of winning numbers and then a list of numbers you have. You organize the information into a table (your puzzle input).\n",
        "\n",
        "As far as the Elf has been able to figure out, you have to figure out which of the numbers you have appear in the list of winning numbers. The first match makes the card worth one point and each match after the first doubles the point value of that card.\n",
        "\n",
        "For example:\n",
        "\n",
        "```\n",
        "Card 1: 41 48 83 86 17 | 83 86  6 31 17  9 48 53\n",
        "Card 2: 13 32 20 16 61 | 61 30 68 82 17 32 24 19\n",
        "Card 3:  1 21 53 59 44 | 69 82 63 72 16 21 14  1\n",
        "Card 4: 41 92 73 84 69 | 59 84 76 51 58  5 54 83\n",
        "Card 5: 87 83 26 28 32 | 88 30 70 12 93 22 82 36\n",
        "Card 6: 31 18 13 56 72 | 74 77 10 23 35 67 36 11\n",
        "```\n",
        "\n",
        "In the above example, card 1 has five winning numbers (41, 48, 83, 86, and 17) and eight numbers you have (83, 86, 6, 31, 17, 9, 48, and 53). Of the numbers you have, four of them (48, 83, 17, and 86) are winning numbers! That means card 1 is worth 8 points (1 for the first match, then doubled three times for each of the three matches after the first).\n",
        "\n",
        "- Card 2 has two winning numbers (32 and 61), so it is worth 2 points.\n",
        "- Card 3 has two winning numbers (1 and 21), so it is worth 2 points.\n",
        "- Card 4 has one winning number (84), so it is worth 1 point.\n",
        "- Card 5 has no winning numbers, so it is worth no points.\n",
        "- Card 6 has no winning numbers, so it is worth no points.\n",
        "\n",
        "So, in this example, the Elf's pile of scratchcards is worth 13 points.\n",
        "\n",
        "Take a seat in the large pile of colorful cards. How many points are they worth in total?"
      ]
    },
    {
      "cell_type": "markdown",
      "metadata": {},
      "source": [
        "### Solution"
      ]
    },
    {
      "cell_type": "code",
      "execution_count": 1,
      "metadata": {
        "id": "EBRCGR86mZeh"
      },
      "outputs": [],
      "source": [
        "def calculate_card_points(input_string):\n",
        "    lines = input_string.splitlines()\n",
        "    points = []\n",
        "    for line in lines:\n",
        "        card_id, card_content = line.split(': ')\n",
        "        winning_numbers, my_numbers = card_content.split(' | ')\n",
        "\n",
        "        winning_numbers = [int(n) for n in winning_numbers.split(' ') if n]\n",
        "        my_numbers = [int(n) for n in my_numbers.split(' ') if n]\n",
        "\n",
        "        n_matches = len(set(winning_numbers).intersection(set(my_numbers)))\n",
        "        points.append(int(2**(n_matches-1))) # use int() to round down 2**-1 = 0.5\n",
        "    return sum(points)\n"
      ]
    },
    {
      "cell_type": "markdown",
      "metadata": {},
      "source": [
        "### Example"
      ]
    },
    {
      "cell_type": "code",
      "execution_count": 2,
      "metadata": {
        "colab": {
          "base_uri": "https://localhost:8080/"
        },
        "id": "MBpzM4UjnlLx",
        "outputId": "bb126391-0495-4d0e-acda-5404741f23b1"
      },
      "outputs": [
        {
          "data": {
            "text/plain": [
              "13"
            ]
          },
          "execution_count": 2,
          "metadata": {},
          "output_type": "execute_result"
        }
      ],
      "source": [
        "input_string = \"\"\"Card 1: 41 48 83 86 17 | 83 86  6 31 17  9 48 53\n",
        "Card 2: 13 32 20 16 61 | 61 30 68 82 17 32 24 19\n",
        "Card 3:  1 21 53 59 44 | 69 82 63 72 16 21 14  1\n",
        "Card 4: 41 92 73 84 69 | 59 84 76 51 58  5 54 83\n",
        "Card 5: 87 83 26 28 32 | 88 30 70 12 93 22 82 36\n",
        "Card 6: 31 18 13 56 72 | 74 77 10 23 35 67 36 11\"\"\"\n",
        "\n",
        "calculate_card_points(input_string)"
      ]
    },
    {
      "cell_type": "markdown",
      "metadata": {},
      "source": [
        "### Submission|"
      ]
    },
    {
      "cell_type": "code",
      "execution_count": 3,
      "metadata": {
        "cellView": "form",
        "colab": {
          "base_uri": "https://localhost:8080/"
        },
        "id": "pl6nOH0hpHJ8",
        "outputId": "c8d82e4a-0bd9-4467-e950-6cf377ccc4ec"
      },
      "outputs": [
        {
          "data": {
            "text/plain": [
              "19135"
            ]
          },
          "execution_count": 3,
          "metadata": {},
          "output_type": "execute_result"
        }
      ],
      "source": [
        "with open('input/day04.txt', 'r') as file:\n",
        "    input_string = file.read()\n",
        "\n",
        "calculate_card_points(input_string)"
      ]
    },
    {
      "cell_type": "markdown",
      "metadata": {
        "id": "EJvRFb71qwJ8"
      },
      "source": [
        "## Part 2\n",
        "\n",
        "Just as you're about to report your findings to the Elf, one of you realizes that the rules have actually been printed on the back of every card this whole time.\n",
        "\n",
        "There's no such thing as \"points\". Instead, scratchcards only cause you to win more scratchcards equal to the number of winning numbers you have.\n",
        "\n",
        "Specifically, you win copies of the scratchcards below the winning card equal to the number of matches. So, if card 10 were to have 5 matching numbers, you would win one copy each of cards 11, 12, 13, 14, and 15.\n",
        "\n",
        "Copies of scratchcards are scored like normal scratchcards and have the same card number as the card they copied. So, if you win a copy of card 10 and it has 5 matching numbers, it would then win a copy of the same cards that the original card 10 won: cards 11, 12, 13, 14, and 15. This process repeats until none of the copies cause you to win any more cards. (Cards will never make you copy a card past the end of the table.)\n",
        "\n",
        "This time, the above example goes differently:\n",
        "\n",
        "```\n",
        "Card 1: 41 48 83 86 17 | 83 86  6 31 17  9 48 53\n",
        "Card 2: 13 32 20 16 61 | 61 30 68 82 17 32 24 19\n",
        "Card 3:  1 21 53 59 44 | 69 82 63 72 16 21 14  1\n",
        "Card 4: 41 92 73 84 69 | 59 84 76 51 58  5 54 83\n",
        "Card 5: 87 83 26 28 32 | 88 30 70 12 93 22 82 36\n",
        "Card 6: 31 18 13 56 72 | 74 77 10 23 35 67 36 11\n",
        "```\n",
        "- Card 1 has four matching numbers, so you win one copy each of the next four cards: cards 2, 3, 4, and 5.\n",
        "- Your original card 2 has two matching numbers, so you win one copy each of cards 3 and 4.\n",
        "- Your copy of card 2 also wins one copy each of cards 3 and 4.\n",
        "- Your four instances of card 3 (one original and three copies) have two matching numbers, so you win four copies each of cards 4 and 5.\n",
        "- Your eight instances of card 4 (one original and seven copies) have one matching number, so you win eight copies of card 5.\n",
        "- Your fourteen instances of card 5 (one original and thirteen copies) have no matching numbers and win no more cards.\n",
        "- Your one instance of card 6 (one original) has no matching numbers and wins no more cards.\n",
        "\n",
        "Once all of the originals and copies have been processed, you end up with 1 instance of card 1, 2 instances of card 2, 4 instances of card 3, 8 instances of card 4, 14 instances of card 5, and 1 instance of card 6. In total, this example pile of scratchcards causes you to ultimately have 30 scratchcards!\n",
        "\n",
        "Process all of the original and copied scratchcards until no more scratchcards are won. Including the original set of scratchcards, how many total scratchcards do you end up with?"
      ]
    },
    {
      "cell_type": "markdown",
      "metadata": {},
      "source": [
        "### Solution"
      ]
    },
    {
      "cell_type": "code",
      "execution_count": 4,
      "metadata": {
        "id": "NsTTkJ-YqvAN"
      },
      "outputs": [],
      "source": [
        "def calculate_number_of_scratchcards(input_string):\n",
        "    lines = input_string.splitlines()\n",
        "    cards = {}\n",
        "    for line in lines:\n",
        "        card_id, card_content = line.split(': ')\n",
        "        winning_numbers, my_numbers = card_content.split(' | ')\n",
        "\n",
        "        winning_numbers = [int(n) for n in winning_numbers.split(' ') if n]\n",
        "        my_numbers = [int(n) for n in my_numbers.split(' ') if n]\n",
        "\n",
        "        n_matches = len(set(winning_numbers).intersection(set(my_numbers)))\n",
        "\n",
        "        cards[int(card_id.split(' ')[-1])] = {\n",
        "            'matches': n_matches,\n",
        "            'instances': 1,\n",
        "        }\n",
        "\n",
        "\n",
        "    for card_id, card in cards.items():\n",
        "        n_matches = card['matches']\n",
        "\n",
        "\n",
        "        for _ in range(card['instances']):\n",
        "            for i in range(card_id+1, card_id + n_matches + 1):\n",
        "                cards[i]['instances'] += 1\n",
        "\n",
        "    card_count = 0\n",
        "    for card in cards.values():\n",
        "        card_count += card['instances']\n",
        "    return card_count\n"
      ]
    },
    {
      "cell_type": "markdown",
      "metadata": {},
      "source": [
        "### Example"
      ]
    },
    {
      "cell_type": "code",
      "execution_count": 5,
      "metadata": {
        "cellView": "form",
        "colab": {
          "base_uri": "https://localhost:8080/"
        },
        "id": "NbzdvECUqG3b",
        "outputId": "00ad7a27-2b05-42ac-9bb4-dd95834f2290"
      },
      "outputs": [
        {
          "data": {
            "text/plain": [
              "30"
            ]
          },
          "execution_count": 5,
          "metadata": {},
          "output_type": "execute_result"
        }
      ],
      "source": [
        "input_string = \"\"\"Card 1: 41 48 83 86 17 | 83 86  6 31 17  9 48 53\n",
        "Card 2: 13 32 20 16 61 | 61 30 68 82 17 32 24 19\n",
        "Card 3:  1 21 53 59 44 | 69 82 63 72 16 21 14  1\n",
        "Card 4: 41 92 73 84 69 | 59 84 76 51 58  5 54 83\n",
        "Card 5: 87 83 26 28 32 | 88 30 70 12 93 22 82 36\n",
        "Card 6: 31 18 13 56 72 | 74 77 10 23 35 67 36 11\"\"\"\n",
        "\n",
        "calculate_number_of_scratchcards(input_string)"
      ]
    },
    {
      "cell_type": "markdown",
      "metadata": {},
      "source": [
        "### Submission"
      ]
    },
    {
      "cell_type": "code",
      "execution_count": 6,
      "metadata": {
        "cellView": "form",
        "colab": {
          "base_uri": "https://localhost:8080/"
        },
        "id": "e9ZONmUtrrR4",
        "outputId": "0dd9a6eb-a527-413f-d762-a47a39455e62"
      },
      "outputs": [
        {
          "data": {
            "text/plain": [
              "5704953"
            ]
          },
          "execution_count": 6,
          "metadata": {},
          "output_type": "execute_result"
        }
      ],
      "source": [
        "with open('input/day04.txt', 'r') as file:\n",
        "    input_string = file.read()\n",
        "\n",
        "calculate_number_of_scratchcards(input_string)"
      ]
    }
  ],
  "metadata": {
    "colab": {
      "provenance": []
    },
    "kernelspec": {
      "display_name": "Python 3",
      "name": "python3"
    },
    "language_info": {
      "codemirror_mode": {
        "name": "ipython",
        "version": 3
      },
      "file_extension": ".py",
      "mimetype": "text/x-python",
      "name": "python",
      "nbconvert_exporter": "python",
      "pygments_lexer": "ipython3",
      "version": "3.9.7"
    }
  },
  "nbformat": 4,
  "nbformat_minor": 0
}
