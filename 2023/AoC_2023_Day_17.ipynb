{
 "cells": [
  {
   "cell_type": "markdown",
   "metadata": {},
   "source": [
    "# **Day17**: *Clumsy Crucible*"
   ]
  },
  {
   "cell_type": "markdown",
   "metadata": {},
   "source": [
    "## Part 1\n",
    "\n",
    "The lava starts flowing rapidly once the Lava Production Facility is operational. As you leave, the reindeer offers you a parachute, allowing you to quickly reach Gear Island.\n",
    "\n",
    "As you descend, your bird's-eye view of Gear Island reveals why you had trouble finding anyone on your way up: half of Gear Island is empty, but the half below you is a giant factory city!\n",
    "\n",
    "You land near the gradually-filling pool of lava at the base of your new lavafall. Lavaducts will eventually carry the lava throughout the city, but to make use of it immediately, Elves are loading it into large crucibles on wheels.\n",
    "\n",
    "The crucibles are top-heavy and pushed by hand. Unfortunately, the crucibles become very difficult to steer at high speeds, and so it can be hard to go in a straight line for very long.\n",
    "\n",
    "To get Desert Island the machine parts it needs as soon as possible, you'll need to find the best way to get the crucible from the lava pool to the machine parts factory. To do this, you need to minimize heat loss while choosing a route that doesn't require the crucible to go in a straight line for too long.\n",
    "\n",
    "Fortunately, the Elves here have a map (your puzzle input) that uses traffic patterns, ambient temperature, and hundreds of other parameters to calculate exactly how much heat loss can be expected for a crucible entering any particular city block.\n",
    "\n",
    "For example:\n",
    "\n",
    "```\n",
    "2413432311323\n",
    "3215453535623\n",
    "3255245654254\n",
    "3446585845452\n",
    "4546657867536\n",
    "1438598798454\n",
    "4457876987766\n",
    "3637877979653\n",
    "4654967986887\n",
    "4564679986453\n",
    "1224686865563\n",
    "2546548887735\n",
    "4322674655533\n",
    "```\n",
    "\n",
    "Each city block is marked by a single digit that represents the amount of heat loss if the crucible enters that block. The starting point, the lava pool, is the top-left city block; the destination, the machine parts factory, is the bottom-right city block. (Because you already start in the top-left block, you don't incur that block's heat loss unless you leave that block and then return to it.)\n",
    "\n",
    "Because it is difficult to keep the top-heavy crucible going in a straight line for very long, it can move at most three blocks in a single direction before it must turn 90 degrees left or right. The crucible also can't reverse direction; after entering each city block, it may only turn left, continue straight, or turn right.\n",
    "\n",
    "One way to minimize heat loss is this path:\n",
    "\n",
    "```\n",
    "2>>34^>>>1323\n",
    "32v>>>35v5623\n",
    "32552456v>>54\n",
    "3446585845v52\n",
    "4546657867v>6\n",
    "14385987984v4\n",
    "44578769877v6\n",
    "36378779796v>\n",
    "465496798688v\n",
    "456467998645v\n",
    "12246868655<v\n",
    "25465488877v5\n",
    "43226746555v>\n",
    "```\n",
    "\n",
    "This path never moves more than three consecutive blocks in the same direction and incurs a heat loss of only 102.\n",
    "\n",
    "Directing the crucible from the lava pool to the machine parts factory, but not moving more than three consecutive blocks in the same direction, what is the least heat loss it can incur?"
   ]
  },
  {
   "cell_type": "markdown",
   "metadata": {},
   "source": [
    "### Solution"
   ]
  },
  {
   "cell_type": "code",
   "execution_count": 1,
   "metadata": {},
   "outputs": [],
   "source": [
    "\n",
    "class Node:\n",
    "    \"\"\"A data class to represent a node for A* pathfinding algorithm\"\"\"\n",
    "\n",
    "    def __init__(self, position=None, parent=None):\n",
    "        self.position = position\n",
    "        self.x, self.y = position\n",
    "        self.parent = parent  # parent node\n",
    "\n",
    "        self.g = 0\n",
    "        self.h = 0\n",
    "        self.f = 0\n",
    "\n",
    "    def __eq__(self, other):\n",
    "        return self.position == other.position\n",
    "    \n",
    "    def __repr__(self) -> str:\n",
    "        return f'Node{self.position}'"
   ]
  },
  {
   "cell_type": "code",
   "execution_count": 2,
   "metadata": {},
   "outputs": [],
   "source": [
    "from copy import deepcopy\n",
    "class AStar:\n",
    "\n",
    "    def __init__(self, grid, start_position, end_position):\n",
    "        self.grid = grid\n",
    "        self.debug_grid = deepcopy(grid)\n",
    "        self.xlim = (0, len(grid[0]))\n",
    "        self.ylim = (0, len(grid))\n",
    "\n",
    "        self.start_node = Node(start_position)\n",
    "        self.end_node = Node(end_position)\n",
    "\n",
    "        self.open_list = [self.start_node]\n",
    "        self.closed_list = []\n",
    "        self.steps = [(0,1), (0,-1), (1,0), (-1, 0)]\n",
    "\n",
    "    def calculate_manhatten_distance(self, node:Node):\n",
    "        \"\"\"\n",
    "        Calculate the manhatten distance between a `node` and the `end_node`\n",
    "        \"\"\"\n",
    "        dx = abs(node.x - self.end_node.x)\n",
    "        dy = abs(node.y - self.end_node.y)\n",
    "        return dx + dy\n",
    "    \n",
    "    def position_is_valid(self, position):\n",
    "        x, y = position\n",
    "        if self.xlim[0]<=x<self.xlim[1] and self.ylim[0]<=y<self.ylim[1]:\n",
    "            if self.grid[y][x] != 1:\n",
    "                return True\n",
    "        return False\n",
    "    \n",
    "    def get_path(self, node):\n",
    "        path = []\n",
    "        while node != self.start_node:\n",
    "            path.append(node.position)\n",
    "            node = node.parent\n",
    "        return path[::-1]  # Return reversed path\n",
    "\n",
    "    def search(self):\n",
    "        while len(self.open_list) > 0:\n",
    "            current_node = self.open_list.pop(0)\n",
    "            self.closed_list.append(current_node)\n",
    "\n",
    "            if current_node == self.end_node:\n",
    "                path = self.get_path(current_node)\n",
    "                return path\n",
    "            \n",
    "            x, y = current_node.position\n",
    "            self.debug_grid[y][x] = 8\n",
    "\n",
    "            children = []\n",
    "            for dx, dy in self.steps:\n",
    "                position = (current_node.x + dx, current_node.y + dy)\n",
    "                if self.position_is_valid(position):\n",
    "                    node = Node(position, parent=current_node)\n",
    "                    children.append(node)\n",
    "            \n",
    "            for node in children:\n",
    "                # check if node is closed\n",
    "                if node in self.closed_list: \n",
    "                    continue\n",
    "\n",
    "                # update g, h, f\n",
    "                node.g = current_node.g + 1  # +1 square traveled\n",
    "                node.h = self.calculate_manhatten_distance(node)\n",
    "                node.f = node.g + node.h\n",
    "\n",
    "                # compare g value with open nodes\n",
    "                skip = False\n",
    "                for open_node in self.open_list:\n",
    "                    if node==open_node and node.g >= open_node.g:\n",
    "                        skip = True\n",
    "                if skip:\n",
    "                    continue\n",
    "                \n",
    "                # insert node in open list\n",
    "                self.open_list.append(node)\n",
    "                self.open_list.sort(key=lambda node: node.f)\n",
    "        \n",
    "        \n",
    "            "
   ]
  },
  {
   "cell_type": "code",
   "execution_count": 3,
   "metadata": {},
   "outputs": [
    {
     "name": "stdout",
     "output_type": "stream",
     "text": [
      "[(0, 1), (0, 2), (0, 3), (0, 4), (0, 5), (1, 5), (2, 5), (3, 5), (4, 5), (5, 5), (5, 6), (5, 7), (5, 8), (5, 9), (6, 9), (7, 9), (8, 9), (9, 9)]\n"
     ]
    }
   ],
   "source": [
    "grid = [\n",
    "    [0, 0, 0, 0, 1, 0, 0, 0, 0, 0],\n",
    "    [0, 0, 0, 0, 1, 0, 0, 0, 0, 0],\n",
    "    [0, 0, 0, 0, 1, 0, 0, 0, 0, 0],\n",
    "    [0, 0, 0, 0, 1, 0, 0, 0, 0, 0],\n",
    "    [0, 0, 0, 0, 1, 0, 0, 0, 0, 0],\n",
    "    [0, 0, 0, 0, 0, 0, 0, 0, 0, 0],\n",
    "    [0, 0, 0, 0, 1, 0, 0, 0, 0, 0],\n",
    "    [0, 0, 0, 0, 1, 0, 0, 0, 0, 0],\n",
    "    [0, 0, 0, 0, 1, 0, 0, 0, 0, 0],\n",
    "    [0, 0, 0, 0, 1, 0, 0, 0, 0, 0]\n",
    "]\n",
    "\n",
    "start = (0,0)\n",
    "end = (9, 9)\n",
    "\n",
    "a_star = AStar(grid, start, end)\n",
    "print(a_star.search())"
   ]
  },
  {
   "cell_type": "code",
   "execution_count": null,
   "metadata": {},
   "outputs": [],
   "source": [
    "def my_func(input_string):\n",
    "    pass\n"
   ]
  },
  {
   "cell_type": "markdown",
   "metadata": {},
   "source": [
    "### Example"
   ]
  },
  {
   "cell_type": "code",
   "execution_count": null,
   "metadata": {},
   "outputs": [],
   "source": [
    "input_string = \"\"\"\"\"\"\n",
    "\n",
    "\n",
    "my_func(input_string)\n"
   ]
  },
  {
   "cell_type": "markdown",
   "metadata": {},
   "source": [
    "### Submission"
   ]
  },
  {
   "cell_type": "code",
   "execution_count": null,
   "metadata": {},
   "outputs": [],
   "source": [
    "with open('input/day00.txt', 'r') as file:\n",
    "    input_string = file.read()\n",
    "\n",
    "my_func(input_string)\n"
   ]
  },
  {
   "cell_type": "markdown",
   "metadata": {},
   "source": [
    "## Part 2\n",
    "\n",
    "text"
   ]
  },
  {
   "cell_type": "markdown",
   "metadata": {},
   "source": [
    "### Solution"
   ]
  },
  {
   "cell_type": "code",
   "execution_count": null,
   "metadata": {},
   "outputs": [],
   "source": [
    "def my_func(input_string):\n",
    "    pass\n"
   ]
  },
  {
   "cell_type": "markdown",
   "metadata": {},
   "source": [
    "### Example"
   ]
  },
  {
   "cell_type": "code",
   "execution_count": null,
   "metadata": {},
   "outputs": [],
   "source": [
    "input_string = \"\"\"\"\"\"\n",
    "\n",
    "\n",
    "my_func(input_string)\n"
   ]
  },
  {
   "cell_type": "markdown",
   "metadata": {},
   "source": [
    "### Submission"
   ]
  },
  {
   "cell_type": "code",
   "execution_count": null,
   "metadata": {},
   "outputs": [],
   "source": [
    "with open('input/day00.txt', 'r') as file:\n",
    "    input_string = file.read()\n",
    "\n",
    "\n",
    "my_func(input_string)\n"
   ]
  }
 ],
 "metadata": {
  "kernelspec": {
   "display_name": ".venv",
   "language": "python",
   "name": "python3"
  },
  "language_info": {
   "codemirror_mode": {
    "name": "ipython",
    "version": 3
   },
   "file_extension": ".py",
   "mimetype": "text/x-python",
   "name": "python",
   "nbconvert_exporter": "python",
   "pygments_lexer": "ipython3",
   "version": "3.9.7"
  }
 },
 "nbformat": 4,
 "nbformat_minor": 2
}
