{
 "cells": [
  {
   "cell_type": "markdown",
   "metadata": {},
   "source": [
    "# **Day16**: *The Floor Will Be Lava*"
   ]
  },
  {
   "cell_type": "markdown",
   "metadata": {},
   "source": [
    "## Part 1\n",
    "\n",
    "With the beam of light completely focused somewhere, the reindeer leads you deeper still into the Lava Production Facility. At some point, you realize that the steel facility walls have been replaced with cave, and the doorways are just cave, and the floor is cave, and you're pretty sure this is actually just a giant cave.\n",
    "\n",
    "Finally, as you approach what must be the heart of the mountain, you see a bright light in a cavern up ahead. There, you discover that the beam of light you so carefully focused is emerging from the cavern wall closest to the facility and pouring all of its energy into a contraption on the opposite side.\n",
    "\n",
    "Upon closer inspection, the contraption appears to be a flat, two-dimensional square grid containing empty space (.), mirrors (/ and \\), and splitters (| and -).\n",
    "\n",
    "The contraption is aligned so that most of the beam bounces around the grid, but each tile on the grid converts some of the beam's light into heat to melt the rock in the cavern.\n",
    "\n",
    "You note the layout of the contraption (your puzzle input). For example:\n",
    "\n",
    "```\n",
    ".|...\\....\n",
    "|.-.\\.....\n",
    ".....|-...\n",
    "........|.\n",
    "..........\n",
    ".........\\\n",
    "..../.\\\\..\n",
    ".-.-/..|..\n",
    ".|....-|.\\\n",
    "..//.|....\n",
    "```\n",
    "\n",
    "The beam enters in the top-left corner from the left and heading to the right. Then, its behavior depends on what it encounters as it moves:\n",
    "\n",
    "- If the beam encounters empty space (.), it continues in the same direction.\n",
    "- If the beam encounters a mirror (/ or \\\\), the beam is reflected 90 degrees depending on the angle of the mirror. For instance, a rightward-moving beam that encounters a / mirror would continue upward in the mirror's column, while a rightward-moving beam that encounters a \\ mirror would continue downward from the mirror's column.\n",
    "- If the beam encounters the pointy end of a splitter (| or -), the beam passes through the splitter as if the splitter were empty space. For instance, a rightward-moving beam that encounters a - splitter would continue in the same direction.\n",
    "- If the beam encounters the flat side of a splitter (| or -), the beam is split into two beams going in each of the two directions the splitter's pointy ends are pointing. For instance, a rightward-moving beam that encounters a | splitter would split into two beams: one that continues upward from the splitter's column and one that continues downward from the splitter's column.\n",
    "\n",
    "Beams do not interact with other beams; a tile can have many beams passing through it at the same time. A tile is energized if that tile has at least one beam pass through it, reflect in it, or split in it.\n",
    "\n",
    "In the above example, here is how the beam of light bounces around the contraption:\n",
    "\n",
    "```\n",
    ">|<<<\\....\n",
    "|v-.\\^....\n",
    ".v...|->>>\n",
    ".v...v^.|.\n",
    ".v...v^...\n",
    ".v...v^..\\\n",
    ".v../2\\\\..\n",
    "<->-/vv|..\n",
    ".|<<<2-|.\\\n",
    ".v//.|.v..\n",
    "```\n",
    "\n",
    "Beams are only shown on empty tiles; arrows indicate the direction of the beams. If a tile contains beams moving in multiple directions, the number of distinct directions is shown instead. Here is the same diagram but instead only showing whether a tile is energized (#) or not (.):\n",
    "\n",
    "```\n",
    "######....\n",
    ".#...#....\n",
    ".#...#####\n",
    ".#...##...\n",
    ".#...##...\n",
    ".#...##...\n",
    ".#..####..\n",
    "########..\n",
    ".#######..\n",
    ".#...#.#..\n",
    "```\n",
    "\n",
    "Ultimately, in this example, 46 tiles become energized.\n",
    "\n",
    "The light isn't energizing enough tiles to produce lava; to debug the contraption, you need to start by analyzing the current situation. With the beam starting in the top-left heading right, how many tiles end up being energized?"
   ]
  },
  {
   "cell_type": "markdown",
   "metadata": {},
   "source": [
    "### Solution"
   ]
  },
  {
   "cell_type": "code",
   "execution_count": 1,
   "metadata": {},
   "outputs": [],
   "source": [
    "direction_map = {\n",
    "    '/': ['RU', 'LD', 'UR', 'DL'],\n",
    "    '\\\\': ['RD', 'LU', 'UL', 'DR'],\n",
    "    '-': ['RR', 'LL', 'ULR', 'DLR'],\n",
    "    '|': ['RDU', 'LUD', 'UU', 'DD'],\n",
    "    '.': ['RR', 'LL', 'UU', 'DD']\n",
    "}\n",
    "move_map = {'R': (0, 1), 'L': (0, -1), 'U': (-1, 0), 'D': (1, 0)}\n"
   ]
  },
  {
   "cell_type": "code",
   "execution_count": 2,
   "metadata": {},
   "outputs": [],
   "source": [
    "def take_step(position, direction, lines, visited:set, grid=None):\n",
    "    # grid for debugging\n",
    "    # grid = [[0 for _ in lines[0]] for _ in lines] if grid is None else grid\n",
    "    # grid[position[0]][position[1]] = 1\n",
    "\n",
    "    # check if we already looked at this beam\n",
    "    visited.add((position, direction))\n",
    "    \n",
    "    # current position and symbol\n",
    "    row, col = position\n",
    "    symbol = lines[row][col]\n",
    "\n",
    "    # next position and direction\n",
    "    for option in direction_map[symbol]:\n",
    "        if option[0] == direction:\n",
    "            for new_direction in option[1:]:\n",
    "                new_position = (row + move_map[new_direction][0], col + move_map[new_direction][1])\n",
    "                if 0 <= new_position[0] < len(lines) and 0 <= new_position[1] < len(lines[0]):\n",
    "                    if (new_position, new_direction) not in visited:\n",
    "                        visited = take_step(new_position, new_direction, lines, visited, grid)\n",
    "            \n",
    "    return visited \n",
    "\n",
    "    "
   ]
  },
  {
   "cell_type": "code",
   "execution_count": 3,
   "metadata": {},
   "outputs": [],
   "source": [
    "def get_number_of_energized_tiles(input_string):\n",
    "    lines = input_string.splitlines()\n",
    "    start_direction = 'R'\n",
    "    start_position = (0, 0)\n",
    "\n",
    "    visited = take_step(start_position, start_direction, lines, set())\n",
    "    return len(set(v[0] for v in visited))\n",
    "    \n"
   ]
  },
  {
   "cell_type": "markdown",
   "metadata": {},
   "source": [
    "### Example"
   ]
  },
  {
   "cell_type": "code",
   "execution_count": 4,
   "metadata": {},
   "outputs": [
    {
     "data": {
      "text/plain": [
       "46"
      ]
     },
     "execution_count": 4,
     "metadata": {},
     "output_type": "execute_result"
    }
   ],
   "source": [
    "input_string = r\"\"\".|...\\....\n",
    "|.-.\\.....\n",
    ".....|-...\n",
    "........|.\n",
    "..........\n",
    ".........\\\n",
    "..../.\\\\..\n",
    ".-.-/..|..\n",
    ".|....-|.\\\n",
    "..//.|....\"\"\"\n",
    "\n",
    "get_number_of_energized_tiles(input_string)\n"
   ]
  },
  {
   "cell_type": "markdown",
   "metadata": {},
   "source": [
    "### Submission"
   ]
  },
  {
   "cell_type": "code",
   "execution_count": 5,
   "metadata": {},
   "outputs": [
    {
     "data": {
      "text/plain": [
       "7392"
      ]
     },
     "execution_count": 5,
     "metadata": {},
     "output_type": "execute_result"
    }
   ],
   "source": [
    "import sys\n",
    "sys.setrecursionlimit(10000)\n",
    "\n",
    "with open('input/day16.txt', 'r') as file:\n",
    "    input_string = file.read()\n",
    "\n",
    "get_number_of_energized_tiles(input_string)\n"
   ]
  },
  {
   "cell_type": "markdown",
   "metadata": {},
   "source": [
    "## Part 2\n",
    "\n",
    "As you try to work out what might be wrong, the reindeer tugs on your shirt and leads you to a nearby control panel. There, a collection of buttons lets you align the contraption so that the beam enters from any edge tile and heading away from that edge. (You can choose either of two directions for the beam if it starts on a corner; for instance, if the beam starts in the bottom-right corner, it can start heading either left or upward.)\n",
    "\n",
    "So, the beam could start on any tile in the top row (heading downward), any tile in the bottom row (heading upward), any tile in the leftmost column (heading right), or any tile in the rightmost column (heading left). To produce lava, you need to find the configuration that energizes as many tiles as possible.\n",
    "\n",
    "In the above example, this can be achieved by starting the beam in the fourth tile from the left in the top row:\n",
    "\n",
    "```\n",
    ".|<2<\\....\n",
    "|v-v\\^....\n",
    ".v.v.|->>>\n",
    ".v.v.v^.|.\n",
    ".v.v.v^...\n",
    ".v.v.v^..\\\n",
    ".v.v/2\\\\..\n",
    "<-2-/vv|..\n",
    ".|<<<2-|.\\\n",
    ".v//.|.v..\n",
    "```\n",
    "\n",
    "Using this configuration, 51 tiles are energized:\n",
    "\n",
    "```\n",
    ".#####....\n",
    ".#.#.#....\n",
    ".#.#.#####\n",
    ".#.#.##...\n",
    ".#.#.##...\n",
    ".#.#.##...\n",
    ".#.#####..\n",
    "########..\n",
    ".#######..\n",
    ".#...#.#..\n",
    "```\n",
    "\n",
    "Find the initial beam configuration that energizes the largest number of tiles; how many tiles are energized in that configuration?"
   ]
  },
  {
   "cell_type": "markdown",
   "metadata": {},
   "source": [
    "### Solution"
   ]
  },
  {
   "cell_type": "code",
   "execution_count": 6,
   "metadata": {},
   "outputs": [],
   "source": [
    "def get_number_of_energized_tiles(input_string):\n",
    "    \"\"\"\n",
    "    I just brute forced it ¯\\_(ツ)_/¯\n",
    "    still acceptable runtime: 5.7 seconds\n",
    "    \"\"\"\n",
    "    lines = input_string.splitlines()\n",
    "    tiles = []\n",
    "\n",
    "    # left side\n",
    "    for i in range(len(lines)):\n",
    "        start_direction = 'R'\n",
    "        start_position = (i, 0)\n",
    "        visited = take_step(start_position, start_direction, lines, set())\n",
    "        tiles.append(len(set(v[0] for v in visited)))\n",
    "    \n",
    "    # right side\n",
    "    for i in range(len(lines)):\n",
    "        start_direction = 'L'\n",
    "        start_position = (i, len(lines[0])-1)\n",
    "        visited = take_step(start_position, start_direction, lines, set())\n",
    "        tiles.append(len(set(v[0] for v in visited)))\n",
    "    \n",
    "    # top side\n",
    "    for i in range(len(lines[0])):\n",
    "        start_direction = 'D'\n",
    "        start_position = (0, i)\n",
    "        visited = take_step(start_position, start_direction, lines, set())\n",
    "        tiles.append(len(set(v[0] for v in visited)))\n",
    "\n",
    "    # bottom side\n",
    "    for i in range(len(lines[0])):\n",
    "        start_direction = 'D'\n",
    "        start_position = (len(lines)-1, i)\n",
    "        visited = take_step(start_position, start_direction, lines, set())\n",
    "        tiles.append(len(set(v[0] for v in visited)))\n",
    "\n",
    "    return max(tiles)\n"
   ]
  },
  {
   "cell_type": "markdown",
   "metadata": {},
   "source": [
    "### Example"
   ]
  },
  {
   "cell_type": "code",
   "execution_count": 7,
   "metadata": {},
   "outputs": [
    {
     "data": {
      "text/plain": [
       "51"
      ]
     },
     "execution_count": 7,
     "metadata": {},
     "output_type": "execute_result"
    }
   ],
   "source": [
    "input_string = r\"\"\".|...\\....\n",
    "|.-.\\.....\n",
    ".....|-...\n",
    "........|.\n",
    "..........\n",
    ".........\\\n",
    "..../.\\\\..\n",
    ".-.-/..|..\n",
    ".|....-|.\\\n",
    "..//.|....\"\"\"\n",
    "\n",
    "get_number_of_energized_tiles(input_string)"
   ]
  },
  {
   "cell_type": "markdown",
   "metadata": {},
   "source": [
    "### Submission"
   ]
  },
  {
   "cell_type": "code",
   "execution_count": 8,
   "metadata": {},
   "outputs": [
    {
     "data": {
      "text/plain": [
       "7665"
      ]
     },
     "execution_count": 8,
     "metadata": {},
     "output_type": "execute_result"
    }
   ],
   "source": [
    "import sys\n",
    "sys.setrecursionlimit(10000)\n",
    "\n",
    "with open('input/day16.txt', 'r') as file:\n",
    "    input_string = file.read()\n",
    "\n",
    "get_number_of_energized_tiles(input_string)\n"
   ]
  }
 ],
 "metadata": {
  "kernelspec": {
   "display_name": ".venv",
   "language": "python",
   "name": "python3"
  },
  "language_info": {
   "codemirror_mode": {
    "name": "ipython",
    "version": 3
   },
   "file_extension": ".py",
   "mimetype": "text/x-python",
   "name": "python",
   "nbconvert_exporter": "python",
   "pygments_lexer": "ipython3",
   "version": "3.9.7"
  }
 },
 "nbformat": 4,
 "nbformat_minor": 2
}
