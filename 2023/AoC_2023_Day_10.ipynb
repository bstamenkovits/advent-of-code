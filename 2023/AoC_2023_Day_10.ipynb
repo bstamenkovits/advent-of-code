{
 "cells": [
  {
   "cell_type": "markdown",
   "metadata": {},
   "source": [
    "# **Day10**: *Pipe Maze*"
   ]
  },
  {
   "cell_type": "markdown",
   "metadata": {},
   "source": [
    "## Part 1\n",
    "\n",
    "You use the hang glider to ride the hot air from Desert Island all the way up to the floating metal island. This island is surprisingly cold and there definitely aren't any thermals to glide on, so you leave your hang glider behind.\n",
    "\n",
    "You wander around for a while, but you don't find any people or animals. However, you do occasionally find signposts labeled \"Hot Springs\" pointing in a seemingly consistent direction; maybe you can find someone at the hot springs and ask them where the desert-machine parts are made.\n",
    "\n",
    "The landscape here is alien; even the flowers and trees are made of metal. As you stop to admire some metal grass, you notice something metallic scurry away in your peripheral vision and jump into a big pipe! It didn't look like any animal you've ever seen; if you want a better look, you'll need to get ahead of it.\n",
    "\n",
    "Scanning the area, you discover that the entire field you're standing on is densely packed with pipes; it was hard to tell at first because they're the same metallic silver color as the \"ground\". You make a quick sketch of all of the surface pipes you can see (your puzzle input).\n",
    "\n",
    "The pipes are arranged in a two-dimensional grid of tiles:\n",
    "\n",
    "- | is a vertical pipe connecting north and south.\n",
    "- &#8209; is a horizontal pipe connecting east and west.\n",
    "- L is a 90-degree bend connecting north and east.\n",
    "- J is a 90-degree bend connecting north and west.\n",
    "- 7 is a 90-degree bend connecting south and west.\n",
    "- F is a 90-degree bend connecting south and east.\n",
    "- . is ground; there is no pipe in this tile.\n",
    "- S is the starting position of the animal; there is a pipe on this tile, but your sketch doesn't show what shape the pipe has.\n",
    "\n",
    "\n",
    "Based on the acoustics of the animal's scurrying, you're confident the pipe that contains the animal is one large, continuous loop.\n",
    "\n",
    "For example, here is a square loop of pipe:\n",
    "\n",
    "```\n",
    ".....\n",
    ".F-7.\n",
    ".|.|.\n",
    ".L-J.\n",
    ".....\n",
    "```\n",
    "\n",
    "If the animal had entered this loop in the northwest corner, the sketch would instead look like this:\n",
    "\n",
    "```\n",
    ".....\n",
    ".S-7.\n",
    ".|.|.\n",
    ".L-J.\n",
    ".....\n",
    "```\n",
    "\n",
    "In the above diagram, the S tile is still a 90-degree F bend: you can tell because of how the adjacent pipes connect to it.\n",
    "\n",
    "Unfortunately, there are also many pipes that aren't connected to the loop! This sketch shows the same loop as above:\n",
    "\n",
    "```\n",
    "-L|F7\n",
    "7S-7|\n",
    "L|7||\n",
    "-L-J|\n",
    "L|-JF\n",
    "```\n",
    "\n",
    "In the above diagram, you can still figure out which pipes form the main loop: they're the ones connected to S, pipes those pipes connect to, pipes those pipes connect to, and so on. Every pipe in the main loop connects to its two neighbors (including S, which will have exactly two pipes connecting to it, and which is assumed to connect back to those two pipes).\n",
    "\n",
    "Here is a sketch that contains a slightly more complex main loop:\n",
    "\n",
    "```\n",
    "..F7.\n",
    ".FJ|.\n",
    "SJ.L7\n",
    "|F--J\n",
    "LJ...\n",
    "```\n",
    "\n",
    "Here's the same example sketch with the extra, non-main-loop pipe tiles also shown:\n",
    "\n",
    "```\n",
    "7-F7-\n",
    ".FJ|7\n",
    "SJLL7\n",
    "|F--J\n",
    "LJ.LJ\n",
    "```\n",
    "\n",
    "If you want to get out ahead of the animal, you should find the tile in the loop that is farthest from the starting position. Because the animal is in the pipe, it doesn't make sense to measure this by direct distance. Instead, you need to find the tile that would take the longest number of steps along the loop to reach from the starting point - regardless of which way around the loop the animal went.\n",
    "\n",
    "In the first example with the square loop:\n",
    "\n",
    "```\n",
    ".....\n",
    ".S-7.\n",
    ".|.|.\n",
    ".L-J.\n",
    ".....\n",
    "```\n",
    "\n",
    "You can count the distance each tile in the loop is from the starting point like this:\n",
    "\n",
    "```\n",
    ".....\n",
    ".012.\n",
    ".1.3.\n",
    ".234.\n",
    ".....\n",
    "```\n",
    "\n",
    "In this example, the farthest point from the start is 4 steps away.\n",
    "\n",
    "Here's the more complex loop again:\n",
    "\n",
    "```\n",
    "..F7.\n",
    ".FJ|.\n",
    "SJ.L7\n",
    "|F--J\n",
    "LJ...\n",
    "```\n",
    "\n",
    "Here are the distances for each tile on that loop:\n",
    "\n",
    "```\n",
    "..45.\n",
    ".236.\n",
    "01.78\n",
    "14567\n",
    "23...\n",
    "```\n",
    "\n",
    "Find the single giant loop starting at S. How many steps along the loop does it take to get from the starting position to the point farthest from the starting position?"
   ]
  },
  {
   "cell_type": "markdown",
   "metadata": {},
   "source": [
    "### Solution"
   ]
  },
  {
   "cell_type": "code",
   "execution_count": 1,
   "metadata": {},
   "outputs": [],
   "source": [
    "pipes_direction_map = {'|': 'NS','-': 'EW','F': 'SE','J': 'NW','L': 'NE','7': 'SW'}\n",
    "move_map = {'N': (-1, 0), 'E': (0, 1), 'S': (1, 0), 'W': (0, -1)}\n",
    "inverse_map = {'N': 'S', 'E': 'W', 'S': 'N', 'W': 'E'}\n",
    "\n",
    "\n",
    "def get_next_step_data(position, origin_direction, lines):\n",
    "    row, col = position\n",
    "\n",
    "    pipe_direction = pipes_direction_map[lines[row][col]]\n",
    "    destination_direction = pipe_direction.replace(origin_direction, '')\n",
    "    next_origin_direction = inverse_map[destination_direction]\n",
    "    \n",
    "    delta = move_map[destination_direction]\n",
    "    next_position = (row+delta[0], col+delta[1])\n",
    "\n",
    "    return next_position, next_origin_direction\n",
    "\n",
    "\n",
    "def follow_pipe(first_step, lines):\n",
    "    position, origin_direction = first_step\n",
    "    \n",
    "    counter = 1\n",
    "    while True:\n",
    "        if lines[position[0]][position[1]] == 'S':\n",
    "            return counter\n",
    "\n",
    "        position, origin_direction = get_next_step_data(position, origin_direction, lines)\n",
    "        counter += 1"
   ]
  },
  {
   "cell_type": "code",
   "execution_count": 2,
   "metadata": {},
   "outputs": [],
   "source": [
    "def find_starting_position(lines):\n",
    "    position = None\n",
    "    for row, line in enumerate(lines):\n",
    "        col = line.find('S')\n",
    "        if col != -1:\n",
    "            position = (row, col)\n",
    "    return position\n",
    "\n",
    "\n",
    "def find_first_step(start_position, lines):\n",
    "    row, col = start_position\n",
    "    boundaries = {'N': 0, 'E':len(lines[0]), 'S': len(lines), 'W':0}\n",
    "    \n",
    "    directions = {\n",
    "        'N': (row-1, col) if row-1 > boundaries['N'] else None,\n",
    "        'E': (row, col+1) if col+1 < boundaries['E'] else None,\n",
    "        'S': (row+1, col) if row+1 < boundaries['S'] else None,\n",
    "        'W': (row, col-1) if col-1 > boundaries['W'] else None,\n",
    "    }\n",
    "\n",
    "    for direction, position in directions.items():\n",
    "        symbol = lines[position[0]][position[1]] if position else '!'\n",
    "        if symbol in pipes_direction_map.keys():\n",
    "            origin_direction = inverse_map[direction]\n",
    "            if origin_direction in pipes_direction_map[symbol]:\n",
    "                return position, origin_direction\n",
    "    "
   ]
  },
  {
   "cell_type": "code",
   "execution_count": 3,
   "metadata": {},
   "outputs": [],
   "source": [
    "def find_number_of_steps(input_string):\n",
    "    lines = input_string.splitlines()\n",
    "    starting_position = find_starting_position(lines)\n",
    "    first_step = find_first_step(starting_position, lines)\n",
    "    \n",
    "    total_number_of_steps = follow_pipe(first_step, lines)\n",
    "    return int(total_number_of_steps/2)"
   ]
  },
  {
   "cell_type": "markdown",
   "metadata": {},
   "source": [
    "### Example"
   ]
  },
  {
   "cell_type": "code",
   "execution_count": 4,
   "metadata": {},
   "outputs": [
    {
     "data": {
      "text/plain": [
       "8"
      ]
     },
     "execution_count": 4,
     "metadata": {},
     "output_type": "execute_result"
    }
   ],
   "source": [
    "input_string = \"\"\"7-F7-\n",
    ".FJ|7\n",
    "SJLL7\n",
    "|F--J\n",
    "LJ.LJ\"\"\"\n",
    "\n",
    "\n",
    "find_number_of_steps(input_string)\n"
   ]
  },
  {
   "cell_type": "markdown",
   "metadata": {},
   "source": [
    "### Submission"
   ]
  },
  {
   "cell_type": "code",
   "execution_count": 5,
   "metadata": {},
   "outputs": [
    {
     "data": {
      "text/plain": [
       "6649"
      ]
     },
     "execution_count": 5,
     "metadata": {},
     "output_type": "execute_result"
    }
   ],
   "source": [
    "with open('input/day10.txt', 'r') as file:\n",
    "    input_string = file.read()\n",
    "\n",
    "find_number_of_steps(input_string)\n"
   ]
  },
  {
   "cell_type": "markdown",
   "metadata": {},
   "source": [
    "## Part 2\n",
    "\n",
    "textYou quickly reach the farthest point of the loop, but the animal never emerges. Maybe its nest is within the area enclosed by the loop?\n",
    "\n",
    "To determine whether it's even worth taking the time to search for such a nest, you should calculate how many tiles are contained within the loop. For example:\n",
    "\n",
    "```\n",
    "...........\n",
    ".S-------7.\n",
    ".|F-----7|.\n",
    ".||.....||.\n",
    ".||.....||.\n",
    ".|L-7.F-J|.\n",
    ".|..|.|..|.\n",
    ".L--J.L--J.\n",
    "...........\n",
    "```\n",
    "\n",
    "The above loop encloses merely four tiles - the two pairs of . in the southwest and southeast (marked I below). The middle . tiles (marked O below) are not in the loop. Here is the same loop again with those regions marked:\n",
    "\n",
    "```\n",
    "...........\n",
    ".S-------7.\n",
    ".|F-----7|.\n",
    ".||OOOOO||.\n",
    ".||OOOOO||.\n",
    ".|L-7OF-J|.\n",
    ".|II|O|II|.\n",
    ".L--JOL--J.\n",
    ".....O.....\n",
    "```\n",
    "\n",
    "In fact, there doesn't even need to be a full tile path to the outside for tiles to count as outside the loop - squeezing between pipes is also allowed! Here, I is still within the loop and O is still outside the loop:\n",
    "\n",
    "```\n",
    "..........\n",
    ".S------7.\n",
    ".|F----7|.\n",
    ".||OOOO||.\n",
    ".||OOOO||.\n",
    ".|L-7F-J|.\n",
    ".|II||II|.\n",
    ".L--JL--J.\n",
    "..........\n",
    "```\n",
    "\n",
    "In both of the above examples, 4 tiles are enclosed by the loop.\n",
    "\n",
    "Here's a larger example:\n",
    "\n",
    "```\n",
    ".F----7F7F7F7F-7....\n",
    ".|F--7||||||||FJ....\n",
    ".||.FJ||||||||L7....\n",
    "FJL7L7LJLJ||LJ.L-7..\n",
    "L--J.L7...LJS7F-7L7.\n",
    "....F-J..F7FJ|L7L7L7\n",
    "....L7.F7||L7|.L7L7|\n",
    ".....|FJLJ|FJ|F7|.LJ\n",
    "....FJL-7.||.||||...\n",
    "....L---J.LJ.LJLJ...\n",
    "```\n",
    "\n",
    "The above sketch has many random bits of ground, some of which are in the loop (I) and some of which are outside it (O):\n",
    "\n",
    "```\n",
    "OF----7F7F7F7F-7OOOO\n",
    "O|F--7||||||||FJOOOO\n",
    "O||OFJ||||||||L7OOOO\n",
    "FJL7L7LJLJ||LJIL-7OO\n",
    "L--JOL7IIILJS7F-7L7O\n",
    "OOOOF-JIIF7FJ|L7L7L7\n",
    "OOOOL7IF7||L7|IL7L7|\n",
    "OOOOO|FJLJ|FJ|F7|OLJ\n",
    "OOOOFJL-7O||O||||OOO\n",
    "OOOOL---JOLJOLJLJOOO\n",
    "```\n",
    "\n",
    "In this larger example, 8 tiles are enclosed by the loop.\n",
    "\n",
    "Any tile that isn't part of the main loop can count as being enclosed by the loop. Here's another example with many bits of junk pipe lying around that aren't connected to the main loop at all:\n",
    "\n",
    "```\n",
    "FF7FSF7F7F7F7F7F---7\n",
    "L|LJ||||||||||||F--J\n",
    "FL-7LJLJ||||||LJL-77\n",
    "F--JF--7||LJLJ7F7FJ-\n",
    "L---JF-JLJ.||-FJLJJ7\n",
    "|F|F-JF---7F7-L7L|7|\n",
    "|FFJF7L7F-JF7|JL---7\n",
    "7-L-JL7||F7|L7F-7F7|\n",
    "L.L7LFJ|||||FJL7||LJ\n",
    "L7JLJL-JLJLJL--JLJ.L\n",
    "```\n",
    "\n",
    "Here are just the tiles that are enclosed by the loop marked with I:\n",
    "\n",
    "```\n",
    "FF7FSF7F7F7F7F7F---7\n",
    "L|LJ||||||||||||F--J\n",
    "FL-7LJLJ||||||LJL-77\n",
    "F--JF--7||LJLJIF7FJ-\n",
    "L---JF-JLJIIIIFJLJJ7\n",
    "|F|F-JF---7IIIL7L|7|\n",
    "|FFJF7L7F-JF7IIL---7\n",
    "7-L-JL7||F7|L7F-7F7|\n",
    "L.L7LFJ|||||FJL7||LJ\n",
    "L7JLJL-JLJLJL--JLJ.L\n",
    "```\n",
    "\n",
    "In this last example, 10 tiles are enclosed by the loop.\n",
    "\n",
    "Figure out whether you have time to search for the nest by calculating the area within the loop. How many tiles are enclosed by the loop?"
   ]
  },
  {
   "cell_type": "markdown",
   "metadata": {},
   "source": [
    "### Solution"
   ]
  },
  {
   "cell_type": "code",
   "execution_count": 6,
   "metadata": {},
   "outputs": [],
   "source": [
    "\n",
    "def follow_pipe(first_step, lines):\n",
    "    grid = [[0 for _ in lines[0]] for _ in lines]\n",
    "    position, origin_direction = first_step\n",
    "    \n",
    "    vertices = []\n",
    "    while True:\n",
    "        symbol = lines[position[0]][position[1]]\n",
    "        if symbol == 'S':\n",
    "            break\n",
    "        if symbol in ['L', 'J', '7', 'F']:\n",
    "            vertices.append(position)\n",
    "        \n",
    "        grid[position[0]][position[1]] = 1\n",
    "        position, origin_direction = get_next_step_data(position, origin_direction, lines)\n",
    "\n",
    "    return vertices, grid"
   ]
  },
  {
   "cell_type": "code",
   "execution_count": 7,
   "metadata": {},
   "outputs": [],
   "source": [
    "import matplotlib.pyplot as plt\n",
    "from shapely.geometry import Point\n",
    "from shapely.geometry.polygon import Polygon\n",
    "\n",
    "\n",
    "def find_number_of_enclosed_cells(input_string):\n",
    "    lines = input_string.splitlines()\n",
    "    starting_position = find_starting_position(lines)\n",
    "    first_step = find_first_step(starting_position, lines)\n",
    "    \n",
    "    vertices, grid = follow_pipe(first_step, lines)\n",
    "    polygon = Polygon(vertices)\n",
    "    \n",
    "    counter = 0\n",
    "    for row in range(len(grid)):\n",
    "        # print(f\"{row}/{len(grid)}\")\n",
    "        for col in range(len(grid[0])):\n",
    "            point = Point(row, col)\n",
    "            if polygon.contains(point):\n",
    "                counter += 1\n",
    "\n",
    "    plt.imshow(grid, cmap='binary', interpolation='none')\n",
    "    plt.show()\n",
    "    return counter"
   ]
  },
  {
   "cell_type": "markdown",
   "metadata": {},
   "source": [
    "### Example"
   ]
  },
  {
   "cell_type": "code",
   "execution_count": 8,
   "metadata": {},
   "outputs": [
    {
     "data": {
      "image/png": "[encoded data removed]",
      "text/plain": [
       "<Figure size 640x480 with 1 Axes>"
      ]
     },
     "metadata": {},
     "output_type": "display_data"
    },
    {
     "data": {
      "text/plain": [
       "9"
      ]
     },
     "execution_count": 8,
     "metadata": {},
     "output_type": "execute_result"
    }
   ],
   "source": [
    "input_string = \"\"\".F----7F7F7F7F-7....\n",
    ".|F--7||||||||FJ....\n",
    ".||.FJ||||||||L7....\n",
    "FJL7L7LJLJ||LJ.L-7..\n",
    "L--J.L7...LJS7F-7L7.\n",
    "....F-J..F7FJ|L7L7L7\n",
    "....L7.F7||L7|.L7L7|\n",
    ".....|FJLJ|FJ|F7|.LJ\n",
    "....FJL-7.||.||||...\n",
    "....L---J.LJ.LJLJ...\"\"\"\n",
    "\n",
    "\n",
    "find_number_of_enclosed_cells(input_string)\n"
   ]
  },
  {
   "cell_type": "markdown",
   "metadata": {},
   "source": [
    "### Submission"
   ]
  },
  {
   "cell_type": "code",
   "execution_count": 9,
   "metadata": {},
   "outputs": [
    {
     "data": {
      "image/png": "[encoded data removed]",
      "text/plain": [
       "<Figure size 640x480 with 1 Axes>"
      ]
     },
     "metadata": {},
     "output_type": "display_data"
    },
    {
     "data": {
      "text/plain": [
       "601"
      ]
     },
     "execution_count": 9,
     "metadata": {},
     "output_type": "execute_result"
    }
   ],
   "source": [
    "with open('input/day10.txt', 'r') as file:\n",
    "    input_string = file.read()\n",
    "\n",
    "find_number_of_enclosed_cells(input_string)\n"
   ]
  }
 ],
 "metadata": {
  "kernelspec": {
   "display_name": ".venv",
   "language": "python",
   "name": "python3"
  },
  "language_info": {
   "codemirror_mode": {
    "name": "ipython",
    "version": 3
   },
   "file_extension": ".py",
   "mimetype": "text/x-python",
   "name": "python",
   "nbconvert_exporter": "python",
   "pygments_lexer": "ipython3",
   "version": "3.9.7"
  }
 },
 "nbformat": 4,
 "nbformat_minor": 2
}
