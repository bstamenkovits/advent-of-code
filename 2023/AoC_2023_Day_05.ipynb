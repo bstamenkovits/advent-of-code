{
  "cells": [
    {
      "cell_type": "markdown",
      "metadata": {
        "id": "_dvoHq7WxUcy"
      },
      "source": [
        "# **Day 5**: *If You Give A Seed A Fertilizer*"
      ]
    },
    {
      "cell_type": "markdown",
      "metadata": {
        "id": "aDdZLtfkxcme"
      },
      "source": [
        "## Part 1\n",
        "\n",
        "You take the boat and find the gardener right where you were told he would be: managing a giant \"garden\" that looks more to you like a farm.\n",
        "\n",
        "\"A water source? Island Island is the water source!\" You point out that Snow Island isn't receiving any water.\n",
        "\n",
        "\"Oh, we had to stop the water because we ran out of sand to filter it with! Can't make snow with dirty water. Don't worry, I'm sure we'll get more sand soon; we only turned off the water a few days... weeks... oh no.\" His face sinks into a look of horrified realization.\n",
        "\n",
        "\"I've been so busy making sure everyone here has food that I completely forgot to check why we stopped getting more sand! There's a ferry leaving soon that is headed over in that direction - it's much faster than your boat. Could you please go check it out?\"\n",
        "\n",
        "You barely have time to agree to this request when he brings up another. \"While you wait for the ferry, maybe you can help us with our food production problem. The latest Island Island Almanac just arrived and we're having trouble making sense of it.\"\n",
        "\n",
        "The almanac (your puzzle input) lists all of the seeds that need to be planted. It also lists what type of soil to use with each kind of seed, what type of fertilizer to use with each kind of soil, what type of water to use with each kind of fertilizer, and so on. Every type of seed, soil, fertilizer and so on is identified with a number, but numbers are reused by each category - that is, soil 123 and fertilizer 123 aren't necessarily related to each other.\n",
        "\n",
        "For example:\n",
        "\n",
        "```\n",
        "seeds: 79 14 55 13\n",
        "\n",
        "seed-to-soil map:\n",
        "50 98 2\n",
        "52 50 48\n",
        "\n",
        "soil-to-fertilizer map:\n",
        "0 15 37\n",
        "37 52 2\n",
        "39 0 15\n",
        "\n",
        "fertilizer-to-water map:\n",
        "49 53 8\n",
        "0 11 42\n",
        "42 0 7\n",
        "57 7 4\n",
        "\n",
        "water-to-light map:\n",
        "88 18 7\n",
        "18 25 70\n",
        "\n",
        "light-to-temperature map:\n",
        "45 77 23\n",
        "81 45 19\n",
        "68 64 13\n",
        "\n",
        "temperature-to-humidity map:\n",
        "0 69 1\n",
        "1 0 69\n",
        "\n",
        "humidity-to-location map:\n",
        "60 56 37\n",
        "56 93 4\n",
        "```\n",
        "\n",
        "The almanac starts by listing which seeds need to be planted: seeds 79, 14, 55, and 13.\n",
        "\n",
        "The rest of the almanac contains a list of maps which describe how to convert numbers from a source category into numbers in a destination category. That is, the section that starts with seed-to-soil map: describes how to convert a seed number (the source) to a soil number (the destination). This lets the gardener and his team know which soil to use with which seeds, which water to use with which fertilizer, and so on.\n",
        "\n",
        "Rather than list every source number and its corresponding destination number one by one, the maps describe entire ranges of numbers that can be converted. Each line within a map contains three numbers: the destination range start, the source range start, and the range length.\n",
        "\n",
        "Consider again the example seed-to-soil map:\n",
        "\n",
        "```\n",
        "50 98 2\n",
        "52 50 48\n",
        "```\n",
        "\n",
        "The first line has a destination range start of 50, a source range start of 98, and a range length of 2. This line means that the source range starts at 98 and contains two values: 98 and 99. The destination range is the same length, but it starts at 50, so its two values are 50 and 51. With this information, you know that seed number 98 corresponds to soil number 50 and that seed number 99 corresponds to soil number 51.\n",
        "\n",
        "The second line means that the source range starts at 50 and contains 48 values: 50, 51, ..., 96, 97. This corresponds to a destination range starting at 52 and also containing 48 values: 52, 53, ..., 98, 99. So, seed number 53 corresponds to soil number 55.\n",
        "\n",
        "Any source numbers that aren't mapped correspond to the same destination number. So, seed number 10 corresponds to soil number 10.\n",
        "\n",
        "So, the entire list of seed numbers and their corresponding soil numbers looks like this:\n",
        "\n",
        "```\n",
        "seed  soil\n",
        "0     0\n",
        "1     1\n",
        "...   ...\n",
        "48    48\n",
        "49    49\n",
        "50    52\n",
        "51    53\n",
        "...   ...\n",
        "96    98\n",
        "97    99\n",
        "98    50\n",
        "99    51\n",
        "```\n",
        "\n",
        "With this map, you can look up the soil number required for each initial seed number:\n",
        "\n",
        "- Seed number 79 corresponds to soil number 81.\n",
        "- Seed number 14 corresponds to soil number 14.\n",
        "- Seed number 55 corresponds to soil number 57.\n",
        "- Seed number 13 corresponds to soil number 13.\n",
        "\n",
        "The gardener and his team want to get started as soon as possible, so they'd like to know the closest location that needs a seed. Using these maps, find the lowest location number that corresponds to any of the initial seeds. To do this, you'll need to convert each seed number through other categories until you can find its corresponding location number. In this example, the corresponding types are:\n",
        "\n",
        "- Seed 79, soil 81, fertilizer 81, water 81, light 74, temperature 78, humidity 78, location 82.\n",
        "- Seed 14, soil 14, fertilizer 53, water 49, light 42, temperature 42, humidity 43, location 43.\n",
        "- Seed 55, soil 57, fertilizer 57, water 53, light 46, temperature 82, humidity 82, location 86.\n",
        "- Seed 13, soil 13, fertilizer 52, water 41, light 34, temperature 34, humidity 35, location 35.\n",
        "\n",
        "So, the lowest location number in this example is 35.\n",
        "\n",
        "What is the lowest location number that corresponds to any of the initial seed numbers?"
      ]
    },
    {
      "cell_type": "markdown",
      "metadata": {},
      "source": [
        "### Solution"
      ]
    },
    {
      "cell_type": "code",
      "execution_count": 1,
      "metadata": {},
      "outputs": [],
      "source": [
        "def apply_map_constructor(map_ranges_str):\n",
        "    \"\"\"\n",
        "    Use a function wrapper to make sure map_ranges is constructed only during \n",
        "    initialization of the function, not every time it is run. \n",
        "    \"\"\"\n",
        "    map_ranges = []\n",
        "    for range_str in map_ranges_str:   \n",
        "        map_ranges.append(list(map(int, range_str.split(' '))))\n",
        "        \n",
        "    def apply_map(input_number):\n",
        "        output_number = input_number\n",
        "        for destination, source, length in map_ranges:   \n",
        "            if source <= input_number < source + length:\n",
        "                output_number = destination + (input_number - source)\n",
        "        return output_number\n",
        "    \n",
        "    return apply_map"
      ]
    },
    {
      "cell_type": "code",
      "execution_count": 2,
      "metadata": {
        "id": "BgUfRNQExbj8"
      },
      "outputs": [],
      "source": [
        "def get_lowest_location_number(input_string):\n",
        "    categories = input_string.split('\\n\\n')\n",
        "    maps_input = categories[1:]\n",
        "    seeds = [int(s) for s in categories[0].split(': ')[-1].split(' ')]\n",
        "    \n",
        "   # setup apply_maps function dictionary\n",
        "    apply_maps = {}\n",
        "    for map in maps_input:\n",
        "        map_data = map.split('\\n')\n",
        "        map_name = map_data[0].split(' ')[0]\n",
        "        map_ranges_str = map_data[1:]\n",
        "        \n",
        "        apply_map = apply_map_constructor(map_ranges_str)\n",
        "        apply_maps[map_name] = apply_map\n",
        "    \n",
        "    # convert to locations\n",
        "    locations = []\n",
        "    for x in seeds:\n",
        "        # loop over each function in apply_maps (default order works)\n",
        "        for func in apply_maps.values():\n",
        "            x = func(x)\n",
        "        locations.append(x)\n",
        "        \n",
        "    return min(locations)\n"
      ]
    },
    {
      "cell_type": "markdown",
      "metadata": {},
      "source": [
        "### Example"
      ]
    },
    {
      "cell_type": "code",
      "execution_count": 3,
      "metadata": {
        "id": "U98OGsqExlbO"
      },
      "outputs": [
        {
          "data": {
            "text/plain": [
              "35"
            ]
          },
          "execution_count": 3,
          "metadata": {},
          "output_type": "execute_result"
        }
      ],
      "source": [
        "input_string = \"\"\"seeds: 79 14 55 13\n",
        "\n",
        "seed-to-soil map:\n",
        "50 98 2\n",
        "52 50 48\n",
        "\n",
        "soil-to-fertilizer map:\n",
        "0 15 37\n",
        "37 52 2\n",
        "39 0 15\n",
        "\n",
        "fertilizer-to-water map:\n",
        "49 53 8\n",
        "0 11 42\n",
        "42 0 7\n",
        "57 7 4\n",
        "\n",
        "water-to-light map:\n",
        "88 18 7\n",
        "18 25 70\n",
        "\n",
        "light-to-temperature map:\n",
        "45 77 23\n",
        "81 45 19\n",
        "68 64 13\n",
        "\n",
        "temperature-to-humidity map:\n",
        "0 69 1\n",
        "1 0 69\n",
        "\n",
        "humidity-to-location map:\n",
        "60 56 37\n",
        "56 93 4\"\"\"\n",
        "\n",
        "get_lowest_location_number(input_string)"
      ]
    },
    {
      "cell_type": "markdown",
      "metadata": {},
      "source": [
        "### Submission"
      ]
    },
    {
      "cell_type": "code",
      "execution_count": 4,
      "metadata": {},
      "outputs": [
        {
          "data": {
            "text/plain": [
              "910845529"
            ]
          },
          "execution_count": 4,
          "metadata": {},
          "output_type": "execute_result"
        }
      ],
      "source": [
        "with open('input/day05.txt', 'r') as file:\n",
        "    input_string = file.read()\n",
        "\n",
        "get_lowest_location_number(input_string)"
      ]
    },
    {
      "cell_type": "markdown",
      "metadata": {},
      "source": [
        "## Part 2\n",
        "\n",
        "Everyone will starve if you only plant such a small number of seeds. Re-reading the almanac, it looks like the seeds: line actually describes ranges of seed numbers.\n",
        "\n",
        "The values on the initial seeds: line come in pairs. Within each pair, the first value is the start of the range and the second value is the length of the range. So, in the first line of the example above:\n",
        "```\n",
        "seeds: 79 14 55 13\n",
        "```\n",
        "\n",
        "This line describes two ranges of seed numbers to be planted in the garden. The first range starts with seed number 79 and contains 14 values: 79, 80, ..., 91, 92. The second range starts with seed number 55 and contains 13 values: 55, 56, ..., 66, 67.\n",
        "\n",
        "Now, rather than considering four seed numbers, you need to consider a total of 27 seed numbers.\n",
        "\n",
        "In the above example, the lowest location number can be obtained from seed number 82, which corresponds to soil 84, fertilizer 84, water 84, light 77, temperature 45, humidity 46, and location 46. So, the lowest location number is 46.\n",
        "\n",
        "Consider all of the initial seed numbers listed in the ranges on the first line of the almanac. What is the lowest location number that corresponds to any of the initial seed numbers?\n"
      ]
    },
    {
      "cell_type": "markdown",
      "metadata": {},
      "source": [
        "### Solution"
      ]
    },
    {
      "cell_type": "code",
      "execution_count": 5,
      "metadata": {},
      "outputs": [],
      "source": [
        "def seed_to_location(x, apply_maps):\n",
        "    for func in apply_maps.values():\n",
        "        x = func(x)\n",
        "    return x\n",
        "\n",
        "\n",
        "def get_approximations(start_seed, end_seed, apply_maps):    \n",
        "    stepsize = int((end_seed-start_seed)**0.5)\n",
        "    approximations = []\n",
        "    for seed in range(start_seed, end_seed, stepsize+1):\n",
        "        location = seed_to_location(seed, apply_maps)\n",
        "        approximations.append((seed, location))\n",
        "    return approximations\n",
        "\n",
        "\n",
        "def refine_approximation(approximation):\n",
        "    min_idx, (min_seed, min_loc) = min(enumerate(approximation), key=lambda x: x[1][1])  \n",
        "    start_idx = max(min_idx-1, 0)\n",
        "    end_idx = min(min_idx+1, len(approximation)-1)\n",
        "    new_start = approximation[start_idx][0]\n",
        "    new_end = approximation[end_idx][0]\n",
        "    return min_loc, new_start, new_end"
      ]
    },
    {
      "cell_type": "code",
      "execution_count": 6,
      "metadata": {},
      "outputs": [],
      "source": [
        "def get_lowest_location_number(input_string):\n",
        "    categories = input_string.split('\\n\\n')\n",
        "    \n",
        "    valid_seed_ranges = categories[0].split(': ')[-1].split(' ')\n",
        "    valid_seed_ranges = [ # list of tuples (start, length, end)\n",
        "        (int(a), int(b), int(a)+int(b)) \n",
        "        for a, b \n",
        "        in (zip(valid_seed_ranges[::2], valid_seed_ranges[1::2]))    \n",
        "    ]\n",
        "    \n",
        "    # setup maps\n",
        "    maps_input = categories[1:]   \n",
        "    apply_maps = {}\n",
        "    reverse_maps = {}\n",
        "    for map in maps_input:\n",
        "        map_data = map.split('\\n')\n",
        "        map_name = map_data[0].split(' ')[0]\n",
        "        map_ranges_str = map_data[1:]\n",
        "        \n",
        "        apply_map = apply_map_constructor(map_ranges_str)\n",
        "        apply_maps[map_name] = apply_map\n",
        "    \n",
        "    # find minimum location \n",
        "    minimum_locations = []\n",
        "    for start, _, end in valid_seed_ranges:\n",
        "        current_min_location = 1_000_000_000_000\n",
        "        keep_searching = True\n",
        "        while keep_searching:\n",
        "            loc_approx = get_approximations(start, end, apply_maps)\n",
        "            new_min_location, start, end = refine_approximation(loc_approx)\n",
        "            if current_min_location==new_min_location or start==end:\n",
        "                keep_searching = False\n",
        "            current_min_location = new_min_location\n",
        "        minimum_locations.append(current_min_location)\n",
        "    return min(minimum_locations)"
      ]
    },
    {
      "cell_type": "markdown",
      "metadata": {},
      "source": [
        "### Example"
      ]
    },
    {
      "cell_type": "code",
      "execution_count": 7,
      "metadata": {},
      "outputs": [
        {
          "data": {
            "text/plain": [
              "46"
            ]
          },
          "execution_count": 7,
          "metadata": {},
          "output_type": "execute_result"
        }
      ],
      "source": [
        "input_string = \"\"\"seeds: 79 14 55 13\n",
        "\n",
        "seed-to-soil map:\n",
        "50 98 2\n",
        "52 50 48\n",
        "\n",
        "soil-to-fertilizer map:\n",
        "0 15 37\n",
        "37 52 2\n",
        "39 0 15\n",
        "\n",
        "fertilizer-to-water map:\n",
        "49 53 8\n",
        "0 11 42\n",
        "42 0 7\n",
        "57 7 4\n",
        "\n",
        "water-to-light map:\n",
        "88 18 7\n",
        "18 25 70\n",
        "\n",
        "light-to-temperature map:\n",
        "45 77 23\n",
        "81 45 19\n",
        "68 64 13\n",
        "\n",
        "temperature-to-humidity map:\n",
        "0 69 1\n",
        "1 0 69\n",
        "\n",
        "humidity-to-location map:\n",
        "60 56 37\n",
        "56 93 4\"\"\"\n",
        "\n",
        "get_lowest_location_number(input_string)"
      ]
    },
    {
      "cell_type": "markdown",
      "metadata": {},
      "source": [
        "### Submission"
      ]
    },
    {
      "cell_type": "code",
      "execution_count": 8,
      "metadata": {},
      "outputs": [
        {
          "data": {
            "text/plain": [
              "77435348"
            ]
          },
          "execution_count": 8,
          "metadata": {},
          "output_type": "execute_result"
        }
      ],
      "source": [
        "with open('input/day05.txt', 'r') as file:\n",
        "    input_string = file.read()\n",
        "\n",
        "get_lowest_location_number(input_string)"
      ]
    }
  ],
  "metadata": {
    "colab": {
      "provenance": []
    },
    "kernelspec": {
      "display_name": "Python 3",
      "name": "python3"
    },
    "language_info": {
      "codemirror_mode": {
        "name": "ipython",
        "version": 3
      },
      "file_extension": ".py",
      "mimetype": "text/x-python",
      "name": "python",
      "nbconvert_exporter": "python",
      "pygments_lexer": "ipython3",
      "version": "3.9.7"
    }
  },
  "nbformat": 4,
  "nbformat_minor": 0
}
