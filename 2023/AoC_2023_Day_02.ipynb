{
  "cells": [
    {
      "cell_type": "markdown",
      "metadata": {
        "id": "s26lgnR0qYD8"
      },
      "source": [
        "# **Day2**: *Cube Conundrum*"
      ]
    },
    {
      "cell_type": "markdown",
      "metadata": {
        "id": "WWy4ZoJxibxM"
      },
      "source": [
        "## Part 1\n",
        "\n",
        "You're launched high into the atmosphere! The apex of your trajectory just barely reaches the surface of a large island floating in the sky. You gently land in a fluffy pile of leaves. It's quite cold, but you don't see much snow. An Elf runs over to greet you.\n",
        "\n",
        "The Elf explains that you've arrived at Snow Island and apologizes for the lack of snow. He'll be happy to explain the situation, but it's a bit of a walk, so you have some time. They don't get many visitors up here; would you like to play a game in the meantime?\n",
        "\n",
        "As you walk, the Elf shows you a small bag and some cubes which are either red, green, or blue. Each time you play this game, he will hide a secret number of cubes of each color in the bag, and your goal is to figure out information about the number of cubes.\n",
        "\n",
        "To get information, once a bag has been loaded with cubes, the Elf will reach into the bag, grab a handful of random cubes, show them to you, and then put them back in the bag. He'll do this a few times per game.\n",
        "\n",
        "You play several games and record the information from each game (your puzzle input). Each game is listed with its ID number (like the 11 in Game 11: ...) followed by a semicolon-separated list of subsets of cubes that were revealed from the bag (like 3 red, 5 green, 4 blue).\n",
        "\n",
        "For example, the record of a few games might look like this:\n",
        "\n",
        "```\n",
        "Game 1: 3 blue, 4 red; 1 red, 2 green, 6 blue; 2 green\n",
        "Game 2: 1 blue, 2 green; 3 green, 4 blue, 1 red; 1 green, 1 blue\n",
        "Game 3: 8 green, 6 blue, 20 red; 5 blue, 4 red, 13 green; 5 green, 1 red\n",
        "Game 4: 1 green, 3 red, 6 blue; 3 green, 6 red; 3 green, 15 blue, 14 red\n",
        "Game 5: 6 red, 1 blue, 3 green; 2 blue, 1 red, 2 green\n",
        "```\n",
        "\n",
        "In game 1, three sets of cubes are revealed from the bag (and then put back again). The first set is 3 blue cubes and 4 red cubes; the second set is 1 red cube, 2 green cubes, and 6 blue cubes; the third set is only 2 green cubes.\n",
        "\n",
        "The Elf would first like to know which games would have been possible if the bag contained only 12 red cubes, 13 green cubes, and 14 blue cubes?\n",
        "\n",
        "In the example above, games 1, 2, and 5 would have been possible if the bag had been loaded with that configuration. However, game 3 would have been impossible because at one point the Elf showed you 20 red cubes at once; similarly, game 4 would also have been impossible because the Elf showed you 15 blue cubes at once. If you add up the IDs of the games that would have been possible, you get 8.\n",
        "\n",
        "Determine which games would have been possible if the bag had been loaded with only 12 red cubes, 13 green cubes, and 14 blue cubes. What is the sum of the IDs of those games?"
      ]
    },
    {
      "cell_type": "markdown",
      "metadata": {},
      "source": [
        "### Solution"
      ]
    },
    {
      "cell_type": "code",
      "execution_count": 1,
      "metadata": {
        "id": "A71yXxtvikx5"
      },
      "outputs": [],
      "source": [
        "def calculate_sum_ids(input_string, condition_dict):\n",
        "    possible_game_ids = []\n",
        "    for line in input_string.splitlines():\n",
        "        game_id = int(line.split(': ')[0].split(' ')[-1])\n",
        "        game = line.split(': ')[-1]\n",
        "        game_possible = True\n",
        "\n",
        "        for round in game.split('; '):\n",
        "            for result in round.split(', '):\n",
        "                n, color = result.split(' ')\n",
        "                if int(n) > condition_dict[color]:\n",
        "                    game_possible = False\n",
        "\n",
        "        if game_possible:\n",
        "            possible_game_ids.append(game_id)\n",
        "\n",
        "    return sum(possible_game_ids)\n"
      ]
    },
    {
      "cell_type": "markdown",
      "metadata": {},
      "source": [
        "### Example"
      ]
    },
    {
      "cell_type": "code",
      "execution_count": 2,
      "metadata": {
        "colab": {
          "base_uri": "https://localhost:8080/"
        },
        "id": "rrrVrtn8jbr1",
        "outputId": "bd98a9f7-aed8-4fc6-e1b1-e8a0172e6fe7"
      },
      "outputs": [
        {
          "data": {
            "text/plain": [
              "8"
            ]
          },
          "execution_count": 2,
          "metadata": {},
          "output_type": "execute_result"
        }
      ],
      "source": [
        "input_string = \"\"\"Game 1: 3 blue, 4 red; 1 red, 2 green, 6 blue; 2 green\n",
        "Game 2: 1 blue, 2 green; 3 green, 4 blue, 1 red; 1 green, 1 blue\n",
        "Game 3: 8 green, 6 blue, 20 red; 5 blue, 4 red, 13 green; 5 green, 1 red\n",
        "Game 4: 1 green, 3 red, 6 blue; 3 green, 6 red; 3 green, 15 blue, 14 red\n",
        "Game 5: 6 red, 1 blue, 3 green; 2 blue, 1 red, 2 green\"\"\"\n",
        "\n",
        "condition_dict = {\n",
        "    'red': 12,\n",
        "    'green': 13,\n",
        "    'blue': 14,\n",
        "}\n",
        "\n",
        "calculate_sum_ids(input_string, condition_dict)"
      ]
    },
    {
      "cell_type": "markdown",
      "metadata": {},
      "source": [
        "### Submission"
      ]
    },
    {
      "cell_type": "code",
      "execution_count": 3,
      "metadata": {
        "cellView": "form",
        "colab": {
          "base_uri": "https://localhost:8080/"
        },
        "id": "-ZJgJqiCj06w",
        "outputId": "ff8fddf4-9886-429e-f2b4-82a9af1ff0a5"
      },
      "outputs": [
        {
          "data": {
            "text/plain": [
              "2239"
            ]
          },
          "execution_count": 3,
          "metadata": {},
          "output_type": "execute_result"
        }
      ],
      "source": [
        "with open('input/day02.txt', 'r') as file:\n",
        "    input_string = file.read()\n",
        "\n",
        "condition_dict = {\n",
        "    'red': 12,\n",
        "    'green': 13,\n",
        "    'blue': 14,\n",
        "}\n",
        "\n",
        "calculate_sum_ids(input_string, condition_dict)\n"
      ]
    },
    {
      "cell_type": "markdown",
      "metadata": {
        "id": "PBKvsIgiqSxU"
      },
      "source": [
        "## Part 2\n",
        "\n",
        "The Elf says they've stopped producing snow because they aren't getting any water! He isn't sure why the water stopped; however, he can show you how to get to the water source to check it out for yourself. It's just up ahead!\n",
        "\n",
        "As you continue your walk, the Elf poses a second question: in each game you played, what is the fewest number of cubes of each color that could have been in the bag to make the game possible?\n",
        "\n",
        "Again consider the example games from earlier:\n",
        "\n",
        "```\n",
        "Game 1: 3 blue, 4 red; 1 red, 2 green, 6 blue; 2 green\n",
        "Game 2: 1 blue, 2 green; 3 green, 4 blue, 1 red; 1 green, 1 blue\n",
        "Game 3: 8 green, 6 blue, 20 red; 5 blue, 4 red, 13 green; 5 green, 1 red\n",
        "Game 4: 1 green, 3 red, 6 blue; 3 green, 6 red; 3 green, 15 blue, 14 red\n",
        "Game 5: 6 red, 1 blue, 3 green; 2 blue, 1 red, 2 green\n",
        "```\n",
        "\n",
        "- Game 1 could have been played with as few as 4 red, 2 green, and 6 blue cubes. If any color had even one fewer cube, the game would have been impossible.\n",
        "- Game 2 could have been played with a minimum of 1 red, 3 green, and 4 blue cubes.\n",
        "-Game 3 must have been played with at least 20 red, 13 green, and 6 blue cubes.\n",
        "-Game 4 required at least 14 red, 3 green, and 15 blue cubes.\n",
        "-Game 5 needed no fewer than 6 red, 3 green, and 2 blue cubes in the bag.\n",
        "\n",
        "The power of a set of cubes is equal to the numbers of red, green, and blue cubes multiplied together. The power of the minimum set of cubes in game 1 is 48. In games 2-5 it was 12, 1560, 630, and 36, respectively. Adding up these five powers produces the sum 2286.\n",
        "\n",
        "For each game, find the minimum set of cubes that must have been present. What is the sum of the power of these sets?"
      ]
    },
    {
      "cell_type": "markdown",
      "metadata": {},
      "source": [
        "### Solution"
      ]
    },
    {
      "cell_type": "code",
      "execution_count": 4,
      "metadata": {
        "id": "8KI9ocTcplL8"
      },
      "outputs": [],
      "source": [
        "import math\n",
        "\n",
        "def calculate_power(input_string):\n",
        "    game_powers = []\n",
        "    for line in input_string.splitlines():\n",
        "        game_id = int(line.split(': ')[0].split(' ')[-1])\n",
        "        game = line.split(': ')[-1]\n",
        "        game_possible = True\n",
        "\n",
        "        minimum_dice = {\n",
        "            'red': 0,\n",
        "            'green': 0,\n",
        "            'blue': 0,\n",
        "        }\n",
        "\n",
        "        for round in game.split('; '):\n",
        "            for result in round.split(', '):\n",
        "                n, color = result.split(' ')\n",
        "                n = int(n)\n",
        "                if n > minimum_dice[color]:\n",
        "                    minimum_dice[color] = n\n",
        "\n",
        "        game_powers.append(math.prod(minimum_dice.values()))\n",
        "\n",
        "    return sum(game_powers)\n"
      ]
    },
    {
      "cell_type": "markdown",
      "metadata": {},
      "source": [
        "### Example"
      ]
    },
    {
      "cell_type": "code",
      "execution_count": 5,
      "metadata": {
        "colab": {
          "base_uri": "https://localhost:8080/"
        },
        "id": "kisQ1zPlq-Xa",
        "outputId": "e0b23821-a192-4712-af06-5c2e72c88a96"
      },
      "outputs": [
        {
          "data": {
            "text/plain": [
              "2286"
            ]
          },
          "execution_count": 5,
          "metadata": {},
          "output_type": "execute_result"
        }
      ],
      "source": [
        "input_string = \"\"\"Game 1: 3 blue, 4 red; 1 red, 2 green, 6 blue; 2 green\n",
        "Game 2: 1 blue, 2 green; 3 green, 4 blue, 1 red; 1 green, 1 blue\n",
        "Game 3: 8 green, 6 blue, 20 red; 5 blue, 4 red, 13 green; 5 green, 1 red\n",
        "Game 4: 1 green, 3 red, 6 blue; 3 green, 6 red; 3 green, 15 blue, 14 red\n",
        "Game 5: 6 red, 1 blue, 3 green; 2 blue, 1 red, 2 green\"\"\"\n",
        "\n",
        "\n",
        "calculate_power(input_string)"
      ]
    },
    {
      "cell_type": "markdown",
      "metadata": {},
      "source": [
        "### Submission"
      ]
    },
    {
      "cell_type": "code",
      "execution_count": 6,
      "metadata": {
        "cellView": "form",
        "colab": {
          "base_uri": "https://localhost:8080/"
        },
        "id": "waAC3lNSrgTK",
        "outputId": "01708a35-55a9-473a-e0a8-a347c7bbc99d"
      },
      "outputs": [
        {
          "data": {
            "text/plain": [
              "83435"
            ]
          },
          "execution_count": 6,
          "metadata": {},
          "output_type": "execute_result"
        }
      ],
      "source": [
        "with open('input/day02.txt', 'r') as file:\n",
        "    input_string = file.read()\n",
        "\n",
        "calculate_power(input_string)\n"
      ]
    }
  ],
  "metadata": {
    "colab": {
      "provenance": []
    },
    "kernelspec": {
      "display_name": "Python 3",
      "name": "python3"
    },
    "language_info": {
      "codemirror_mode": {
        "name": "ipython",
        "version": 3
      },
      "file_extension": ".py",
      "mimetype": "text/x-python",
      "name": "python",
      "nbconvert_exporter": "python",
      "pygments_lexer": "ipython3",
      "version": "3.9.7"
    }
  },
  "nbformat": 4,
  "nbformat_minor": 0
}
