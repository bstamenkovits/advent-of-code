{
 "cells": [
  {
   "cell_type": "markdown",
   "metadata": {},
   "source": [
    "# **Day19**: *Alpenty*"
   ]
  },
  {
   "cell_type": "markdown",
   "metadata": {},
   "source": [
    "## Part 1\n",
    "\n",
    "The Elves of Gear Island are thankful for your help and send you on your way. They even have a hang glider that someone stole from Desert Island; since you're already going that direction, it would help them a lot if you would use it to get down there and return it to them.\n",
    "\n",
    "As you reach the bottom of the relentless avalanche of machine parts, you discover that they're already forming a formidable heap. Don't worry, though - a group of Elves is already here organizing the parts, and they have a system.\n",
    "\n",
    "To start, each part is rated in each of four categories:\n",
    "\n",
    "x: Extremely cool looking\n",
    "m: Musical (it makes a noise when you hit it)\n",
    "a: Aerodynamic\n",
    "s: Shiny\n",
    "Then, each part is sent through a series of workflows that will ultimately accept or reject the part. Each workflow has a name and contains a list of rules; each rule specifies a condition and where to send the part if the condition is true. The first rule that matches the part being considered is applied immediately, and the part moves on to the destination described by the rule. (The last rule in each workflow has no condition and always applies if reached.)\n",
    "\n",
    "Consider the workflow ex{x>10:one,m<20:two,a>30:R,A}. This workflow is named ex and contains four rules. If workflow ex were considering a specific part, it would perform the following steps in order:\n",
    "\n",
    "- Rule \"x>10:one\": If the part's x is more than 10, send the part to the workflow named one.\n",
    "- Rule \"m<20:two\": Otherwise, if the part's m is less than 20, send the part to the workflow named two.\n",
    "- Rule \"a>30:R\": Otherwise, if the part's a is more than 30, the part is immediately rejected (R).\n",
    "- Rule \"A\": Otherwise, because no other rules matched the part, the part is immediately accepted (A).\n",
    "\n",
    "If a part is sent to another workflow, it immediately switches to the start of that workflow instead and never returns. If a part is accepted (sent to A) or rejected (sent to R), the part immediately stops any further processing.\n",
    "\n",
    "The system works, but it's not keeping up with the torrent of weird metal shapes. The Elves ask if you can help sort a few parts and give you the list of workflows and some part ratings (your puzzle input). For example:\n",
    "\n",
    "```\n",
    "px{a<2006:qkq,m>2090:A,rfg}\n",
    "pv{a>1716:R,A}\n",
    "lnx{m>1548:A,A}\n",
    "rfg{s<537:gd,x>2440:R,A}\n",
    "qs{s>3448:A,lnx}\n",
    "qkq{x<1416:A,crn}\n",
    "crn{x>2662:A,R}\n",
    "in{s<1351:px,qqz}\n",
    "qqz{s>2770:qs,m<1801:hdj,R}\n",
    "gd{a>3333:R,R}\n",
    "hdj{m>838:A,pv}\n",
    "\n",
    "{x=787,m=2655,a=1222,s=2876}\n",
    "{x=1679,m=44,a=2067,s=496}\n",
    "{x=2036,m=264,a=79,s=2244}\n",
    "{x=2461,m=1339,a=466,s=291}\n",
    "{x=2127,m=1623,a=2188,s=1013}\n",
    "```\n",
    "The workflows are listed first, followed by a blank line, then the ratings of the parts the Elves would like you to sort. All parts begin in the workflow named in. In this example, the five listed parts go through the following workflows:\n",
    "\n",
    "- {x=787,m=2655,a=1222,s=2876}: in -> qqz -> qs -> lnx -> A\n",
    "- {x=1679,m=44,a=2067,s=496}: in -> px -> rfg -> gd -> R\n",
    "- {x=2036,m=264,a=79,s=2244}: in -> qqz -> hdj -> pv -> A\n",
    "- {x=2461,m=1339,a=466,s=291}: in -> px -> qkq -> crn -> R\n",
    "- {x=2127,m=1623,a=2188,s=1013}: in -> px -> rfg -> A\n",
    "\n",
    "Ultimately, three parts are accepted. Adding up the x, m, a, and s rating for each of the accepted parts gives 7540 for the part with x=787, 4623 for the part with x=2036, and 6951 for the part with x=2127. Adding all of the ratings for all of the accepted parts gives the sum total of 19114.\n",
    "\n",
    "Sort through all of the parts you've been given; what do you get if you add together all of the rating numbers for all of the parts that ultimately get accepted?"
   ]
  },
  {
   "cell_type": "markdown",
   "metadata": {},
   "source": [
    "### Solution"
   ]
  },
  {
   "cell_type": "code",
   "execution_count": 52,
   "metadata": {},
   "outputs": [],
   "source": [
    "def execute_workflow(input_data, workflow_name, workflow_map):\n",
    "    x, m, a, s = tuple(int(string.split('=')[1]) for string in input_data)\n",
    "    workflow = workflow_map[workflow_name]\n",
    "        \n",
    "    for condition, result in workflow:\n",
    "        if eval(condition):\n",
    "            if result == 'A':\n",
    "                return sum((x,m,a,s))\n",
    "            elif result == 'R':\n",
    "                return 0\n",
    "            else:\n",
    "                return execute_workflow(input_data, result, workflow_map)"
   ]
  },
  {
   "cell_type": "code",
   "execution_count": 57,
   "metadata": {},
   "outputs": [],
   "source": [
    "def my_func(input_string):\n",
    "    instructions, data = input_string.split('\\n\\n')\n",
    "    \n",
    "    workflow_map = {}\n",
    "    for instruction in instructions.split('\\n'):\n",
    "        workflow, steps = instruction.split('{')\n",
    "        \n",
    "        workflow_map[workflow] = []\n",
    "        \n",
    "        steps = steps[:-1].split(',')\n",
    "        for step in steps:\n",
    "            if ':' in step:\n",
    "                condition, result = step.split(':')\n",
    "                workflow_map[workflow].append((condition, result))    \n",
    "            else:\n",
    "                workflow_map[workflow].append(('True', step))    \n",
    "    \n",
    "    rating = 0\n",
    "    for input_data in data.split('\\n'):\n",
    "        input_data = input_data[1:-1].split(',')\n",
    "        result = execute_workflow(input_data, 'in', workflow_map)\n",
    "        rating += result\n",
    "        \n",
    "    return rating\n",
    "        \n",
    "    \n"
   ]
  },
  {
   "cell_type": "markdown",
   "metadata": {},
   "source": [
    "### Example"
   ]
  },
  {
   "cell_type": "code",
   "execution_count": 58,
   "metadata": {},
   "outputs": [
    {
     "data": {
      "text/plain": [
       "19114"
      ]
     },
     "execution_count": 58,
     "metadata": {},
     "output_type": "execute_result"
    }
   ],
   "source": [
    "input_string = \"\"\"px{a<2006:qkq,m>2090:A,rfg}\n",
    "pv{a>1716:R,A}\n",
    "lnx{m>1548:A,A}\n",
    "rfg{s<537:gd,x>2440:R,A}\n",
    "qs{s>3448:A,lnx}\n",
    "qkq{x<1416:A,crn}\n",
    "crn{x>2662:A,R}\n",
    "in{s<1351:px,qqz}\n",
    "qqz{s>2770:qs,m<1801:hdj,R}\n",
    "gd{a>3333:R,R}\n",
    "hdj{m>838:A,pv}\n",
    "\n",
    "{x=787,m=2655,a=1222,s=2876}\n",
    "{x=1679,m=44,a=2067,s=496}\n",
    "{x=2036,m=264,a=79,s=2244}\n",
    "{x=2461,m=1339,a=466,s=291}\n",
    "{x=2127,m=1623,a=2188,s=1013}\"\"\"\n",
    "\n",
    "\n",
    "my_func(input_string)\n"
   ]
  },
  {
   "cell_type": "markdown",
   "metadata": {},
   "source": [
    "### Submission"
   ]
  },
  {
   "cell_type": "code",
   "execution_count": 59,
   "metadata": {},
   "outputs": [
    {
     "data": {
      "text/plain": [
       "397134"
      ]
     },
     "execution_count": 59,
     "metadata": {},
     "output_type": "execute_result"
    }
   ],
   "source": [
    "with open('input/day19.txt', 'r') as file:\n",
    "    input_string = file.read()\n",
    "\n",
    "my_func(input_string)\n"
   ]
  },
  {
   "cell_type": "markdown",
   "metadata": {},
   "source": [
    "## Part 2\n",
    "\n",
    "Even with your help, the sorting process still isn't fast enough.\n",
    "\n",
    "One of the Elves comes up with a new plan: rather than sort parts individually through all of these workflows, maybe you can figure out in advance which combinations of ratings will be accepted or rejected.\n",
    "\n",
    "Each of the four ratings (x, m, a, s) can have an integer value ranging from a minimum of 1 to a maximum of 4000. Of all possible distinct combinations of ratings, your job is to figure out which ones will be accepted.\n",
    "\n",
    "In the above example, there are 167409079868000 distinct combinations of ratings that will be accepted.\n",
    "\n",
    "Consider only your list of workflows; the list of part ratings that the Elves wanted you to sort is no longer relevant. How many distinct combinations of ratings will be accepted by the Elves' workflows?"
   ]
  },
  {
   "cell_type": "markdown",
   "metadata": {},
   "source": [
    "### Solution"
   ]
  },
  {
   "cell_type": "code",
   "execution_count": 16,
   "metadata": {},
   "outputs": [],
   "source": [
    "def get_ranges(ranges, workflow_name, workflow_map, path=[]):\n",
    "    x, m, a, s = ranges\n",
    "    path.append(workflow_name)\n",
    "    combinations = []\n",
    "    \n",
    "    range_map = {'x':x, 'm':m, 'a':a, 's':s}\n",
    "    workflow = workflow_map[workflow_name]\n",
    "    for condition, result in workflow:\n",
    "        if result in 'AR':\n",
    "            path.append(result)\n",
    "            combinations.append(path.copy())\n",
    "        else:\n",
    "            _range = range_map[condition[0]]\n",
    "            operator = condition[1]\n",
    "            \n",
    "            combinations.extend(get_ranges(result, workflow_map, path))\n",
    "    \n",
    "    path.pop()\n",
    "    \n",
    "    return combinations"
   ]
  },
  {
   "cell_type": "code",
   "execution_count": 17,
   "metadata": {},
   "outputs": [],
   "source": [
    "def my_func(input_string):\n",
    "    instructions, _ = input_string.split('\\n\\n')\n",
    "    \n",
    "    workflow_map = {}\n",
    "    for instruction in instructions.split('\\n'):\n",
    "        workflow, steps = instruction.split('{')\n",
    "        \n",
    "        workflow_map[workflow] = []\n",
    "        \n",
    "        steps = steps[:-1].split(',')\n",
    "        for step in steps:\n",
    "            if ':' in step:\n",
    "                condition, result = step.split(':')\n",
    "                workflow_map[workflow].append((condition, result))    \n",
    "            else:\n",
    "                workflow_map[workflow].append(('True', step)) \n",
    "    \n",
    "    \n",
    "    ranges = ([0, 4000], [0, 4000], [0, 4000], [0, 4000])\n",
    "    \n",
    "    for comb in get_ranges(ranges, 'in', workflow_map, []): print(comb)\n",
    "    print()\n",
    "                \n",
    "    "
   ]
  },
  {
   "cell_type": "markdown",
   "metadata": {},
   "source": [
    "### Example"
   ]
  },
  {
   "cell_type": "code",
   "execution_count": 18,
   "metadata": {},
   "outputs": [
    {
     "ename": "ValueError",
     "evalue": "not enough values to unpack (expected 4, got 2)",
     "output_type": "error",
     "traceback": [
      "\u001b[1;31m---------------------------------------------------------------------------\u001b[0m",
      "\u001b[1;31mValueError\u001b[0m                                Traceback (most recent call last)",
      "Cell \u001b[1;32mIn[18], line 19\u001b[0m\n\u001b[0;32m      1\u001b[0m input_string \u001b[38;5;241m=\u001b[39m \u001b[38;5;124m\"\"\"\u001b[39m\u001b[38;5;124mpx\u001b[39m\u001b[38;5;124m{\u001b[39m\u001b[38;5;124ma<2006:qkq,m>2090:A,rfg}\u001b[39m\n\u001b[0;32m      2\u001b[0m \u001b[38;5;124mpv\u001b[39m\u001b[38;5;124m{\u001b[39m\u001b[38;5;124ma>1716:R,A}\u001b[39m\n\u001b[0;32m      3\u001b[0m \u001b[38;5;124mlnx\u001b[39m\u001b[38;5;124m{\u001b[39m\u001b[38;5;124mm>1548:A,A}\u001b[39m\n\u001b[1;32m   (...)\u001b[0m\n\u001b[0;32m     16\u001b[0m \u001b[38;5;124m{\u001b[39m\u001b[38;5;124mx=2461,m=1339,a=466,s=291}\u001b[39m\n\u001b[0;32m     17\u001b[0m \u001b[38;5;124m{\u001b[39m\u001b[38;5;124mx=2127,m=1623,a=2188,s=1013}\u001b[39m\u001b[38;5;124m\"\"\"\u001b[39m\n\u001b[1;32m---> 19\u001b[0m \u001b[43mmy_func\u001b[49m\u001b[43m(\u001b[49m\u001b[43minput_string\u001b[49m\u001b[43m)\u001b[49m\n",
      "Cell \u001b[1;32mIn[17], line 21\u001b[0m, in \u001b[0;36mmy_func\u001b[1;34m(input_string)\u001b[0m\n\u001b[0;32m     16\u001b[0m             workflow_map[workflow]\u001b[38;5;241m.\u001b[39mappend((\u001b[38;5;124m'\u001b[39m\u001b[38;5;124mTrue\u001b[39m\u001b[38;5;124m'\u001b[39m, step)) \n\u001b[0;32m     19\u001b[0m ranges \u001b[38;5;241m=\u001b[39m ([\u001b[38;5;241m0\u001b[39m, \u001b[38;5;241m4000\u001b[39m], [\u001b[38;5;241m0\u001b[39m, \u001b[38;5;241m4000\u001b[39m], [\u001b[38;5;241m0\u001b[39m, \u001b[38;5;241m4000\u001b[39m], [\u001b[38;5;241m0\u001b[39m, \u001b[38;5;241m4000\u001b[39m])\n\u001b[1;32m---> 21\u001b[0m \u001b[38;5;28;01mfor\u001b[39;00m comb \u001b[38;5;129;01min\u001b[39;00m \u001b[43mget_ranges\u001b[49m\u001b[43m(\u001b[49m\u001b[43mranges\u001b[49m\u001b[43m,\u001b[49m\u001b[43m \u001b[49m\u001b[38;5;124;43m'\u001b[39;49m\u001b[38;5;124;43min\u001b[39;49m\u001b[38;5;124;43m'\u001b[39;49m\u001b[43m,\u001b[49m\u001b[43m \u001b[49m\u001b[43mworkflow_map\u001b[49m\u001b[43m,\u001b[49m\u001b[43m \u001b[49m\u001b[43m[\u001b[49m\u001b[43m]\u001b[49m\u001b[43m)\u001b[49m: \u001b[38;5;28mprint\u001b[39m(comb)\n\u001b[0;32m     22\u001b[0m \u001b[38;5;28mprint\u001b[39m()\n",
      "Cell \u001b[1;32mIn[16], line 12\u001b[0m, in \u001b[0;36mget_ranges\u001b[1;34m(ranges, workflow_name, workflow_map, path)\u001b[0m\n\u001b[0;32m     10\u001b[0m         combinations\u001b[38;5;241m.\u001b[39mappend(path\u001b[38;5;241m.\u001b[39mcopy())\n\u001b[0;32m     11\u001b[0m     \u001b[38;5;28;01melse\u001b[39;00m:\n\u001b[1;32m---> 12\u001b[0m         combinations\u001b[38;5;241m.\u001b[39mextend(\u001b[43mget_ranges\u001b[49m\u001b[43m(\u001b[49m\u001b[43mresult\u001b[49m\u001b[43m,\u001b[49m\u001b[43m \u001b[49m\u001b[43mworkflow_map\u001b[49m\u001b[43m,\u001b[49m\u001b[43m \u001b[49m\u001b[43mpath\u001b[49m\u001b[43m)\u001b[49m)\n\u001b[0;32m     14\u001b[0m path\u001b[38;5;241m.\u001b[39mpop()\n\u001b[0;32m     16\u001b[0m \u001b[38;5;28;01mreturn\u001b[39;00m combinations\n",
      "Cell \u001b[1;32mIn[16], line 2\u001b[0m, in \u001b[0;36mget_ranges\u001b[1;34m(ranges, workflow_name, workflow_map, path)\u001b[0m\n\u001b[0;32m      1\u001b[0m \u001b[38;5;28;01mdef\u001b[39;00m \u001b[38;5;21mget_ranges\u001b[39m(ranges, workflow_name, workflow_map, path\u001b[38;5;241m=\u001b[39m[]):\n\u001b[1;32m----> 2\u001b[0m     x, m, a, s \u001b[38;5;241m=\u001b[39m ranges\n\u001b[0;32m      3\u001b[0m     path\u001b[38;5;241m.\u001b[39mappend(workflow_name)\n\u001b[0;32m      4\u001b[0m     combinations \u001b[38;5;241m=\u001b[39m []\n",
      "\u001b[1;31mValueError\u001b[0m: not enough values to unpack (expected 4, got 2)"
     ]
    }
   ],
   "source": [
    "input_string = \"\"\"px{a<2006:qkq,m>2090:A,rfg}\n",
    "pv{a>1716:R,A}\n",
    "lnx{m>1548:A,A}\n",
    "rfg{s<537:gd,x>2440:R,A}\n",
    "qs{s>3448:A,lnx}\n",
    "qkq{x<1416:A,crn}\n",
    "crn{x>2662:A,R}\n",
    "in{s<1351:px,qqz}\n",
    "qqz{s>2770:qs,m<1801:hdj,R}\n",
    "gd{a>3333:R,R}\n",
    "hdj{m>838:A,pv}\n",
    "\n",
    "{x=787,m=2655,a=1222,s=2876}\n",
    "{x=1679,m=44,a=2067,s=496}\n",
    "{x=2036,m=264,a=79,s=2244}\n",
    "{x=2461,m=1339,a=466,s=291}\n",
    "{x=2127,m=1623,a=2188,s=1013}\"\"\"\n",
    "\n",
    "my_func(input_string)\n"
   ]
  },
  {
   "cell_type": "markdown",
   "metadata": {},
   "source": [
    "### Submission"
   ]
  },
  {
   "cell_type": "code",
   "execution_count": null,
   "metadata": {},
   "outputs": [],
   "source": [
    "with open('input/day00.txt', 'r') as file:\n",
    "    input_string = file.read()\n",
    "\n",
    "\n",
    "my_func(input_string)\n"
   ]
  }
 ],
 "metadata": {
  "kernelspec": {
   "display_name": ".venv",
   "language": "python",
   "name": "python3"
  },
  "language_info": {
   "codemirror_mode": {
    "name": "ipython",
    "version": 3
   },
   "file_extension": ".py",
   "mimetype": "text/x-python",
   "name": "python",
   "nbconvert_exporter": "python",
   "pygments_lexer": "ipython3",
   "version": "3.11.4"
  }
 },
 "nbformat": 4,
 "nbformat_minor": 2
}
