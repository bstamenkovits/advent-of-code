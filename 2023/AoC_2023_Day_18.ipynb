{
 "cells": [
  {
   "cell_type": "markdown",
   "metadata": {},
   "source": [
    "# **Day18**: *Lavaduct Lagoon*"
   ]
  },
  {
   "cell_type": "markdown",
   "metadata": {},
   "source": [
    "## Part 1\n",
    "Thanks to your efforts, the machine parts factory is one of the first factories up and running since the lavafall came back. However, to catch up with the large backlog of parts requests, the factory will also need a large supply of lava for a while; the Elves have already started creating a large lagoon nearby for this purpose.\n",
    "\n",
    "However, they aren't sure the lagoon will be big enough; they've asked you to take a look at the dig plan (your puzzle input). For example:\n",
    "\n",
    "```\n",
    "R 6 (#70c710)\n",
    "D 5 (#0dc571)\n",
    "L 2 (#5713f0)\n",
    "D 2 (#d2c081)\n",
    "R 2 (#59c680)\n",
    "D 2 (#411b91)\n",
    "L 5 (#8ceee2)\n",
    "U 2 (#caa173)\n",
    "L 1 (#1b58a2)\n",
    "U 2 (#caa171)\n",
    "R 2 (#7807d2)\n",
    "U 3 (#a77fa3)\n",
    "L 2 (#015232)\n",
    "U 2 (#7a21e3)\n",
    "```\n",
    "\n",
    "The digger starts in a 1 meter cube hole in the ground. They then dig the specified number of meters up (U), down (D), left (L), or right (R), clearing full 1 meter cubes as they go. The directions are given as seen from above, so if \"up\" were north, then \"right\" would be east, and so on. Each trench is also listed with the color that the edge of the trench should be painted as an RGB hexadecimal color code.\n",
    "\n",
    "When viewed from above, the above example dig plan would result in the following loop of trench (#) having been dug out from otherwise ground-level terrain (.):\n",
    "\n",
    "```\n",
    "#######\n",
    "#.....#\n",
    "###...#\n",
    "..#...#\n",
    "..#...#\n",
    "###.###\n",
    "#...#..\n",
    "##..###\n",
    ".#....#\n",
    ".######\n",
    "```\n",
    "\n",
    "At this point, the trench could contain 38 cubic meters of lava. However, this is just the edge of the lagoon; the next step is to dig out the interior so that it is one meter deep as well:\n",
    "\n",
    "```\n",
    "#######\n",
    "#######\n",
    "#######\n",
    "..#####\n",
    "..#####\n",
    "#######\n",
    "#####..\n",
    "#######\n",
    ".######\n",
    ".######\n",
    "```\n",
    "\n",
    "Now, the lagoon can contain a much more respectable 62 cubic meters of lava. While the interior is dug out, the edges are also painted according to the color codes in the dig plan.\n",
    "\n",
    "The Elves are concerned the lagoon won't be large enough; if they follow their dig plan, how many cubic meters of lava could it hold?"
   ]
  },
  {
   "cell_type": "markdown",
   "metadata": {},
   "source": [
    "### Solution"
   ]
  },
  {
   "cell_type": "code",
   "execution_count": 39,
   "metadata": {},
   "outputs": [
    {
     "data": {
      "text/plain": [
       "False"
      ]
     },
     "execution_count": 39,
     "metadata": {},
     "output_type": "execute_result"
    }
   ],
   "source": [
    "def ccw(A,B,C):\n",
    "    \"\"\"Check if points A, B, and C are counter clockwise\"\"\"\n",
    "    ax, ay = A\n",
    "    bx, by = B\n",
    "    cx, cy = C\n",
    "    return (cy-ay) * (bx-ax) > (by-ay) * (cx-ax)\n",
    "\n",
    "def intersect(line1, line2):\n",
    "    \"\"\"Check whether line1 and line2 intersect\"\"\"\n",
    "    A, B = line1\n",
    "    C, D = line2\n",
    "    \n",
    "    return ccw(A,C,D) != ccw(B,C,D) and ccw(A,B,C) != ccw(A,B,D)\n",
    "\n",
    "def distance(A, B):\n",
    "    \"\"\"Calculates distance between two points\"\"\"\n",
    "    ax, ay = A\n",
    "    bx, by = B\n",
    "    return ((ax - bx)**2 + (ay - by)**2)**0.5\n",
    "\n",
    "def is_on_line(line, point):\n",
    "    \"\"\"Check whether a point is on the line\"\"\"\n",
    "    A, B = line\n",
    "    C = point\n",
    "    return distance(A,C) + distance(C,B) == distance(A,B)\n",
    "\n",
    "\n",
    "p1 = (0, 2)\n",
    "p2 = (2, 2)\n",
    "p3 = (0, 2)\n",
    "p4 = (3, 2)\n",
    "\n",
    "line1 = (p1, p2)\n",
    "line2 = (p3, p4)\n",
    "\n",
    "intersect(line1, line2)"
   ]
  },
  {
   "cell_type": "code",
   "execution_count": null,
   "metadata": {},
   "outputs": [],
   "source": []
  },
  {
   "cell_type": "code",
   "execution_count": 40,
   "metadata": {},
   "outputs": [],
   "source": [
    "def calculate_area(input_string):\n",
    "    lines = input_string.splitlines()\n",
    "    instructions = [tuple(line.split(' ')[:2]) for line in lines]\n",
    "\n",
    "    direction_map = {'U': (0, -1), 'D': (0, 1), 'R': (1, 0), 'L': (-1, 0)}\n",
    "    \n",
    "    x, y = 0, 0\n",
    "    vertices = [(x, y)] \n",
    "    for direction, distance in instructions:\n",
    "        dx, dy = direction_map[direction] \n",
    "        x += dx*int(distance)\n",
    "        y += dy*int(distance)\n",
    "        vertices.append((x, y))\n",
    "\n",
    "\n",
    "    lines = []\n",
    "    for i in range(len(vertices)-1):\n",
    "        lines.append((vertices[i], vertices[i+1]))\n",
    "\n",
    "    x, y = zip(*vertices)\n",
    "    xmax = max(x)+1\n",
    "    ymax = max(y)+1\n",
    "\n",
    "    grid = [['.' for _ in range(xmax)] for _ in range(ymax)] \n",
    "\n",
    "    area = 0\n",
    "    for x in range(xmax):\n",
    "        for y in range(ymax):\n",
    "            fill = False\n",
    "            point = (x, y)\n",
    "            ray = ((-1, y), point)\n",
    "            \n",
    "            count = 0\n",
    "            for line in lines:\n",
    "                if is_on_line(line, point):\n",
    "                    fill = True\n",
    "                    continue\n",
    "                if intersect(ray, line):\n",
    "                    count += 1\n",
    "            \n",
    "            if count % 2 != 0 or fill==True:\n",
    "                area += 1\n",
    "                grid[y][x] = '#'\n",
    "\n",
    "    return area\n"
   ]
  },
  {
   "cell_type": "code",
   "execution_count": 44,
   "metadata": {},
   "outputs": [],
   "source": [
    "import matplotlib.pyplot as plt\n",
    "from heapq import heappop, heappush\n",
    "\n",
    "def add(tuple1, tuple2):\n",
    "        return (tuple1[0]+tuple2[0], tuple1[1]+tuple2[1])\n",
    "\n",
    "def calculate_area(input_string, visualize=False):\n",
    "    lines = input_string.splitlines()\n",
    "    instructions = [tuple(line.split(' ')[:2]) for line in lines]\n",
    "\n",
    "    direction_map = {'U': (0, -1), 'D': (0, 1), 'R': (1, 0), 'L': (-1, 0)}\n",
    "    \n",
    "    position = (0, 0)\n",
    "    walls = [position]\n",
    "    for direction, distance in instructions:\n",
    "        step = direction_map[direction] \n",
    "        for _ in range(int(distance)):\n",
    "            position = add(position, step)\n",
    "            walls.append(position)\n",
    "            \n",
    "            \n",
    "    \n",
    "    \n",
    "    # open_positions = [(1,1)]\n",
    "    # closed_positions = []\n",
    "    \n",
    "    # area = [(1,1)]\n",
    "    # area.extend(walls)\n",
    "    \n",
    "    # while open_positions:\n",
    "    #     position = open_positions.pop(0)\n",
    "    #     closed_positions.append(position)\n",
    "    #     for direction in direction_map.values():\n",
    "    #         new_position = add(position, direction)\n",
    "    #         if new_position in walls or new_position in closed_positions:\n",
    "    #             continue\n",
    "    #         area.append(new_position)\n",
    "    #         open_positions.append(new_position)\n",
    "    \n",
    "    if visualize:\n",
    "        xdim = max(walls, key=lambda pos: pos[0])[0] + 1\n",
    "        ydim = max(walls, key=lambda pos: pos[1])[1] + 1 \n",
    "    \n",
    "        grid = [[0 for _ in range(xdim)] for _ in range(ydim)] \n",
    "        for x, y in walls:\n",
    "            print(x, y)\n",
    "            grid[y][x] = 1\n",
    "            \n",
    "        plt.imshow(grid, cmap='binary', interpolation='none')\n",
    "        plt.show()\n",
    "    \n",
    "    # return len(set(area))\n",
    "            \n",
    "            \n",
    "    \n",
    "    "
   ]
  },
  {
   "cell_type": "code",
   "execution_count": 116,
   "metadata": {},
   "outputs": [],
   "source": [
    "import numpy as np\n",
    "\n",
    "def area_irregular_polygon(x, y):\n",
    "    # x, y = map(list, list(zip(*vertices)))\n",
    "    \n",
    "    x.append(x[0])\n",
    "    y.append(y[0])\n",
    "    area = 0\n",
    "    for i in range(len(x)-1):\n",
    "        matrix = np.array([x[i:i+2], y[i:i+2]])\n",
    "        area += np.linalg.det(matrix)\n",
    "    \n",
    "    x.pop(-1)\n",
    "    y.pop(-1)\n",
    "    return area/2\n",
    "    \n",
    "    \n",
    "    \n",
    "# vertices = [\n",
    "#     (0, 0),\n",
    "#     (4, 0),\n",
    "#     (4, 2),\n",
    "#     (0, 2)\n",
    "# ]\n",
    "\n",
    "# area_irregular_polygon(vertices)"
   ]
  },
  {
   "cell_type": "code",
   "execution_count": 117,
   "metadata": {},
   "outputs": [],
   "source": [
    "def calculate_area(input_string):\n",
    "    lines = input_string.splitlines()\n",
    "    instructions = [tuple(line.split(' ')[:2]) for line in lines]\n",
    "\n",
    "    direction_map = {'U': (0, -1), 'D': (0, 1), 'R': (1, 0), 'L': (-1, 0)}\n",
    "    \n",
    "    # x, y = 0, 0\n",
    "    # vertices = [(x, y)] \n",
    "    # for direction, distance in instructions:\n",
    "    #     dx, dy = direction_map[direction] \n",
    "    #     x += dx*int(distance)\n",
    "    #     y += dy*int(distance)\n",
    "    #     vertices.append((x, y))\n",
    "        \n",
    "    # area_irregular_polygon(vertices)\n",
    "        \n",
    "    \n",
    "    xi, yi = 0, 0\n",
    "    x, y = [], []\n",
    "    \n",
    "    for direction, distance in instructions:\n",
    "        dx, dy = direction_map[direction]\n",
    "        for _ in range(int(distance)):\n",
    "            xi += dx\n",
    "            yi += dy\n",
    "            \n",
    "            x.append(xi)\n",
    "            y.append(yi)\n",
    "            \n",
    "    \n",
    "    \n",
    "    \n",
    "    xlim = (min(x), max(x)+1)\n",
    "    ylim = (min(y), max(y)+1)\n",
    "    \n",
    "    grid = [[0 for _ in range(*xlim)] for _ in range(*ylim)]        \n",
    "    for xi, yi in zip(x, y):\n",
    "        grid[yi][xi] = 1\n",
    "        \n",
    "    plt.imshow(grid, cmap='binary', interpolation='none')\n",
    "    plt.show()\n",
    "    \n",
    "    A = area_irregular_polygon(x, y)\n",
    "    b = len(x)  # -1 \n",
    "    area = A + b/2 + 1\n",
    "    return area\n",
    "        \n",
    "        \n",
    "    \n",
    "        "
   ]
  },
  {
   "cell_type": "markdown",
   "metadata": {},
   "source": [
    "### Example"
   ]
  },
  {
   "cell_type": "code",
   "execution_count": 118,
   "metadata": {},
   "outputs": [
    {
     "data": {
      "image/png": "[encoded data removed]",
      "text/plain": [
       "<Figure size 640x480 with 1 Axes>"
      ]
     },
     "metadata": {},
     "output_type": "display_data"
    },
    {
     "data": {
      "text/plain": [
       "62.0"
      ]
     },
     "execution_count": 118,
     "metadata": {},
     "output_type": "execute_result"
    }
   ],
   "source": [
    "input_string = \"\"\"R 6 (#70c710)\n",
    "D 5 (#0dc571)\n",
    "L 2 (#5713f0)\n",
    "D 2 (#d2c081)\n",
    "R 2 (#59c680)\n",
    "D 2 (#411b91)\n",
    "L 5 (#8ceee2)\n",
    "U 2 (#caa173)\n",
    "L 1 (#1b58a2)\n",
    "U 2 (#caa171)\n",
    "R 2 (#7807d2)\n",
    "U 3 (#a77fa3)\n",
    "L 2 (#015232)\n",
    "U 2 (#7a21e3)\"\"\"\n",
    "\n",
    "\n",
    "calculate_area(input_string)\n"
   ]
  },
  {
   "cell_type": "markdown",
   "metadata": {},
   "source": [
    "### Submission"
   ]
  },
  {
   "cell_type": "code",
   "execution_count": 119,
   "metadata": {},
   "outputs": [
    {
     "data": {
      "image/png": "[encoded data removed]",
      "text/plain": [
       "<Figure size 640x480 with 1 Axes>"
      ]
     },
     "metadata": {},
     "output_type": "display_data"
    },
    {
     "data": {
      "text/plain": [
       "56678.000000000044"
      ]
     },
     "execution_count": 119,
     "metadata": {},
     "output_type": "execute_result"
    }
   ],
   "source": [
    "with open('input/day18.txt', 'r') as file:\n",
    "    input_string = file.read()\n",
    "\n",
    "calculate_area(input_string)\n"
   ]
  },
  {
   "cell_type": "markdown",
   "metadata": {},
   "source": [
    "## Part 2\n",
    "\n",
    "text"
   ]
  },
  {
   "cell_type": "markdown",
   "metadata": {},
   "source": [
    "### Solution"
   ]
  },
  {
   "cell_type": "code",
   "execution_count": 128,
   "metadata": {},
   "outputs": [],
   "source": [
    "import numpy as np\n",
    "\n",
    "def area_irregular_polygon(vertices):\n",
    "    x, y = map(list, list(zip(*vertices)))\n",
    "    \n",
    "    x.append(x[0])\n",
    "    y.append(y[0])\n",
    "    area = 0\n",
    "    for i in range(len(x)-1):\n",
    "        matrix = np.array([x[i:i+2], y[i:i+2]])\n",
    "        area += np.linalg.det(matrix)\n",
    "    \n",
    "    x.pop(-1)\n",
    "    y.pop(-1)\n",
    "    return area/2"
   ]
  },
  {
   "cell_type": "code",
   "execution_count": 153,
   "metadata": {},
   "outputs": [],
   "source": [
    "def calculate_area(input_string):   \n",
    "    x, y = 0, 0\n",
    "    vertices = [(x, y)] \n",
    "    perimeter = 0\n",
    "      \n",
    "    directions = [(1, 0), (0, 1), (-1, 0), (0, -1)]\n",
    "    for line in input_string.splitlines():\n",
    "        code = line.split('(')[1][1:-1]\n",
    "        distance = int(code[:-1], 16)\n",
    "                \n",
    "        dx, dy = directions[int(code[-1])]\n",
    "        x += dx*int(distance)\n",
    "        y += dy*int(distance)\n",
    "        perimeter += abs(dx*int(distance) + dy*int(distance))\n",
    "        \n",
    "        vertices.append((x, y))\n",
    "            \n",
    "    A = area_irregular_polygon(vertices)\n",
    "    area = A + perimeter/2 + 1\n",
    "    return int(round(area))\n",
    "        \n",
    "        \n",
    "    \n",
    "        \n"
   ]
  },
  {
   "cell_type": "markdown",
   "metadata": {},
   "source": [
    "### Example"
   ]
  },
  {
   "cell_type": "code",
   "execution_count": 154,
   "metadata": {},
   "outputs": [
    {
     "data": {
      "text/plain": [
       "952408144115"
      ]
     },
     "execution_count": 154,
     "metadata": {},
     "output_type": "execute_result"
    }
   ],
   "source": [
    "input_string = \"\"\"R 6 (#70c710)\n",
    "D 5 (#0dc571)\n",
    "L 2 (#5713f0)\n",
    "D 2 (#d2c081)\n",
    "R 2 (#59c680)\n",
    "D 2 (#411b91)\n",
    "L 5 (#8ceee2)\n",
    "U 2 (#caa173)\n",
    "L 1 (#1b58a2)\n",
    "U 2 (#caa171)\n",
    "R 2 (#7807d2)\n",
    "U 3 (#a77fa3)\n",
    "L 2 (#015232)\n",
    "U 2 (#7a21e3)\"\"\"\n",
    "\n",
    "\n",
    "calculate_area(input_string)\n"
   ]
  },
  {
   "cell_type": "markdown",
   "metadata": {},
   "source": [
    "### Submission"
   ]
  },
  {
   "cell_type": "code",
   "execution_count": 155,
   "metadata": {},
   "outputs": [
    {
     "data": {
      "text/plain": [
       "79088855654037"
      ]
     },
     "execution_count": 155,
     "metadata": {},
     "output_type": "execute_result"
    }
   ],
   "source": [
    "with open('input/day18.txt', 'r') as file:\n",
    "    input_string = file.read()\n",
    "\n",
    "\n",
    "calculate_area(input_string)\n"
   ]
  },
  {
   "cell_type": "code",
   "execution_count": null,
   "metadata": {},
   "outputs": [],
   "source": []
  }
 ],
 "metadata": {
  "kernelspec": {
   "display_name": ".venv",
   "language": "python",
   "name": "python3"
  },
  "language_info": {
   "codemirror_mode": {
    "name": "ipython",
    "version": 3
   },
   "file_extension": ".py",
   "mimetype": "text/x-python",
   "name": "python",
   "nbconvert_exporter": "python",
   "pygments_lexer": "ipython3",
   "version": "3.11.4"
  }
 },
 "nbformat": 4,
 "nbformat_minor": 2
}
