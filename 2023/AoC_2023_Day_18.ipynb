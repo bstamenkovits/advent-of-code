{
 "cells": [
  {
   "cell_type": "markdown",
   "metadata": {},
   "source": [
    "# **Day18**: *Lavaduct Lagoon*"
   ]
  },
  {
   "cell_type": "markdown",
   "metadata": {},
   "source": [
    "## Part 1\n",
    "Thanks to your efforts, the machine parts factory is one of the first factories up and running since the lavafall came back. However, to catch up with the large backlog of parts requests, the factory will also need a large supply of lava for a while; the Elves have already started creating a large lagoon nearby for this purpose.\n",
    "\n",
    "However, they aren't sure the lagoon will be big enough; they've asked you to take a look at the dig plan (your puzzle input). For example:\n",
    "\n",
    "```\n",
    "R 6 (#70c710)\n",
    "D 5 (#0dc571)\n",
    "L 2 (#5713f0)\n",
    "D 2 (#d2c081)\n",
    "R 2 (#59c680)\n",
    "D 2 (#411b91)\n",
    "L 5 (#8ceee2)\n",
    "U 2 (#caa173)\n",
    "L 1 (#1b58a2)\n",
    "U 2 (#caa171)\n",
    "R 2 (#7807d2)\n",
    "U 3 (#a77fa3)\n",
    "L 2 (#015232)\n",
    "U 2 (#7a21e3)\n",
    "```\n",
    "\n",
    "The digger starts in a 1 meter cube hole in the ground. They then dig the specified number of meters up (U), down (D), left (L), or right (R), clearing full 1 meter cubes as they go. The directions are given as seen from above, so if \"up\" were north, then \"right\" would be east, and so on. Each trench is also listed with the color that the edge of the trench should be painted as an RGB hexadecimal color code.\n",
    "\n",
    "When viewed from above, the above example dig plan would result in the following loop of trench (#) having been dug out from otherwise ground-level terrain (.):\n",
    "\n",
    "```\n",
    "#######\n",
    "#.....#\n",
    "###...#\n",
    "..#...#\n",
    "..#...#\n",
    "###.###\n",
    "#...#..\n",
    "##..###\n",
    ".#....#\n",
    ".######\n",
    "```\n",
    "\n",
    "At this point, the trench could contain 38 cubic meters of lava. However, this is just the edge of the lagoon; the next step is to dig out the interior so that it is one meter deep as well:\n",
    "\n",
    "```\n",
    "#######\n",
    "#######\n",
    "#######\n",
    "..#####\n",
    "..#####\n",
    "#######\n",
    "#####..\n",
    "#######\n",
    ".######\n",
    ".######\n",
    "```\n",
    "\n",
    "Now, the lagoon can contain a much more respectable 62 cubic meters of lava. While the interior is dug out, the edges are also painted according to the color codes in the dig plan.\n",
    "\n",
    "The Elves are concerned the lagoon won't be large enough; if they follow their dig plan, how many cubic meters of lava could it hold?"
   ]
  },
  {
   "cell_type": "markdown",
   "metadata": {},
   "source": [
    "### Solution"
   ]
  },
  {
   "cell_type": "code",
   "execution_count": 1,
   "metadata": {},
   "outputs": [
    {
     "data": {
      "text/plain": [
       "False"
      ]
     },
     "execution_count": 1,
     "metadata": {},
     "output_type": "execute_result"
    }
   ],
   "source": [
    "def ccw(A,B,C):\n",
    "    \"\"\"Check if points A, B, and C are counter clockwise\"\"\"\n",
    "    ax, ay = A\n",
    "    bx, by = B\n",
    "    cx, cy = C\n",
    "    return (cy-ay) * (bx-ax) > (by-ay) * (cx-ax)\n",
    "\n",
    "def intersect(line1, line2):\n",
    "    \"\"\"Check whether line1 and line2 intersect\"\"\"\n",
    "    A, B = line1\n",
    "    C, D = line2\n",
    "    \n",
    "    return ccw(A,C,D) != ccw(B,C,D) and ccw(A,B,C) != ccw(A,B,D)\n",
    "\n",
    "def distance(A, B):\n",
    "    \"\"\"Calculates distance between two points\"\"\"\n",
    "    ax, ay = A\n",
    "    bx, by = B\n",
    "    return ((ax - bx)**2 + (ay - by)**2)**0.5\n",
    "\n",
    "def is_on_line(line, point):\n",
    "    \"\"\"Check whether a point is on the line\"\"\"\n",
    "    A, B = line\n",
    "    C = point\n",
    "    return distance(A,C) + distance(C,B) == distance(A,B)\n",
    "\n",
    "\n",
    "p1 = (0, 2)\n",
    "p2 = (2, 2)\n",
    "p3 = (0, 2)\n",
    "p4 = (3, 2)\n",
    "\n",
    "line1 = (p1, p2)\n",
    "line2 = (p3, p4)\n",
    "\n",
    "intersect(line1, line2)"
   ]
  },
  {
   "cell_type": "code",
   "execution_count": 2,
   "metadata": {},
   "outputs": [],
   "source": [
    "def calculate_area(input_string):\n",
    "    lines = input_string.splitlines()\n",
    "    instructions = [tuple(line.split(' ')[:2]) for line in lines]\n",
    "\n",
    "    direction_map = {'U': (0, -1), 'D': (0, 1), 'R': (1, 0), 'L': (-1, 0)}\n",
    "    \n",
    "    x, y = 0, 0\n",
    "    vertices = [(x, y)]\n",
    "    for direction, distance in instructions:\n",
    "        dx, dy = direction_map[direction] \n",
    "        x += dx*int(distance)\n",
    "        y += dy*int(distance)\n",
    "        vertices.append((x, y))\n",
    "\n",
    "\n",
    "    lines = []\n",
    "    for i in range(len(vertices)-1):\n",
    "        lines.append((vertices[i], vertices[i+1]))\n",
    "\n",
    "    x, y = zip(*vertices)\n",
    "    xmax = max(x)+1\n",
    "    ymax = max(y)+1\n",
    "\n",
    "    grid = [['.' for _ in range(xmax)] for _ in range(ymax)] \n",
    "\n",
    "    area = 0\n",
    "    for x in range(xmax):\n",
    "        for y in range(ymax):\n",
    "            fill = False\n",
    "            point = (x, y)\n",
    "            ray = ((-1, y), point)\n",
    "            \n",
    "            count = 0\n",
    "            for line in lines:\n",
    "                if is_on_line(line, point):\n",
    "                    fill = True\n",
    "                    continue\n",
    "                if intersect(ray, line):\n",
    "                    count += 1\n",
    "            \n",
    "            if count % 2 != 0 or fill==True:\n",
    "                area += 1\n",
    "                grid[y][x] = '#'\n",
    "\n",
    "    return area\n"
   ]
  },
  {
   "cell_type": "code",
   "execution_count": 23,
   "metadata": {},
   "outputs": [],
   "source": [
    "import matplotlib.pyplot as plt\n",
    "def calculate_area(input_string):\n",
    "    lines = input_string.splitlines()\n",
    "    instructions = [tuple(line.split(' ')[:2]) for line in lines]\n",
    "\n",
    "    direction_map = {'U': (0, -1), 'D': (0, 1), 'R': (1, 0), 'L': (-1, 0)}\n",
    "    \n",
    "    x, y = 0, 0\n",
    "    walls = []\n",
    "    for direction, distance in instructions:\n",
    "        step_x, step_y = direction_map[direction] \n",
    "        dx = step_x*int(distance)\n",
    "        dy = step_y*int(distance)\n",
    "\n",
    "        for xi in range(dx+1):\n",
    "            for yi in range(dy+1):\n",
    "                walls.append()\n",
    "\n",
    "        print()\n",
    "\n",
    "    # plt.imshow(grid, cmap='binary', interpolation='none')\n",
    "    # plt.show()"
   ]
  },
  {
   "cell_type": "markdown",
   "metadata": {},
   "source": [
    "### Example"
   ]
  },
  {
   "cell_type": "code",
   "execution_count": 24,
   "metadata": {},
   "outputs": [
    {
     "name": "stdout",
     "output_type": "stream",
     "text": [
      "0 0\n",
      "1 0\n",
      "2 0\n",
      "3 0\n",
      "4 0\n",
      "5 0\n",
      "6 0\n",
      "\n",
      "0 0\n",
      "0 1\n",
      "0 2\n",
      "0 3\n",
      "0 4\n",
      "0 5\n",
      "\n",
      "\n",
      "0 0\n",
      "0 1\n",
      "0 2\n",
      "\n",
      "0 0\n",
      "1 0\n",
      "2 0\n",
      "\n",
      "0 0\n",
      "0 1\n",
      "0 2\n",
      "\n",
      "\n",
      "\n",
      "\n",
      "\n",
      "0 0\n",
      "1 0\n",
      "2 0\n",
      "\n",
      "\n",
      "\n",
      "\n"
     ]
    }
   ],
   "source": [
    "input_string = \"\"\"R 6 (#70c710)\n",
    "D 5 (#0dc571)\n",
    "L 2 (#5713f0)\n",
    "D 2 (#d2c081)\n",
    "R 2 (#59c680)\n",
    "D 2 (#411b91)\n",
    "L 5 (#8ceee2)\n",
    "U 2 (#caa173)\n",
    "L 1 (#1b58a2)\n",
    "U 2 (#caa171)\n",
    "R 2 (#7807d2)\n",
    "U 3 (#a77fa3)\n",
    "L 2 (#015232)\n",
    "U 2 (#7a21e3)\"\"\"\n",
    "\n",
    "\n",
    "calculate_area(input_string)\n"
   ]
  },
  {
   "cell_type": "markdown",
   "metadata": {},
   "source": [
    "### Submission"
   ]
  },
  {
   "cell_type": "code",
   "execution_count": 4,
   "metadata": {},
   "outputs": [
    {
     "data": {
      "text/plain": [
       "354"
      ]
     },
     "execution_count": 4,
     "metadata": {},
     "output_type": "execute_result"
    }
   ],
   "source": [
    "with open('input/day18.txt', 'r') as file:\n",
    "    input_string = file.read()\n",
    "\n",
    "calculate_area(input_string)\n"
   ]
  },
  {
   "cell_type": "markdown",
   "metadata": {},
   "source": [
    "## Part 2\n",
    "\n",
    "text"
   ]
  },
  {
   "cell_type": "markdown",
   "metadata": {},
   "source": [
    "### Solution"
   ]
  },
  {
   "cell_type": "code",
   "execution_count": 5,
   "metadata": {},
   "outputs": [],
   "source": [
    "def my_func(input_string):\n",
    "    pass\n"
   ]
  },
  {
   "cell_type": "markdown",
   "metadata": {},
   "source": [
    "### Example"
   ]
  },
  {
   "cell_type": "code",
   "execution_count": 6,
   "metadata": {},
   "outputs": [],
   "source": [
    "input_string = \"\"\"\"\"\"\n",
    "\n",
    "\n",
    "my_func(input_string)\n"
   ]
  },
  {
   "cell_type": "markdown",
   "metadata": {},
   "source": [
    "### Submission"
   ]
  },
  {
   "cell_type": "code",
   "execution_count": 7,
   "metadata": {},
   "outputs": [
    {
     "ename": "FileNotFoundError",
     "evalue": "[Errno 2] No such file or directory: 'input/day00.txt'",
     "output_type": "error",
     "traceback": [
      "\u001b[0;31m---------------------------------------------------------------------------\u001b[0m",
      "\u001b[0;31mFileNotFoundError\u001b[0m                         Traceback (most recent call last)",
      "Cell \u001b[0;32mIn[7], line 1\u001b[0m\n\u001b[0;32m----> 1\u001b[0m \u001b[38;5;28;01mwith\u001b[39;00m \u001b[38;5;28;43mopen\u001b[39;49m\u001b[43m(\u001b[49m\u001b[38;5;124;43m'\u001b[39;49m\u001b[38;5;124;43minput/day00.txt\u001b[39;49m\u001b[38;5;124;43m'\u001b[39;49m\u001b[43m,\u001b[49m\u001b[43m \u001b[49m\u001b[38;5;124;43m'\u001b[39;49m\u001b[38;5;124;43mr\u001b[39;49m\u001b[38;5;124;43m'\u001b[39;49m\u001b[43m)\u001b[49m \u001b[38;5;28;01mas\u001b[39;00m file:\n\u001b[1;32m      2\u001b[0m     input_string \u001b[38;5;241m=\u001b[39m file\u001b[38;5;241m.\u001b[39mread()\n\u001b[1;32m      5\u001b[0m my_func(input_string)\n",
      "File \u001b[0;32m~/Documents/Personal Code Projects/advent-of-code/.venv/lib/python3.9/site-packages/IPython/core/interactiveshell.py:310\u001b[0m, in \u001b[0;36m_modified_open\u001b[0;34m(file, *args, **kwargs)\u001b[0m\n\u001b[1;32m    303\u001b[0m \u001b[38;5;28;01mif\u001b[39;00m file \u001b[38;5;129;01min\u001b[39;00m {\u001b[38;5;241m0\u001b[39m, \u001b[38;5;241m1\u001b[39m, \u001b[38;5;241m2\u001b[39m}:\n\u001b[1;32m    304\u001b[0m     \u001b[38;5;28;01mraise\u001b[39;00m \u001b[38;5;167;01mValueError\u001b[39;00m(\n\u001b[1;32m    305\u001b[0m         \u001b[38;5;124mf\u001b[39m\u001b[38;5;124m\"\u001b[39m\u001b[38;5;124mIPython won\u001b[39m\u001b[38;5;124m'\u001b[39m\u001b[38;5;124mt let you open fd=\u001b[39m\u001b[38;5;132;01m{\u001b[39;00mfile\u001b[38;5;132;01m}\u001b[39;00m\u001b[38;5;124m by default \u001b[39m\u001b[38;5;124m\"\u001b[39m\n\u001b[1;32m    306\u001b[0m         \u001b[38;5;124m\"\u001b[39m\u001b[38;5;124mas it is likely to crash IPython. If you know what you are doing, \u001b[39m\u001b[38;5;124m\"\u001b[39m\n\u001b[1;32m    307\u001b[0m         \u001b[38;5;124m\"\u001b[39m\u001b[38;5;124myou can use builtins\u001b[39m\u001b[38;5;124m'\u001b[39m\u001b[38;5;124m open.\u001b[39m\u001b[38;5;124m\"\u001b[39m\n\u001b[1;32m    308\u001b[0m     )\n\u001b[0;32m--> 310\u001b[0m \u001b[38;5;28;01mreturn\u001b[39;00m \u001b[43mio_open\u001b[49m\u001b[43m(\u001b[49m\u001b[43mfile\u001b[49m\u001b[43m,\u001b[49m\u001b[43m \u001b[49m\u001b[38;5;241;43m*\u001b[39;49m\u001b[43margs\u001b[49m\u001b[43m,\u001b[49m\u001b[43m \u001b[49m\u001b[38;5;241;43m*\u001b[39;49m\u001b[38;5;241;43m*\u001b[39;49m\u001b[43mkwargs\u001b[49m\u001b[43m)\u001b[49m\n",
      "\u001b[0;31mFileNotFoundError\u001b[0m: [Errno 2] No such file or directory: 'input/day00.txt'"
     ]
    }
   ],
   "source": [
    "with open('input/day00.txt', 'r') as file:\n",
    "    input_string = file.read()\n",
    "\n",
    "\n",
    "my_func(input_string)\n"
   ]
  }
 ],
 "metadata": {
  "kernelspec": {
   "display_name": ".venv",
   "language": "python",
   "name": "python3"
  },
  "language_info": {
   "codemirror_mode": {
    "name": "ipython",
    "version": 3
   },
   "file_extension": ".py",
   "mimetype": "text/x-python",
   "name": "python",
   "nbconvert_exporter": "python",
   "pygments_lexer": "ipython3",
   "version": "3.9.7"
  }
 },
 "nbformat": 4,
 "nbformat_minor": 2
}
