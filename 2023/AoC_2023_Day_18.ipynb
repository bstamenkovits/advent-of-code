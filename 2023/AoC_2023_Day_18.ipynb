{
 "cells": [
  {
   "cell_type": "markdown",
   "metadata": {},
   "source": [
    "# **Day18**: *Lavaduct Lagoon*"
   ]
  },
  {
   "cell_type": "markdown",
   "metadata": {},
   "source": [
    "## Part 1\n",
    "Thanks to your efforts, the machine parts factory is one of the first factories up and running since the lavafall came back. However, to catch up with the large backlog of parts requests, the factory will also need a large supply of lava for a while; the Elves have already started creating a large lagoon nearby for this purpose.\n",
    "\n",
    "However, they aren't sure the lagoon will be big enough; they've asked you to take a look at the dig plan (your puzzle input). For example:\n",
    "\n",
    "```\n",
    "R 6 (#70c710)\n",
    "D 5 (#0dc571)\n",
    "L 2 (#5713f0)\n",
    "D 2 (#d2c081)\n",
    "R 2 (#59c680)\n",
    "D 2 (#411b91)\n",
    "L 5 (#8ceee2)\n",
    "U 2 (#caa173)\n",
    "L 1 (#1b58a2)\n",
    "U 2 (#caa171)\n",
    "R 2 (#7807d2)\n",
    "U 3 (#a77fa3)\n",
    "L 2 (#015232)\n",
    "U 2 (#7a21e3)\n",
    "```\n",
    "\n",
    "The digger starts in a 1 meter cube hole in the ground. They then dig the specified number of meters up (U), down (D), left (L), or right (R), clearing full 1 meter cubes as they go. The directions are given as seen from above, so if \"up\" were north, then \"right\" would be east, and so on. Each trench is also listed with the color that the edge of the trench should be painted as an RGB hexadecimal color code.\n",
    "\n",
    "When viewed from above, the above example dig plan would result in the following loop of trench (#) having been dug out from otherwise ground-level terrain (.):\n",
    "\n",
    "```\n",
    "#######\n",
    "#.....#\n",
    "###...#\n",
    "..#...#\n",
    "..#...#\n",
    "###.###\n",
    "#...#..\n",
    "##..###\n",
    ".#....#\n",
    ".######\n",
    "```\n",
    "\n",
    "At this point, the trench could contain 38 cubic meters of lava. However, this is just the edge of the lagoon; the next step is to dig out the interior so that it is one meter deep as well:\n",
    "\n",
    "```\n",
    "#######\n",
    "#######\n",
    "#######\n",
    "..#####\n",
    "..#####\n",
    "#######\n",
    "#####..\n",
    "#######\n",
    ".######\n",
    ".######\n",
    "```\n",
    "\n",
    "Now, the lagoon can contain a much more respectable 62 cubic meters of lava. While the interior is dug out, the edges are also painted according to the color codes in the dig plan.\n",
    "\n",
    "The Elves are concerned the lagoon won't be large enough; if they follow their dig plan, how many cubic meters of lava could it hold?"
   ]
  },
  {
   "cell_type": "markdown",
   "metadata": {},
   "source": [
    "### Solution"
   ]
  },
  {
   "cell_type": "markdown",
   "metadata": {},
   "source": [
    "If we start at point `(0,0)`, we can loop over the instructions to find the locations of the vertices that make up the lava lagoon. The area of an irregular polygon (polygon that is not a standard shape like triangle, square, etc.) can be calculated using the [shoelace method](https://en.wikipedia.org/wiki/Shoelace_formula).\n",
    "\n",
    "$$\n",
    "2A = \n",
    "\\left|\\begin{array}{cc} \n",
    "x_1 & x_2\\\\ \n",
    "y_1 & y_2\n",
    "\\end{array}\\right|\n",
    "+ \n",
    "\\left|\\begin{array}{cc} \n",
    "x_2 & x_3\\\\ \n",
    "y_2 & y_3\n",
    "\\end{array}\\right|\n",
    "+ \n",
    "...\n",
    "+ \n",
    "\\left|\\begin{array}{cc} \n",
    "x_n & x_1\\\\ \n",
    "y_n & y_1\n",
    "\\end{array}\\right|\n",
    "$$ "
   ]
  },
  {
   "cell_type": "code",
   "execution_count": 1,
   "metadata": {},
   "outputs": [],
   "source": [
    "import numpy as np\n",
    "\n",
    "def area_irregular_polygon(vertices):\n",
    "    \"\"\"\n",
    "    Calculates the area of an irregular polygon defined by a set of vertices \n",
    "    using the shoelace method. \n",
    "    \"\"\"\n",
    "    x, y = map(list, list(zip(*vertices)))\n",
    "    \n",
    "    x.append(x[0])\n",
    "    y.append(y[0])\n",
    "    area = 0\n",
    "    for i in range(len(vertices)):\n",
    "        matrix = np.array([x[i:i+2], y[i:i+2]])\n",
    "        area += np.linalg.det(matrix)\n",
    "    \n",
    "    return area/2"
   ]
  },
  {
   "cell_type": "markdown",
   "metadata": {},
   "source": [
    "According to [Pick's theorem](https://en.wikipedia.org/wiki/Pick's_theorem), the area of a polygon with integer coordinates is given by \n",
    "\n",
    "$$ A = i + b/2 -1 $$\n",
    "\n",
    "Here $i$ is the number of integer coordinates inside of the polygon, $b$ the number of integer coordinates on the polygon perimeter. From the instructions we can derrive the perimeter $b$, and using the above shoelace method we can find the area $A$. \n",
    "\n",
    "Because of the way the pit is being dug out, the value we are interested in is $i + b$, which can be obtained by rearranging the formula above\n",
    "\n",
    "$$i+b = A + b/2 + 1$$"
   ]
  },
  {
   "cell_type": "code",
   "execution_count": 2,
   "metadata": {},
   "outputs": [],
   "source": [
    "def calculate_area(input_string):\n",
    "    lines = input_string.splitlines()\n",
    "    instructions = [tuple(line.split(' ')[:2]) for line in lines]\n",
    "    direction_map = {'U': (0, -1), 'D': (0, 1), 'R': (1, 0), 'L': (-1, 0)}\n",
    "    \n",
    "    x, y = 0, 0\n",
    "    vertices = [(x, y)] \n",
    "    perimeter = 0\n",
    "    for direction, distance in instructions:\n",
    "        dx, dy = direction_map[direction] \n",
    "        x += dx*int(distance)\n",
    "        y += dy*int(distance)\n",
    "        perimeter += abs(dx*int(distance) + dy*int(distance))\n",
    "        vertices.append((x, y))\n",
    "    \n",
    "    A = area_irregular_polygon(vertices)\n",
    "    area = A + perimeter/2 + 1\n",
    "    return int(round(area))\n",
    "        \n"
   ]
  },
  {
   "cell_type": "markdown",
   "metadata": {},
   "source": [
    "### Example"
   ]
  },
  {
   "cell_type": "code",
   "execution_count": 3,
   "metadata": {},
   "outputs": [
    {
     "data": {
      "text/plain": [
       "62"
      ]
     },
     "execution_count": 3,
     "metadata": {},
     "output_type": "execute_result"
    }
   ],
   "source": [
    "input_string = \"\"\"R 6 (#70c710)\n",
    "D 5 (#0dc571)\n",
    "L 2 (#5713f0)\n",
    "D 2 (#d2c081)\n",
    "R 2 (#59c680)\n",
    "D 2 (#411b91)\n",
    "L 5 (#8ceee2)\n",
    "U 2 (#caa173)\n",
    "L 1 (#1b58a2)\n",
    "U 2 (#caa171)\n",
    "R 2 (#7807d2)\n",
    "U 3 (#a77fa3)\n",
    "L 2 (#015232)\n",
    "U 2 (#7a21e3)\"\"\"\n",
    "\n",
    "calculate_area(input_string)\n"
   ]
  },
  {
   "cell_type": "markdown",
   "metadata": {},
   "source": [
    "### Submission"
   ]
  },
  {
   "cell_type": "code",
   "execution_count": 4,
   "metadata": {},
   "outputs": [
    {
     "data": {
      "text/plain": [
       "56678"
      ]
     },
     "execution_count": 4,
     "metadata": {},
     "output_type": "execute_result"
    }
   ],
   "source": [
    "with open('input/day18.txt', 'r') as file:\n",
    "    input_string = file.read()\n",
    "\n",
    "calculate_area(input_string)\n"
   ]
  },
  {
   "cell_type": "markdown",
   "metadata": {},
   "source": [
    "## Part 2\n",
    "\n",
    "The Elves were right to be concerned; the planned lagoon would be much too small.\n",
    "\n",
    "After a few minutes, someone realizes what happened; someone swapped the color and instruction parameters when producing the dig plan. They don't have time to fix the bug; one of them asks if you can extract the correct instructions from the hexadecimal codes.\n",
    "\n",
    "Each hexadecimal code is six hexadecimal digits long. The first five hexadecimal digits encode the distance in meters as a five-digit hexadecimal number. The last hexadecimal digit encodes the direction to dig: 0 means R, 1 means D, 2 means L, and 3 means U.\n",
    "\n",
    "So, in the above example, the hexadecimal codes can be converted into the true instructions:\n",
    "\n",
    "```\n",
    "#70c710 = R 461937\n",
    "#0dc571 = D 56407\n",
    "#5713f0 = R 356671\n",
    "#d2c081 = D 863240\n",
    "#59c680 = R 367720\n",
    "#411b91 = D 266681\n",
    "#8ceee2 = L 577262\n",
    "#caa173 = U 829975\n",
    "#1b58a2 = L 112010\n",
    "#caa171 = D 829975\n",
    "#7807d2 = L 491645\n",
    "#a77fa3 = U 686074\n",
    "#015232 = L 5411\n",
    "#7a21e3 = U 500254\n",
    "```\n",
    "\n",
    "Digging out this loop and its interior produces a lagoon that can hold an impressive 952408144115 cubic meters of lava.\n",
    "\n",
    "Convert the hexadecimal color codes into the correct instructions; if the Elves follow this new dig plan, how many cubic meters of lava could the lagoon hold?"
   ]
  },
  {
   "cell_type": "markdown",
   "metadata": {},
   "source": [
    "### Solution"
   ]
  },
  {
   "cell_type": "code",
   "execution_count": 6,
   "metadata": {},
   "outputs": [],
   "source": [
    "def calculate_area(input_string):   \n",
    "    x, y = 0, 0\n",
    "    vertices = [(x, y)] \n",
    "    perimeter = 0\n",
    "      \n",
    "    directions = [(1, 0), (0, 1), (-1, 0), (0, -1)]\n",
    "    for line in input_string.splitlines():\n",
    "        code = line.split('(')[1][1:-1]\n",
    "        distance = int(code[:-1], 16)\n",
    "                \n",
    "        dx, dy = directions[int(code[-1])]\n",
    "        x += dx*int(distance)\n",
    "        y += dy*int(distance)\n",
    "        perimeter += abs(dx*int(distance) + dy*int(distance))\n",
    "        \n",
    "        vertices.append((x, y))\n",
    "            \n",
    "    A = area_irregular_polygon(vertices)\n",
    "    area = A + perimeter/2 + 1\n",
    "    return int(round(area))\n"
   ]
  },
  {
   "cell_type": "markdown",
   "metadata": {},
   "source": [
    "### Example"
   ]
  },
  {
   "cell_type": "code",
   "execution_count": 7,
   "metadata": {},
   "outputs": [
    {
     "data": {
      "text/plain": [
       "952408144115"
      ]
     },
     "execution_count": 7,
     "metadata": {},
     "output_type": "execute_result"
    }
   ],
   "source": [
    "input_string = \"\"\"R 6 (#70c710)\n",
    "D 5 (#0dc571)\n",
    "L 2 (#5713f0)\n",
    "D 2 (#d2c081)\n",
    "R 2 (#59c680)\n",
    "D 2 (#411b91)\n",
    "L 5 (#8ceee2)\n",
    "U 2 (#caa173)\n",
    "L 1 (#1b58a2)\n",
    "U 2 (#caa171)\n",
    "R 2 (#7807d2)\n",
    "U 3 (#a77fa3)\n",
    "L 2 (#015232)\n",
    "U 2 (#7a21e3)\"\"\"\n",
    "\n",
    "calculate_area(input_string)\n"
   ]
  },
  {
   "cell_type": "markdown",
   "metadata": {},
   "source": [
    "### Submission"
   ]
  },
  {
   "cell_type": "code",
   "execution_count": 8,
   "metadata": {},
   "outputs": [
    {
     "data": {
      "text/plain": [
       "79088855654037"
      ]
     },
     "execution_count": 8,
     "metadata": {},
     "output_type": "execute_result"
    }
   ],
   "source": [
    "with open('input/day18.txt', 'r') as file:\n",
    "    input_string = file.read()\n",
    "\n",
    "calculate_area(input_string)\n"
   ]
  }
 ],
 "metadata": {
  "kernelspec": {
   "display_name": ".venv",
   "language": "python",
   "name": "python3"
  },
  "language_info": {
   "codemirror_mode": {
    "name": "ipython",
    "version": 3
   },
   "file_extension": ".py",
   "mimetype": "text/x-python",
   "name": "python",
   "nbconvert_exporter": "python",
   "pygments_lexer": "ipython3",
   "version": "3.11.4"
  }
 },
 "nbformat": 4,
 "nbformat_minor": 2
}
