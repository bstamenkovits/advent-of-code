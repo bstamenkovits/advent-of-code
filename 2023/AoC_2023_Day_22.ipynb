{
 "cells": [
  {
   "cell_type": "markdown",
   "metadata": {},
   "source": [
    "# **Day22**: *Sand Slabs*"
   ]
  },
  {
   "cell_type": "markdown",
   "metadata": {},
   "source": [
    "## Part 1\n",
    "\n",
    "Enough sand has fallen; it can finally filter water for Snow Island.\n",
    "\n",
    "Well, almost.\n",
    "\n",
    "The sand has been falling as large compacted bricks of sand, piling up to form an impressive stack here near the edge of Island Island. In order to make use of the sand to filter water, some of the bricks will need to be broken apart - nay, disintegrated - back into freely flowing sand.\n",
    "\n",
    "The stack is tall enough that you'll have to be careful about choosing which bricks to disintegrate; if you disintegrate the wrong brick, large portions of the stack could topple, which sounds pretty dangerous.\n",
    "\n",
    "The Elves responsible for water filtering operations took a snapshot of the bricks while they were still falling (your puzzle input) which should let you work out which bricks are safe to disintegrate. For example:\n",
    "\n",
    "```\n",
    "1,0,1~1,2,1\n",
    "0,0,2~2,0,2\n",
    "0,2,3~2,2,3\n",
    "0,0,4~0,2,4\n",
    "2,0,5~2,2,5\n",
    "0,1,6~2,1,6\n",
    "1,1,8~1,1,9\n",
    "```\n",
    "\n",
    "Each line of text in the snapshot represents the position of a single brick at the time the snapshot was taken. The position is given as two x,y,z coordinates - one for each end of the brick - separated by a tilde (~). Each brick is made up of a single straight line of cubes, and the Elves were even careful to choose a time for the snapshot that had all of the free-falling bricks at integer positions above the ground, so the whole snapshot is aligned to a three-dimensional cube grid.\n",
    "\n",
    "A line like 2,2,2~2,2,2 means that both ends of the brick are at the same coordinate - in other words, that the brick is a single cube.\n",
    "\n",
    "Lines like 0,0,10~1,0,10 or 0,0,10~0,1,10 both represent bricks that are two cubes in volume, both oriented horizontally. The first brick extends in the x direction, while the second brick extends in the y direction.\n",
    "\n",
    "A line like 0,0,1~0,0,10 represents a ten-cube brick which is oriented vertically. One end of the brick is the cube located at 0,0,1, while the other end of the brick is located directly above it at 0,0,10.\n",
    "\n",
    "The ground is at z=0 and is perfectly flat; the lowest z value a brick can have is therefore 1. So, 5,5,1~5,6,1 and 0,2,1~0,2,5 are both resting on the ground, but 3,3,2~3,3,3 was above the ground at the time of the snapshot.\n",
    "\n",
    "Because the snapshot was taken while the bricks were still falling, some bricks will still be in the air; you'll need to start by figuring out where they will end up. Bricks are magically stabilized, so they never rotate, even in weird situations like where a long horizontal brick is only supported on one end. Two bricks cannot occupy the same position, so a falling brick will come to rest upon the first other brick it encounters.\n",
    "\n",
    "Here is the same example again, this time with each brick given a letter so it can be marked in diagrams:\n",
    "\n",
    "```\n",
    "1,0,1~1,2,1   <- A\n",
    "0,0,2~2,0,2   <- B\n",
    "0,2,3~2,2,3   <- C\n",
    "0,0,4~0,2,4   <- D\n",
    "2,0,5~2,2,5   <- E\n",
    "0,1,6~2,1,6   <- F\n",
    "1,1,8~1,1,9   <- G\n",
    "```\n",
    "\n",
    "At the time of the snapshot, from the side so the x axis goes left to right, these bricks are arranged like this:\n",
    "\n",
    "```\n",
    " x\n",
    "012\n",
    ".G. 9\n",
    ".G. 8\n",
    "... 7\n",
    "FFF 6\n",
    "..E 5 z\n",
    "D.. 4\n",
    "CCC 3\n",
    "BBB 2\n",
    ".A. 1\n",
    "--- 0\n",
    "```\n",
    "\n",
    "Rotating the perspective 90 degrees so the y axis now goes left to right, the same bricks are arranged like this:\n",
    "\n",
    "```\n",
    " y\n",
    "012\n",
    ".G. 9\n",
    ".G. 8\n",
    "... 7\n",
    ".F. 6\n",
    "EEE 5 z\n",
    "DDD 4\n",
    "..C 3\n",
    "B.. 2\n",
    "AAA 1\n",
    "--- 0\n",
    "```\n",
    "\n",
    "Once all of the bricks fall downward as far as they can go, the stack looks like this, where ? means bricks are hidden behind other bricks at that location:\n",
    "\n",
    "```\n",
    " x\n",
    "012\n",
    ".G. 6\n",
    ".G. 5\n",
    "FFF 4\n",
    "D.E 3 z\n",
    "??? 2\n",
    ".A. 1\n",
    "--- 0\n",
    "```\n",
    "\n",
    "Again from the side:\n",
    "\n",
    "```\n",
    " y\n",
    "012\n",
    ".G. 6\n",
    ".G. 5\n",
    ".F. 4\n",
    "??? 3 z\n",
    "B.C 2\n",
    "AAA 1\n",
    "--- 0\n",
    "```\n",
    "\n",
    "Now that all of the bricks have settled, it becomes easier to tell which bricks are supporting which other bricks:\n",
    "\n",
    "- Brick A is the only brick supporting bricks B and C.\n",
    "- Brick B is one of two bricks supporting brick D and brick E.\n",
    "- Brick C is the other brick supporting brick D and brick E.\n",
    "- Brick D supports brick F.\n",
    "- Brick E also supports brick F.\n",
    "- Brick F supports brick G.\n",
    "- Brick G isn't supporting any bricks.\n",
    "\n",
    "Your first task is to figure out which bricks are safe to disintegrate. A brick can be safely disintegrated if, after removing it, no other bricks would fall further directly downward. Don't actually disintegrate any bricks - just determine what would happen if, for each brick, only that brick were disintegrated. Bricks can be disintegrated even if they're completely surrounded by other bricks; you can squeeze between bricks if you need to.\n",
    "\n",
    "In this example, the bricks can be disintegrated as follows:\n",
    "\n",
    "- Brick A cannot be disintegrated safely; if it were disintegrated, bricks B and C would both fall.\n",
    "- Brick B can be disintegrated; the bricks above it (D and E) would still be supported by brick C.\n",
    "- Brick C can be disintegrated; the bricks above it (D and E) would still be supported by brick B.\n",
    "- Brick D can be disintegrated; the brick above it (F) would still be supported by brick E.\n",
    "- Brick E can be disintegrated; the brick above it (F) would still be supported by brick D.\n",
    "- Brick F cannot be disintegrated; the brick above it (G) would fall.\n",
    "- Brick G can be disintegrated; it does not support any other bricks.\n",
    "\n",
    "So, in this example, 5 bricks can be safely disintegrated.\n",
    "\n",
    "Figure how the blocks will settle based on the snapshot. Once they've settled, consider disintegrating a single brick; how many bricks could be safely chosen as the one to get disintegrated?"
   ]
  },
  {
   "cell_type": "markdown",
   "metadata": {},
   "source": [
    "### Solution"
   ]
  },
  {
   "cell_type": "code",
   "execution_count": 58,
   "metadata": {},
   "outputs": [],
   "source": []
  },
  {
   "cell_type": "code",
   "execution_count": 41,
   "metadata": {},
   "outputs": [],
   "source": [
    "from operator import attrgetter, itemgetter\n",
    "\n",
    "def my_func(input_string):\n",
    "    bricks = []\n",
    "    z_max = 0\n",
    "    for i, line in enumerate(input_string.splitlines()):\n",
    "        start, end = line.split('~')\n",
    "        start_position = np.array(tuple(map(int, start.split(','))))\n",
    "        end_position = np.array(tuple(map(int, end.split(','))))\n",
    "        z_max = max(z_max, start_position[2], end_position[2])\n",
    "        bricks.append(Brick(i+1, start_position, end_position))   \n",
    "    \n",
    "    bricks = sorted(bricks, key=attrgetter('zmin'))\n",
    "    elevations = {z:[] for z in range(1, z_max+1)}\n",
    "    \n",
    "    for brick in bricks:\n",
    "        elevations[brick.zmin].append(brick)\n",
    "        \n",
    "    for z, bricks_list in elevations.items():\n",
    "        # skip z = 1\n",
    "        if z<2: continue\n",
    "            \n",
    "        # loop over bricks at current elevation\n",
    "        for brick in bricks_list:\n",
    "            destination_level = z\n",
    "            move = True\n",
    "            \n",
    "            while move:\n",
    "                lower_level = destination_level -1 \n",
    "                \n",
    "                # check if lower level is obstructed by ground\n",
    "                if lower_level < 1:\n",
    "                    move = False\n",
    "                    \n",
    "                # check if lower level is obstructed by bricks\n",
    "                for other_brick in elevations[lower_level]:\n",
    "                    if brick.intersect(other_brick): \n",
    "                        move = False\n",
    "                        break\n",
    "                \n",
    "                if move:\n",
    "                    destination_level -= 1\n",
    "                \n",
    "            \n",
    "            # check if brick destination level is different than current level\n",
    "            if destination_level < z:\n",
    "                # move brick\n",
    "                brick.move(dz=z - destination_level)\n",
    "                elevations[z].remove(brick)\n",
    "                elevations[destination_level].append(brick)\n",
    "                \n",
    "    print()     \n",
    "        \n"
   ]
  },
  {
   "cell_type": "code",
   "execution_count": 21,
   "metadata": {},
   "outputs": [],
   "source": [
    "import numpy as np\n",
    "\n",
    "\n",
    "class Ground:\n",
    "    positions = [np.array((i, j, 0)) for i in range(10) for j in range(10)]\n",
    "    zmin = 0\n",
    "    \n",
    "    \n",
    "class Brick:\n",
    "    \n",
    "    def __init__(self, brick_id, start_position, end_position) -> None:\n",
    "        self.id = brick_id\n",
    "        \n",
    "        steps = max(abs(end_position - start_position))+1\n",
    "        self.positions = np.linspace(start_position, end_position, steps)\n",
    "        self.zmin = min(start_position[2], end_position[2])\n",
    "        \n",
    "    def __repr__(self) -> str:\n",
    "        return f\"Brick{self.id}\"\n",
    "        \n",
    "    def intersect(self, positions):\n",
    "        \"\"\"Check if a list of positions intersect this brick's positions\"\"\"\n",
    "        return any(np.array_equal(p1, p2) for p1 in positions for p2 in self.positions)\n",
    "    \n",
    "    def move(self, dz):\n",
    "        \"\"\"Update brick's positions\"\"\"\n",
    "        for p in self.positions:\n",
    "            p[2] += dz\n",
    "            \n",
    "        \n",
    "        \n",
    "        \n",
    "    \n"
   ]
  },
  {
   "cell_type": "code",
   "execution_count": 22,
   "metadata": {},
   "outputs": [],
   "source": [
    "def settle(bricks):\n",
    "    change = False\n",
    "    for current_brick in bricks:\n",
    "        if type(current_brick) == Ground: continue \n",
    "        current_positions = current_brick.positions.copy()\n",
    "        valid_position = True\n",
    "        \n",
    "        while valid_position:\n",
    "            new_positions = current_positions + np.array((0, 0, -1))\n",
    "            \n",
    "            # check if valid position\n",
    "            for other_brick in bricks:\n",
    "                if type(other_brick) == Ground or other_brick is current_brick: \n",
    "                    continue \n",
    "                \n",
    "                if other_brick.intersect(new_positions):\n",
    "                    valid_position = False\n",
    "                    break\n",
    "                \n",
    "                if not all(p[2]>0 for p in new_positions):\n",
    "                    valid_position = False\n",
    "                    break\n",
    "                    \n",
    "            if valid_position:\n",
    "                current_positions = new_positions\n",
    "                change = True\n",
    "        \n",
    "        current_brick.positions = current_positions\n",
    "    \n",
    "    return change"
   ]
  },
  {
   "cell_type": "code",
   "execution_count": 43,
   "metadata": {},
   "outputs": [],
   "source": [
    "from operator import attrgetter, itemgetter\n",
    "\n",
    "\n",
    "def my_func(input_string):\n",
    "    ground = Ground()\n",
    "    bricks = [ground]\n",
    "    z_max = 0\n",
    "    for i, line in enumerate(input_string.splitlines()):\n",
    "        start, end = line.split('~')\n",
    "        start_position = np.array(tuple(map(int, start.split(','))))\n",
    "        end_position = np.array(tuple(map(int, end.split(','))))\n",
    "        z_max = max(z_max, start_position[2], end_position[2])\n",
    "        bricks.append(Brick(i+1, start_position, end_position))   \n",
    "    \n",
    "    bricks = sorted(bricks, key=attrgetter('zmin'))\n",
    "    settle(bricks)\n",
    "    print('settled')\n",
    "    \n",
    "    counter = 0\n",
    "    for i, removed_brick in enumerate(bricks[1:]):\n",
    "        print(f\"{i}/{len(bricks)}\")\n",
    "        new_bricks = [brick for brick in bricks if brick is not removed_brick]\n",
    "        changed = settle(new_bricks)\n",
    "        if changed:\n",
    "            counter += 1\n",
    "    \n",
    "    return len(bricks) - counter - 1\n",
    "    \n",
    "        \n",
    "        \n",
    "            \n",
    "            "
   ]
  },
  {
   "cell_type": "markdown",
   "metadata": {},
   "source": [
    "### Example"
   ]
  },
  {
   "cell_type": "code",
   "execution_count": 44,
   "metadata": {},
   "outputs": [
    {
     "name": "stdout",
     "output_type": "stream",
     "text": [
      "settled\n",
      "0/8\n",
      "1/8\n",
      "2/8\n",
      "3/8\n",
      "4/8\n",
      "5/8\n",
      "6/8\n"
     ]
    },
    {
     "data": {
      "text/plain": [
       "5"
      ]
     },
     "execution_count": 44,
     "metadata": {},
     "output_type": "execute_result"
    }
   ],
   "source": [
    "input_string = \"\"\"1,0,1~1,2,1\n",
    "0,0,2~2,0,2\n",
    "0,2,3~2,2,3\n",
    "0,0,4~0,2,4\n",
    "2,0,5~2,2,5\n",
    "0,1,6~2,1,6\n",
    "1,1,8~1,1,9\"\"\"\n",
    "\n",
    "\n",
    "my_func(input_string)\n"
   ]
  },
  {
   "cell_type": "markdown",
   "metadata": {},
   "source": [
    "### Submission"
   ]
  },
  {
   "cell_type": "code",
   "execution_count": 45,
   "metadata": {},
   "outputs": [
    {
     "ename": "KeyboardInterrupt",
     "evalue": "",
     "output_type": "error",
     "traceback": [
      "\u001b[1;31m---------------------------------------------------------------------------\u001b[0m",
      "\u001b[1;31mKeyboardInterrupt\u001b[0m                         Traceback (most recent call last)",
      "Cell \u001b[1;32mIn[45], line 4\u001b[0m\n\u001b[0;32m      1\u001b[0m \u001b[38;5;28;01mwith\u001b[39;00m \u001b[38;5;28mopen\u001b[39m(\u001b[38;5;124m'\u001b[39m\u001b[38;5;124minput/day22.txt\u001b[39m\u001b[38;5;124m'\u001b[39m, \u001b[38;5;124m'\u001b[39m\u001b[38;5;124mr\u001b[39m\u001b[38;5;124m'\u001b[39m) \u001b[38;5;28;01mas\u001b[39;00m file:\n\u001b[0;32m      2\u001b[0m     input_string \u001b[38;5;241m=\u001b[39m file\u001b[38;5;241m.\u001b[39mread()\n\u001b[1;32m----> 4\u001b[0m \u001b[43mmy_func\u001b[49m\u001b[43m(\u001b[49m\u001b[43minput_string\u001b[49m\u001b[43m)\u001b[49m\n",
      "Cell \u001b[1;32mIn[43], line 16\u001b[0m, in \u001b[0;36mmy_func\u001b[1;34m(input_string)\u001b[0m\n\u001b[0;32m     13\u001b[0m     bricks\u001b[38;5;241m.\u001b[39mappend(Brick(i\u001b[38;5;241m+\u001b[39m\u001b[38;5;241m1\u001b[39m, start_position, end_position))   \n\u001b[0;32m     15\u001b[0m bricks \u001b[38;5;241m=\u001b[39m \u001b[38;5;28msorted\u001b[39m(bricks, key\u001b[38;5;241m=\u001b[39mattrgetter(\u001b[38;5;124m'\u001b[39m\u001b[38;5;124mzmin\u001b[39m\u001b[38;5;124m'\u001b[39m))\n\u001b[1;32m---> 16\u001b[0m \u001b[43msettle\u001b[49m\u001b[43m(\u001b[49m\u001b[43mbricks\u001b[49m\u001b[43m)\u001b[49m\n\u001b[0;32m     17\u001b[0m \u001b[38;5;28mprint\u001b[39m(\u001b[38;5;124m'\u001b[39m\u001b[38;5;124msettled\u001b[39m\u001b[38;5;124m'\u001b[39m)\n\u001b[0;32m     19\u001b[0m counter \u001b[38;5;241m=\u001b[39m \u001b[38;5;241m0\u001b[39m\n",
      "Cell \u001b[1;32mIn[22], line 20\u001b[0m, in \u001b[0;36msettle\u001b[1;34m(bricks)\u001b[0m\n\u001b[0;32m     17\u001b[0m     valid_position \u001b[38;5;241m=\u001b[39m \u001b[38;5;28;01mFalse\u001b[39;00m\n\u001b[0;32m     18\u001b[0m     \u001b[38;5;28;01mbreak\u001b[39;00m\n\u001b[1;32m---> 20\u001b[0m \u001b[38;5;28;01mif\u001b[39;00m \u001b[38;5;129;01mnot\u001b[39;00m \u001b[38;5;28;43mall\u001b[39;49m\u001b[43m(\u001b[49m\u001b[43mp\u001b[49m\u001b[43m[\u001b[49m\u001b[38;5;241;43m2\u001b[39;49m\u001b[43m]\u001b[49m\u001b[38;5;241;43m>\u001b[39;49m\u001b[38;5;241;43m0\u001b[39;49m\u001b[43m \u001b[49m\u001b[38;5;28;43;01mfor\u001b[39;49;00m\u001b[43m \u001b[49m\u001b[43mp\u001b[49m\u001b[43m \u001b[49m\u001b[38;5;129;43;01min\u001b[39;49;00m\u001b[43m \u001b[49m\u001b[43mnew_positions\u001b[49m\u001b[43m)\u001b[49m:\n\u001b[0;32m     21\u001b[0m     valid_position \u001b[38;5;241m=\u001b[39m \u001b[38;5;28;01mFalse\u001b[39;00m\n\u001b[0;32m     22\u001b[0m     \u001b[38;5;28;01mbreak\u001b[39;00m\n",
      "Cell \u001b[1;32mIn[22], line 20\u001b[0m, in \u001b[0;36m<genexpr>\u001b[1;34m(.0)\u001b[0m\n\u001b[0;32m     17\u001b[0m     valid_position \u001b[38;5;241m=\u001b[39m \u001b[38;5;28;01mFalse\u001b[39;00m\n\u001b[0;32m     18\u001b[0m     \u001b[38;5;28;01mbreak\u001b[39;00m\n\u001b[1;32m---> 20\u001b[0m \u001b[38;5;28;01mif\u001b[39;00m \u001b[38;5;129;01mnot\u001b[39;00m \u001b[38;5;28mall\u001b[39m(p[\u001b[38;5;241m2\u001b[39m]\u001b[38;5;241m>\u001b[39m\u001b[38;5;241m0\u001b[39m \u001b[38;5;28;01mfor\u001b[39;00m p \u001b[38;5;129;01min\u001b[39;00m new_positions):\n\u001b[0;32m     21\u001b[0m     valid_position \u001b[38;5;241m=\u001b[39m \u001b[38;5;28;01mFalse\u001b[39;00m\n\u001b[0;32m     22\u001b[0m     \u001b[38;5;28;01mbreak\u001b[39;00m\n",
      "File \u001b[1;32m_pydevd_bundle/pydevd_cython.pyx:1457\u001b[0m, in \u001b[0;36m_pydevd_bundle.pydevd_cython.SafeCallWrapper.__call__\u001b[1;34m()\u001b[0m\n",
      "File \u001b[1;32md:\\user\\my_files\\Python Projects\\advent-of-code\\.venv\\Lib\\site-packages\\debugpy\\_vendored\\pydevd\\_pydevd_bundle\\pydevd_constants.py:535\u001b[0m, in \u001b[0;36mNO_FTRACE\u001b[1;34m(frame, event, arg)\u001b[0m\n\u001b[0;32m    532\u001b[0m \u001b[38;5;28;01mtry\u001b[39;00m:\n\u001b[0;32m    533\u001b[0m     _check_ftrace_set_none()\n\u001b[1;32m--> 535\u001b[0m     \u001b[38;5;28;01mdef\u001b[39;00m \u001b[38;5;21mNO_FTRACE\u001b[39m(frame, event, arg):\n\u001b[0;32m    536\u001b[0m         frame\u001b[38;5;241m.\u001b[39mf_trace \u001b[38;5;241m=\u001b[39m \u001b[38;5;28;01mNone\u001b[39;00m\n\u001b[0;32m    537\u001b[0m         \u001b[38;5;28;01mreturn\u001b[39;00m \u001b[38;5;28;01mNone\u001b[39;00m\n",
      "\u001b[1;31mKeyboardInterrupt\u001b[0m: "
     ]
    }
   ],
   "source": [
    "with open('input/day22.txt', 'r') as file:\n",
    "    input_string = file.read()\n",
    "\n",
    "my_func(input_string)\n"
   ]
  },
  {
   "cell_type": "markdown",
   "metadata": {},
   "source": [
    "## Part 2\n",
    "\n",
    "text"
   ]
  },
  {
   "cell_type": "markdown",
   "metadata": {},
   "source": [
    "### Solution"
   ]
  },
  {
   "cell_type": "code",
   "execution_count": 6,
   "metadata": {},
   "outputs": [],
   "source": [
    "def my_func(input_string):\n",
    "    pass\n"
   ]
  },
  {
   "cell_type": "markdown",
   "metadata": {},
   "source": [
    "### Example"
   ]
  },
  {
   "cell_type": "code",
   "execution_count": null,
   "metadata": {},
   "outputs": [],
   "source": [
    "input_string = \"\"\"\"\"\"\n",
    "\n",
    "\n",
    "my_func(input_string)\n"
   ]
  },
  {
   "cell_type": "markdown",
   "metadata": {},
   "source": [
    "### Submission"
   ]
  },
  {
   "cell_type": "code",
   "execution_count": null,
   "metadata": {},
   "outputs": [],
   "source": [
    "with open('input/day00.txt', 'r') as file:\n",
    "    input_string = file.read()\n",
    "\n",
    "\n",
    "my_func(input_string)\n"
   ]
  }
 ],
 "metadata": {
  "kernelspec": {
   "display_name": ".venv",
   "language": "python",
   "name": "python3"
  },
  "language_info": {
   "codemirror_mode": {
    "name": "ipython",
    "version": 3
   },
   "file_extension": ".py",
   "mimetype": "text/x-python",
   "name": "python",
   "nbconvert_exporter": "python",
   "pygments_lexer": "ipython3",
   "version": "3.11.4"
  }
 },
 "nbformat": 4,
 "nbformat_minor": 2
}
