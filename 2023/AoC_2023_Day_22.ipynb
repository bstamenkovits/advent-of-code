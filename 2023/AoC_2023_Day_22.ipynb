{
 "cells": [
  {
   "cell_type": "markdown",
   "metadata": {},
   "source": [
    "# **Day22**: *Sand Slabs*"
   ]
  },
  {
   "cell_type": "markdown",
   "metadata": {},
   "source": [
    "## Part 1\n",
    "\n",
    "Enough sand has fallen; it can finally filter water for Snow Island.\n",
    "\n",
    "Well, almost.\n",
    "\n",
    "The sand has been falling as large compacted bricks of sand, piling up to form an impressive stack here near the edge of Island Island. In order to make use of the sand to filter water, some of the bricks will need to be broken apart - nay, disintegrated - back into freely flowing sand.\n",
    "\n",
    "The stack is tall enough that you'll have to be careful about choosing which bricks to disintegrate; if you disintegrate the wrong brick, large portions of the stack could topple, which sounds pretty dangerous.\n",
    "\n",
    "The Elves responsible for water filtering operations took a snapshot of the bricks while they were still falling (your puzzle input) which should let you work out which bricks are safe to disintegrate. For example:\n",
    "\n",
    "```\n",
    "1,0,1~1,2,1\n",
    "0,0,2~2,0,2\n",
    "0,2,3~2,2,3\n",
    "0,0,4~0,2,4\n",
    "2,0,5~2,2,5\n",
    "0,1,6~2,1,6\n",
    "1,1,8~1,1,9\n",
    "```\n",
    "\n",
    "Each line of text in the snapshot represents the position of a single brick at the time the snapshot was taken. The position is given as two x,y,z coordinates - one for each end of the brick - separated by a tilde (~). Each brick is made up of a single straight line of cubes, and the Elves were even careful to choose a time for the snapshot that had all of the free-falling bricks at integer positions above the ground, so the whole snapshot is aligned to a three-dimensional cube grid.\n",
    "\n",
    "A line like 2,2,2~2,2,2 means that both ends of the brick are at the same coordinate - in other words, that the brick is a single cube.\n",
    "\n",
    "Lines like 0,0,10~1,0,10 or 0,0,10~0,1,10 both represent bricks that are two cubes in volume, both oriented horizontally. The first brick extends in the x direction, while the second brick extends in the y direction.\n",
    "\n",
    "A line like 0,0,1~0,0,10 represents a ten-cube brick which is oriented vertically. One end of the brick is the cube located at 0,0,1, while the other end of the brick is located directly above it at 0,0,10.\n",
    "\n",
    "The ground is at z=0 and is perfectly flat; the lowest z value a brick can have is therefore 1. So, 5,5,1~5,6,1 and 0,2,1~0,2,5 are both resting on the ground, but 3,3,2~3,3,3 was above the ground at the time of the snapshot.\n",
    "\n",
    "Because the snapshot was taken while the bricks were still falling, some bricks will still be in the air; you'll need to start by figuring out where they will end up. Bricks are magically stabilized, so they never rotate, even in weird situations like where a long horizontal brick is only supported on one end. Two bricks cannot occupy the same position, so a falling brick will come to rest upon the first other brick it encounters.\n",
    "\n",
    "Here is the same example again, this time with each brick given a letter so it can be marked in diagrams:\n",
    "\n",
    "```\n",
    "1,0,1~1,2,1   <- A\n",
    "0,0,2~2,0,2   <- B\n",
    "0,2,3~2,2,3   <- C\n",
    "0,0,4~0,2,4   <- D\n",
    "2,0,5~2,2,5   <- E\n",
    "0,1,6~2,1,6   <- F\n",
    "1,1,8~1,1,9   <- G\n",
    "```\n",
    "\n",
    "At the time of the snapshot, from the side so the x axis goes left to right, these bricks are arranged like this:\n",
    "\n",
    "```\n",
    " x\n",
    "012\n",
    ".G. 9\n",
    ".G. 8\n",
    "... 7\n",
    "FFF 6\n",
    "..E 5 z\n",
    "D.. 4\n",
    "CCC 3\n",
    "BBB 2\n",
    ".A. 1\n",
    "--- 0\n",
    "```\n",
    "\n",
    "Rotating the perspective 90 degrees so the y axis now goes left to right, the same bricks are arranged like this:\n",
    "\n",
    "```\n",
    " y\n",
    "012\n",
    ".G. 9\n",
    ".G. 8\n",
    "... 7\n",
    ".F. 6\n",
    "EEE 5 z\n",
    "DDD 4\n",
    "..C 3\n",
    "B.. 2\n",
    "AAA 1\n",
    "--- 0\n",
    "```\n",
    "\n",
    "Once all of the bricks fall downward as far as they can go, the stack looks like this, where ? means bricks are hidden behind other bricks at that location:\n",
    "\n",
    "```\n",
    " x\n",
    "012\n",
    ".G. 6\n",
    ".G. 5\n",
    "FFF 4\n",
    "D.E 3 z\n",
    "??? 2\n",
    ".A. 1\n",
    "--- 0\n",
    "```\n",
    "\n",
    "Again from the side:\n",
    "\n",
    "```\n",
    " y\n",
    "012\n",
    ".G. 6\n",
    ".G. 5\n",
    ".F. 4\n",
    "??? 3 z\n",
    "B.C 2\n",
    "AAA 1\n",
    "--- 0\n",
    "```\n",
    "\n",
    "Now that all of the bricks have settled, it becomes easier to tell which bricks are supporting which other bricks:\n",
    "\n",
    "- Brick A is the only brick supporting bricks B and C.\n",
    "- Brick B is one of two bricks supporting brick D and brick E.\n",
    "- Brick C is the other brick supporting brick D and brick E.\n",
    "- Brick D supports brick F.\n",
    "- Brick E also supports brick F.\n",
    "- Brick F supports brick G.\n",
    "- Brick G isn't supporting any bricks.\n",
    "\n",
    "Your first task is to figure out which bricks are safe to disintegrate. A brick can be safely disintegrated if, after removing it, no other bricks would fall further directly downward. Don't actually disintegrate any bricks - just determine what would happen if, for each brick, only that brick were disintegrated. Bricks can be disintegrated even if they're completely surrounded by other bricks; you can squeeze between bricks if you need to.\n",
    "\n",
    "In this example, the bricks can be disintegrated as follows:\n",
    "\n",
    "- Brick A cannot be disintegrated safely; if it were disintegrated, bricks B and C would both fall.\n",
    "- Brick B can be disintegrated; the bricks above it (D and E) would still be supported by brick C.\n",
    "- Brick C can be disintegrated; the bricks above it (D and E) would still be supported by brick B.\n",
    "- Brick D can be disintegrated; the brick above it (F) would still be supported by brick E.\n",
    "- Brick E can be disintegrated; the brick above it (F) would still be supported by brick D.\n",
    "- Brick F cannot be disintegrated; the brick above it (G) would fall.\n",
    "- Brick G can be disintegrated; it does not support any other bricks.\n",
    "\n",
    "So, in this example, 5 bricks can be safely disintegrated.\n",
    "\n",
    "Figure how the blocks will settle based on the snapshot. Once they've settled, consider disintegrating a single brick; how many bricks could be safely chosen as the one to get disintegrated?"
   ]
  },
  {
   "cell_type": "markdown",
   "metadata": {},
   "source": [
    "### Solution"
   ]
  },
  {
   "cell_type": "code",
   "execution_count": 50,
   "metadata": {},
   "outputs": [],
   "source": [
    "import matplotlib.pyplot as pyplot\n",
    "\n",
    "\n",
    "class Bricks:\n",
    "    \n",
    "    def __init__(self):\n",
    "        self.index = {}      # key:value = position:index\n",
    "        self.positions = {}  # key:value = index:positions\n",
    "        \n",
    "    def __repr__(self):\n",
    "        return f\"Bricks\"\n",
    "    \n",
    "    def get_sorted_bricks(self):\n",
    "        \"\"\"Sort brick indexes based on their lowest z-value\"\"\"\n",
    "        \n",
    "        def min_z(positions):\n",
    "            return min(positions, key=lambda p: p[2])[2]\n",
    "        \n",
    "        sorted_bricks = sorted(self.positions.keys(), key=lambda idx: min_z(self.positions[idx]))\n",
    "        return sorted_bricks\n",
    "        \n",
    "    def move(self, brick_index):\n",
    "        new_positions = []\n",
    "        for x, y, z in self.positions[brick_index]:\n",
    "            old_position = (x, y, z)\n",
    "            new_position = (x, y, z-1)\n",
    "            \n",
    "            new_positions.append(new_position)\n",
    "            del self.index[old_position]\n",
    "            self.index[new_position] = brick_index\n",
    "        \n",
    "        self.positions[brick_index] = new_positions\n",
    "            \n",
    "    def is_movable(self, brick_index, ignore_brick_index=None):\n",
    "        bricks_to_ignore = [brick_index, ignore_brick_index] if ignore_brick_index is not None else [brick_index]\n",
    "        for x, y, z in self.positions[brick_index]:\n",
    "            if z < 2:   # check for ground\n",
    "                return False\n",
    "            if (x, y, z-1) in self.index:  # check for other bricks\n",
    "                if self.index[(x, y, z-1)] not in bricks_to_ignore:\n",
    "                    return False\n",
    "        return True\n",
    "    \n",
    "    def supporting_bricks(self, brick_index):\n",
    "        supports = []\n",
    "        for x, y, z in self.positions[brick_index]:\n",
    "            if (x, y, z+1) in self.index:\n",
    "                if self.index[x, y, z+1] != brick_index:\n",
    "                    supports.append(self.index[(x, y, z+1)])\n",
    "        return supports\n",
    "    \n",
    "    def settle(self):\n",
    "        for brick_index in self.get_sorted_bricks():\n",
    "            while self.is_movable(brick_index):\n",
    "                self.move(brick_index)\n",
    "                \n",
    "    def safe_to_disintegrate(self):\n",
    "        disintegratable_bricks = []\n",
    "        for removed_brick in self.get_sorted_bricks():\n",
    "            disintegratable = True\n",
    "            for brick in self.get_sorted_bricks():\n",
    "                if brick == removed_brick:\n",
    "                    continue\n",
    "                if self.is_movable(brick, removed_brick):\n",
    "                    disintegratable=False\n",
    "                    break\n",
    "            if disintegratable:\n",
    "                disintegratable_bricks.append(removed_brick)\n",
    "        return set(disintegratable_bricks)\n",
    "        \n",
    "    def visualize(self, first=7):\n",
    "        for i in range(first):\n",
    "            positions = self.positions[i]\n",
    "            for x,y,z in positions:\n",
    "                plt.plot(x, y, z)\n"
   ]
  },
  {
   "cell_type": "code",
   "execution_count": 51,
   "metadata": {},
   "outputs": [],
   "source": [
    "import numpy as np \n",
    "\n",
    "\n",
    "def my_func(input_string):\n",
    "    bricks = Bricks()\n",
    "\n",
    "    for i, line in enumerate(input_string.splitlines()):\n",
    "        start, end = line.split('~')\n",
    "        \n",
    "        start_position = np.array(tuple(map(int, start.split(','))))\n",
    "        end_position = np.array(tuple(map(int, end.split(','))))\n",
    "        \n",
    "        steps = max(abs(end_position - start_position))+1\n",
    "        positions = np.linspace(start_position, end_position, steps)\n",
    "        \n",
    "        for position in positions:\n",
    "            bricks.index[tuple(position)] = i\n",
    "        \n",
    "        bricks.positions[i] = [tuple(p) for p in positions]\n",
    "        \n",
    "    bricks.settle()\n",
    "    bricks.safe_to_disintegrate()\n",
    "    \n",
    "    return len(bricks.safe_to_disintegrate())\n",
    "    "
   ]
  },
  {
   "cell_type": "markdown",
   "metadata": {},
   "source": [
    "### Example"
   ]
  },
  {
   "cell_type": "code",
   "execution_count": 52,
   "metadata": {},
   "outputs": [
    {
     "data": {
      "text/plain": [
       "5"
      ]
     },
     "execution_count": 52,
     "metadata": {},
     "output_type": "execute_result"
    }
   ],
   "source": [
    "input_string = \"\"\"1,0,1~1,2,1\n",
    "0,0,2~2,0,2\n",
    "0,2,3~2,2,3\n",
    "0,0,4~0,2,4\n",
    "2,0,5~2,2,5\n",
    "0,1,6~2,1,6\n",
    "1,1,8~1,1,9\"\"\"\n",
    "\n",
    "\n",
    "my_func(input_string)\n"
   ]
  },
  {
   "cell_type": "markdown",
   "metadata": {},
   "source": [
    "### Submission"
   ]
  },
  {
   "cell_type": "code",
   "execution_count": 53,
   "metadata": {},
   "outputs": [
    {
     "data": {
      "text/plain": [
       "517"
      ]
     },
     "execution_count": 53,
     "metadata": {},
     "output_type": "execute_result"
    }
   ],
   "source": [
    "with open('input/day22.txt', 'r') as file:\n",
    "    input_string = file.read()\n",
    "\n",
    "my_func(input_string)\n"
   ]
  },
  {
   "cell_type": "markdown",
   "metadata": {},
   "source": [
    "## Part 2\n",
    "\n",
    "text"
   ]
  },
  {
   "cell_type": "markdown",
   "metadata": {},
   "source": [
    "### Solution"
   ]
  },
  {
   "cell_type": "code",
   "execution_count": 58,
   "metadata": {},
   "outputs": [],
   "source": [
    "import matplotlib.pyplot as pyplot\n",
    "\n",
    "\n",
    "class Bricks:\n",
    "    \n",
    "    def __init__(self):\n",
    "        self.index = {}      # key:value = position:index\n",
    "        self.positions = {}  # key:value = index:positions\n",
    "        \n",
    "    def __repr__(self):\n",
    "        return f\"Bricks\"\n",
    "    \n",
    "    def get_sorted_bricks(self):\n",
    "        \"\"\"Sort brick indexes based on their lowest z-value\"\"\"\n",
    "        \n",
    "        def min_z(positions):\n",
    "            return min(positions, key=lambda p: p[2])[2]\n",
    "        \n",
    "        sorted_bricks = sorted(self.positions.keys(), key=lambda idx: min_z(self.positions[idx]))\n",
    "        return sorted_bricks\n",
    "        \n",
    "    def move(self, brick_index):\n",
    "        new_positions = []\n",
    "        for x, y, z in self.positions[brick_index]:\n",
    "            old_position = (x, y, z)\n",
    "            new_position = (x, y, z-1)\n",
    "            \n",
    "            new_positions.append(new_position)\n",
    "            del self.index[old_position]\n",
    "            self.index[new_position] = brick_index\n",
    "        \n",
    "        self.positions[brick_index] = new_positions\n",
    "            \n",
    "    def is_movable(self, brick_index, ignore_brick_index=None):\n",
    "        bricks_to_ignore = [brick_index, ignore_brick_index] if ignore_brick_index is not None else [brick_index]\n",
    "        for x, y, z in self.positions[brick_index]:\n",
    "            if z < 2:   # check for ground\n",
    "                return False\n",
    "            if (x, y, z-1) in self.index:  # check for other bricks\n",
    "                if self.index[(x, y, z-1)] not in bricks_to_ignore:\n",
    "                    return False\n",
    "        return True\n",
    "    \n",
    "    def supporting_bricks(self, brick_index):\n",
    "        supports = []\n",
    "        for x, y, z in self.positions[brick_index]:\n",
    "            if (x, y, z+1) in self.index:\n",
    "                if self.index[x, y, z+1] != brick_index:\n",
    "                    supports.append(self.index[(x, y, z+1)])\n",
    "        return supports\n",
    "    \n",
    "    def settle(self):\n",
    "        for brick_index in self.get_sorted_bricks():\n",
    "            while self.is_movable(brick_index):\n",
    "                self.move(brick_index)\n",
    "                \n",
    "    def safe_to_disintegrate(self):\n",
    "        disintegratable_bricks = []\n",
    "        for removed_brick in self.get_sorted_bricks():\n",
    "            disintegratable = True\n",
    "            for brick in self.get_sorted_bricks():\n",
    "                if brick == removed_brick:\n",
    "                    continue\n",
    "                if self.is_movable(brick, removed_brick):\n",
    "                    disintegratable=False\n",
    "                    break\n",
    "            if disintegratable:\n",
    "                disintegratable_bricks.append(removed_brick)\n",
    "        return set(disintegratable_bricks)\n",
    "        \n",
    "    def visualize(self, first=7):\n",
    "        for i in range(first):\n",
    "            positions = self.positions[i]\n",
    "            for x,y,z in positions:\n",
    "                plt.plot(x, y, z)\n"
   ]
  },
  {
   "cell_type": "code",
   "execution_count": 89,
   "metadata": {},
   "outputs": [],
   "source": [
    "import numpy as np \n",
    "\n",
    "\n",
    "def my_func(input_string):\n",
    "    bricks = Bricks()\n",
    "\n",
    "    for i, line in enumerate(input_string.splitlines()):\n",
    "        start, end = line.split('~')\n",
    "        \n",
    "        start_position = np.array(tuple(map(int, start.split(','))))\n",
    "        end_position = np.array(tuple(map(int, end.split(','))))\n",
    "        \n",
    "        steps = max(abs(end_position - start_position))+1\n",
    "        positions = np.linspace(start_position, end_position, steps)\n",
    "        \n",
    "        for position in positions:\n",
    "            bricks.index[tuple(position)] = i\n",
    "        \n",
    "        bricks.positions[i] = [tuple(p) for p in positions]\n",
    "        \n",
    "    bricks.settle()\n",
    "    bricks.safe_to_disintegrate()\n",
    "    \n",
    "    return len(bricks.safe_to_disintegrate())\n",
    "    "
   ]
  },
  {
   "cell_type": "code",
   "execution_count": 90,
   "metadata": {},
   "outputs": [
    {
     "data": {
      "text/plain": [
       "dict_values([0, 0])"
      ]
     },
     "execution_count": 90,
     "metadata": {},
     "output_type": "execute_result"
    }
   ],
   "source": [
    "from collections import defaultdict\n",
    "\n",
    "space = defaultdict(int)\n",
    "space[1]\n",
    "space[4]\n",
    "space.values()"
   ]
  },
  {
   "cell_type": "code",
   "execution_count": 98,
   "metadata": {},
   "outputs": [],
   "source": [
    "def read_blocks(input_string):\n",
    "    indices = {}\n",
    "    positions = {}\n",
    "\n",
    "    for i, line in enumerate(input_string.splitlines()):\n",
    "        start, end = line.split('~')\n",
    "        start = np.array(tuple(map(int, start.split(','))))\n",
    "        end = np.array(tuple(map(int, end.split(','))))\n",
    "        \n",
    "        steps = max(abs(end - start))+1\n",
    "        positions_list = np.linspace(start, end, steps)\n",
    "        \n",
    "        for position in positions_list:\n",
    "            indices[tuple(position)] = i\n",
    "        \n",
    "        positions[i] = [tuple(p) for p in positions_list]\n",
    "\n",
    "    return positions, indices"
   ]
  },
  {
   "cell_type": "code",
   "execution_count": 99,
   "metadata": {},
   "outputs": [],
   "source": [
    "def my_func(input_string):\n",
    "    positions, indices = read_blocks(input_string)\n",
    "    print()"
   ]
  },
  {
   "cell_type": "markdown",
   "metadata": {},
   "source": [
    "### Example"
   ]
  },
  {
   "cell_type": "code",
   "execution_count": 101,
   "metadata": {},
   "outputs": [
    {
     "name": "stdout",
     "output_type": "stream",
     "text": [
      "\n"
     ]
    }
   ],
   "source": [
    "input_string = \"\"\"1,0,1~1,2,1\n",
    "0,0,2~2,0,2\n",
    "0,2,3~2,2,3\n",
    "0,0,4~0,2,4\n",
    "2,0,5~2,2,5\n",
    "0,1,6~2,1,6\n",
    "1,1,8~1,1,9\"\"\"\n",
    "\n",
    "\n",
    "my_func(input_string)\n"
   ]
  },
  {
   "cell_type": "markdown",
   "metadata": {},
   "source": [
    "### Submission"
   ]
  },
  {
   "cell_type": "code",
   "execution_count": null,
   "metadata": {},
   "outputs": [
    {
     "ename": "FileNotFoundError",
     "evalue": "[Errno 2] No such file or directory: 'input/day00.txt'",
     "output_type": "error",
     "traceback": [
      "\u001b[0;31m---------------------------------------------------------------------------\u001b[0m",
      "\u001b[0;31mFileNotFoundError\u001b[0m                         Traceback (most recent call last)",
      "Cell \u001b[0;32mIn[56], line 1\u001b[0m\n\u001b[0;32m----> 1\u001b[0m \u001b[38;5;28;01mwith\u001b[39;00m \u001b[38;5;28;43mopen\u001b[39;49m\u001b[43m(\u001b[49m\u001b[38;5;124;43m'\u001b[39;49m\u001b[38;5;124;43minput/day00.txt\u001b[39;49m\u001b[38;5;124;43m'\u001b[39;49m\u001b[43m,\u001b[49m\u001b[43m \u001b[49m\u001b[38;5;124;43m'\u001b[39;49m\u001b[38;5;124;43mr\u001b[39;49m\u001b[38;5;124;43m'\u001b[39;49m\u001b[43m)\u001b[49m \u001b[38;5;28;01mas\u001b[39;00m file:\n\u001b[1;32m      2\u001b[0m     input_string \u001b[38;5;241m=\u001b[39m file\u001b[38;5;241m.\u001b[39mread()\n\u001b[1;32m      5\u001b[0m my_func(input_string)\n",
      "File \u001b[0;32m~/Documents/Personal Code Projects/advent-of-code/.venv/lib/python3.9/site-packages/IPython/core/interactiveshell.py:310\u001b[0m, in \u001b[0;36m_modified_open\u001b[0;34m(file, *args, **kwargs)\u001b[0m\n\u001b[1;32m    303\u001b[0m \u001b[38;5;28;01mif\u001b[39;00m file \u001b[38;5;129;01min\u001b[39;00m {\u001b[38;5;241m0\u001b[39m, \u001b[38;5;241m1\u001b[39m, \u001b[38;5;241m2\u001b[39m}:\n\u001b[1;32m    304\u001b[0m     \u001b[38;5;28;01mraise\u001b[39;00m \u001b[38;5;167;01mValueError\u001b[39;00m(\n\u001b[1;32m    305\u001b[0m         \u001b[38;5;124mf\u001b[39m\u001b[38;5;124m\"\u001b[39m\u001b[38;5;124mIPython won\u001b[39m\u001b[38;5;124m'\u001b[39m\u001b[38;5;124mt let you open fd=\u001b[39m\u001b[38;5;132;01m{\u001b[39;00mfile\u001b[38;5;132;01m}\u001b[39;00m\u001b[38;5;124m by default \u001b[39m\u001b[38;5;124m\"\u001b[39m\n\u001b[1;32m    306\u001b[0m         \u001b[38;5;124m\"\u001b[39m\u001b[38;5;124mas it is likely to crash IPython. If you know what you are doing, \u001b[39m\u001b[38;5;124m\"\u001b[39m\n\u001b[1;32m    307\u001b[0m         \u001b[38;5;124m\"\u001b[39m\u001b[38;5;124myou can use builtins\u001b[39m\u001b[38;5;124m'\u001b[39m\u001b[38;5;124m open.\u001b[39m\u001b[38;5;124m\"\u001b[39m\n\u001b[1;32m    308\u001b[0m     )\n\u001b[0;32m--> 310\u001b[0m \u001b[38;5;28;01mreturn\u001b[39;00m \u001b[43mio_open\u001b[49m\u001b[43m(\u001b[49m\u001b[43mfile\u001b[49m\u001b[43m,\u001b[49m\u001b[43m \u001b[49m\u001b[38;5;241;43m*\u001b[39;49m\u001b[43margs\u001b[49m\u001b[43m,\u001b[49m\u001b[43m \u001b[49m\u001b[38;5;241;43m*\u001b[39;49m\u001b[38;5;241;43m*\u001b[39;49m\u001b[43mkwargs\u001b[49m\u001b[43m)\u001b[49m\n",
      "\u001b[0;31mFileNotFoundError\u001b[0m: [Errno 2] No such file or directory: 'input/day00.txt'"
     ]
    }
   ],
   "source": [
    "with open('input/day22.txt', 'r') as file:\n",
    "    input_string = file.read()\n",
    "\n",
    "\n",
    "my_func(input_string)\n"
   ]
  },
  {
   "cell_type": "code",
   "execution_count": null,
   "metadata": {},
   "outputs": [],
   "source": []
  }
 ],
 "metadata": {
  "kernelspec": {
   "display_name": ".venv",
   "language": "python",
   "name": "python3"
  },
  "language_info": {
   "codemirror_mode": {
    "name": "ipython",
    "version": 3
   },
   "file_extension": ".py",
   "mimetype": "text/x-python",
   "name": "python",
   "nbconvert_exporter": "python",
   "pygments_lexer": "ipython3",
   "version": "3.9.7"
  }
 },
 "nbformat": 4,
 "nbformat_minor": 2
}
