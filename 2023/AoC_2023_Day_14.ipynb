{
 "cells": [
  {
   "cell_type": "markdown",
   "metadata": {},
   "source": [
    "# **Day14**: *Parabolic Reflector Dish*"
   ]
  },
  {
   "cell_type": "markdown",
   "metadata": {},
   "source": [
    "## Part 1\n",
    "\n",
    "You reach the place where all of the mirrors were pointing: a massive parabolic reflector dish attached to the side of another large mountain.\n",
    "\n",
    "The dish is made up of many small mirrors, but while the mirrors themselves are roughly in the shape of a parabolic reflector dish, each individual mirror seems to be pointing in slightly the wrong direction. If the dish is meant to focus light, all it's doing right now is sending it in a vague direction.\n",
    "\n",
    "This system must be what provides the energy for the lava! If you focus the reflector dish, maybe you can go where it's pointing and use the light to fix the lava production.\n",
    "\n",
    "Upon closer inspection, the individual mirrors each appear to be connected via an elaborate system of ropes and pulleys to a large metal platform below the dish. The platform is covered in large rocks of various shapes. Depending on their position, the weight of the rocks deforms the platform, and the shape of the platform controls which ropes move and ultimately the focus of the dish.\n",
    "\n",
    "In short: if you move the rocks, you can focus the dish. The platform even has a control panel on the side that lets you tilt it in one of four directions! The rounded rocks (O) will roll when the platform is tilted, while the cube-shaped rocks (#) will stay in place. You note the positions of all of the empty spaces (.) and rocks (your puzzle input). For example:\n",
    "\n",
    "```\n",
    "O....#....\n",
    "O.OO#....#\n",
    ".....##...\n",
    "OO.#O....O\n",
    ".O.....O#.\n",
    "O.#..O.#.#\n",
    "..O..#O..O\n",
    ".......O..\n",
    "#....###..\n",
    "#OO..#....\n",
    "```\n",
    "\n",
    "Start by tilting the lever so all of the rocks will slide north as far as they will go:\n",
    "\n",
    "```\n",
    "OOOO.#.O..\n",
    "OO..#....#\n",
    "OO..O##..O\n",
    "O..#.OO...\n",
    "........#.\n",
    "..#....#.#\n",
    "..O..#.O.O\n",
    "..O.......\n",
    "#....###..\n",
    "#....#....\n",
    "```\n",
    "\n",
    "You notice that the support beams along the north side of the platform are damaged; to ensure the platform doesn't collapse, you should calculate the total load on the north support beams.\n",
    "\n",
    "The amount of load caused by a single rounded rock (O) is equal to the number of rows from the rock to the south edge of the platform, including the row the rock is on. (Cube-shaped rocks (#) don't contribute to load.) So, the amount of load caused by each rock in each row is as follows:\n",
    "\n",
    "```\n",
    "OOOO.#.O.. 10\n",
    "OO..#....#  9\n",
    "OO..O##..O  8\n",
    "O..#.OO...  7\n",
    "........#.  6\n",
    "..#....#.#  5\n",
    "..O..#.O.O  4\n",
    "..O.......  3\n",
    "#....###..  2\n",
    "#....#....  1\n",
    "```\n",
    "\n",
    "The total load is the sum of the load caused by all of the rounded rocks. In this example, the total load is 136.\n",
    "\n",
    "Tilt the platform so that the rounded rocks all roll north. Afterward, what is the total load on the north support beams?"
   ]
  },
  {
   "cell_type": "markdown",
   "metadata": {},
   "source": [
    "### Solution"
   ]
  },
  {
   "cell_type": "code",
   "execution_count": 1,
   "metadata": {},
   "outputs": [],
   "source": [
    "def move_rock(row, col, lines):\n",
    "    new_row, new_col = row, col\n",
    "    while new_row > 0 and lines[new_row-1][new_col] == '.':\n",
    "        new_row -= 1\n",
    "    \n",
    "    lines[row][col] = '.'\n",
    "    lines[new_row][new_col] = 'O'\n",
    "    return lines\n",
    "            "
   ]
  },
  {
   "cell_type": "code",
   "execution_count": 2,
   "metadata": {},
   "outputs": [],
   "source": [
    "def calculate_load(input_string):\n",
    "    lines = [list(line) for line in input_string.splitlines()]\n",
    "    l = len(lines)\n",
    "    \n",
    "    for row in range(1, len(lines)):\n",
    "        for col in range(len(lines[0])):\n",
    "            if lines[row][col] == 'O':\n",
    "                lines = move_rock(row, col, lines)\n",
    "\n",
    "    load = []\n",
    "    for row, line in enumerate(lines):\n",
    "        for col, item in enumerate(line):\n",
    "            if item == 'O':\n",
    "                load.append(l-row)\n",
    "\n",
    "    return sum(load)\n"
   ]
  },
  {
   "cell_type": "markdown",
   "metadata": {},
   "source": [
    "### Example"
   ]
  },
  {
   "cell_type": "code",
   "execution_count": 3,
   "metadata": {},
   "outputs": [
    {
     "data": {
      "text/plain": [
       "136"
      ]
     },
     "execution_count": 3,
     "metadata": {},
     "output_type": "execute_result"
    }
   ],
   "source": [
    "input_string = \"\"\"O....#....\n",
    "O.OO#....#\n",
    ".....##...\n",
    "OO.#O....O\n",
    ".O.....O#.\n",
    "O.#..O.#.#\n",
    "..O..#O..O\n",
    ".......O..\n",
    "#....###..\n",
    "#OO..#....\n",
    "\"\"\"\n",
    "\n",
    "\n",
    "calculate_load(input_string)\n"
   ]
  },
  {
   "cell_type": "markdown",
   "metadata": {},
   "source": [
    "### Submission"
   ]
  },
  {
   "cell_type": "code",
   "execution_count": 4,
   "metadata": {},
   "outputs": [
    {
     "data": {
      "text/plain": [
       "110090"
      ]
     },
     "execution_count": 4,
     "metadata": {},
     "output_type": "execute_result"
    }
   ],
   "source": [
    "with open('input/day14.txt', 'r') as file:\n",
    "    input_string = file.read()\n",
    "\n",
    "calculate_load(input_string)\n"
   ]
  },
  {
   "cell_type": "markdown",
   "metadata": {},
   "source": [
    "## Part 2\n",
    "\n",
    "The parabolic reflector dish deforms, but not in a way that focuses the beam. To do that, you'll need to move the rocks to the edges of the platform. Fortunately, a button on the side of the control panel labeled \"spin cycle\" attempts to do just that!\n",
    "\n",
    "Each cycle tilts the platform four times so that the rounded rocks roll north, then west, then south, then east. After each tilt, the rounded rocks roll as far as they can before the platform tilts in the next direction. After one cycle, the platform will have finished rolling the rounded rocks in those four directions in that order.\n",
    "\n",
    "Here's what happens in the example above after each of the first few cycles:\n",
    "\n",
    "After 1 cycle:\n",
    "\n",
    "\n",
    "```\n",
    ".....#....\n",
    "....#...O#\n",
    "...OO##...\n",
    ".OO#......\n",
    ".....OOO#.\n",
    ".O#...O#.#\n",
    "....O#....\n",
    "......OOOO\n",
    "#...O###..\n",
    "#..OO#....\n",
    "```\n",
    "\n",
    "After 2 cycles:\n",
    "\n",
    "```\n",
    ".....#....\n",
    "....#...O#\n",
    ".....##...\n",
    "..O#......\n",
    ".....OOO#.\n",
    ".O#...O#.#\n",
    "....O#...O\n",
    ".......OOO\n",
    "#..OO###..\n",
    "#.OOO#...O\n",
    "```\n",
    "\n",
    "After 3 cycles:\n",
    "```\n",
    ".....#....\n",
    "....#...O#\n",
    ".....##...\n",
    "..O#......\n",
    ".....OOO#.\n",
    ".O#...O#.#\n",
    "....O#...O\n",
    ".......OOO\n",
    "#...O###.O\n",
    "#.OOO#...O\n",
    "```\n",
    "\n",
    "This process should work if you leave it running long enough, but you're still worried about the north support beams. To make sure they'll survive for a while, you need to calculate the total load on the north support beams after 1000000000 cycles.\n",
    "\n",
    "In the above example, after 1000000000 cycles, the total load on the north support beams is 64.\n",
    "\n",
    "Run the spin cycle for 1000000000 cycles. Afterward, what is the total load on the north support beams?"
   ]
  },
  {
   "cell_type": "markdown",
   "metadata": {},
   "source": [
    "### Solution"
   ]
  },
  {
   "cell_type": "code",
   "execution_count": 5,
   "metadata": {},
   "outputs": [],
   "source": [
    "def flip(lines):\n",
    "    return lines[::-1]\n",
    "\n",
    "def transpose(lines):\n",
    "    return list(map(list, zip(*lines))) \n",
    "\n",
    "direction_transform = {\n",
    "    'N': lambda lines: lines,\n",
    "    'E': lambda lines: flip(transpose(lines)),\n",
    "    'S': lambda lines: flip(lines),\n",
    "    'W': lambda lines: transpose(lines),\n",
    "}\n",
    "\n",
    "direction_revert = {\n",
    "    'N': lambda lines: lines,\n",
    "    'E': lambda lines: transpose(flip(lines)),\n",
    "    'S': lambda lines: flip(lines),\n",
    "    'W': lambda lines: transpose(lines),\n",
    "}\n",
    "\n",
    "def move_rock(position, lines):\n",
    "    row, col = position\n",
    "    while row > 0 and lines[row-1][col] == '.':\n",
    "        row -= 1\n",
    "\n",
    "    old_row, old_col = position\n",
    "    lines[old_row][old_col] = '.'\n",
    "    lines[row][col] = 'O'\n",
    "    return lines\n",
    "\n",
    "\n",
    "def tilt_platform(direction, lines):\n",
    "    # transform lines\n",
    "    lines = direction_transform[direction](lines)\n",
    "    \n",
    "    # move rocks to top of `lines`\n",
    "    for row, line in enumerate(lines):\n",
    "        for col, item in enumerate(line):\n",
    "            if item == \"O\":\n",
    "                lines = move_rock((row, col), lines)\n",
    "    \n",
    "    # revert lines transformation\n",
    "    lines = direction_revert[direction](lines)\n",
    "    return lines\n",
    "\n",
    "def run_cycle(lines):\n",
    "    lines = tilt_platform('N', lines)\n",
    "    lines = tilt_platform('W', lines)\n",
    "    lines = tilt_platform('S', lines)\n",
    "    lines = tilt_platform('E', lines)\n",
    "    return lines"
   ]
  },
  {
   "cell_type": "code",
   "execution_count": 6,
   "metadata": {},
   "outputs": [],
   "source": [
    "from copy import deepcopy\n",
    "\n",
    "\n",
    "def calculate_load(input_string):\n",
    "    lines = [list(line) for line in input_string.splitlines()]\n",
    "    l = len(lines)\n",
    "\n",
    "    history = [lines]\n",
    "    while True:\n",
    "        lines = run_cycle(lines)\n",
    "        if lines in history: \n",
    "            index = history.index(lines)\n",
    "            cycle_length = len(history)-index\n",
    "            break\n",
    "        history.append(deepcopy(lines))\n",
    "    \n",
    "    \n",
    "    total_cycles = 1_000_000_000\n",
    "    offset = index - 1\n",
    "    remaining_cycles = ((total_cycles - offset) % cycle_length) - 1\n",
    "    lines = history[index+remaining_cycles]\n",
    "\n",
    "\n",
    "    load = []\n",
    "    for row, line in enumerate(lines):\n",
    "        for col, item in enumerate(line):\n",
    "            if item == 'O':\n",
    "                load.append(l-row)\n",
    "\n",
    "    return sum(load)\n"
   ]
  },
  {
   "cell_type": "markdown",
   "metadata": {},
   "source": [
    "### Example"
   ]
  },
  {
   "cell_type": "code",
   "execution_count": 7,
   "metadata": {},
   "outputs": [
    {
     "data": {
      "text/plain": [
       "64"
      ]
     },
     "execution_count": 7,
     "metadata": {},
     "output_type": "execute_result"
    }
   ],
   "source": [
    "input_string = \"\"\"O....#....\n",
    "O.OO#....#\n",
    ".....##...\n",
    "OO.#O....O\n",
    ".O.....O#.\n",
    "O.#..O.#.#\n",
    "..O..#O..O\n",
    ".......O..\n",
    "#....###..\n",
    "#OO..#....\n",
    "\"\"\"\n",
    "\n",
    "\n",
    "calculate_load(input_string)\n"
   ]
  },
  {
   "cell_type": "markdown",
   "metadata": {},
   "source": [
    "### Submission"
   ]
  },
  {
   "cell_type": "code",
   "execution_count": 8,
   "metadata": {},
   "outputs": [
    {
     "data": {
      "text/plain": [
       "95254"
      ]
     },
     "execution_count": 8,
     "metadata": {},
     "output_type": "execute_result"
    }
   ],
   "source": [
    "with open('input/day14.txt', 'r') as file:\n",
    "    input_string = file.read()\n",
    "\n",
    "calculate_load(input_string)\n"
   ]
  }
 ],
 "metadata": {
  "kernelspec": {
   "display_name": ".venv",
   "language": "python",
   "name": "python3"
  },
  "language_info": {
   "codemirror_mode": {
    "name": "ipython",
    "version": 3
   },
   "file_extension": ".py",
   "mimetype": "text/x-python",
   "name": "python",
   "nbconvert_exporter": "python",
   "pygments_lexer": "ipython3",
   "version": "3.9.7"
  }
 },
 "nbformat": 4,
 "nbformat_minor": 2
}
