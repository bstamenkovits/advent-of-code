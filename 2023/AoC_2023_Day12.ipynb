{
 "cells": [
  {
   "cell_type": "markdown",
   "metadata": {},
   "source": [
    "# **Day12**: *Hot Springs*"
   ]
  },
  {
   "cell_type": "markdown",
   "metadata": {},
   "source": [
    "## Part 1\n",
    "\n",
    "You finally reach the hot springs! You can see steam rising from secluded areas attached to the primary, ornate building.\n",
    "\n",
    "As you turn to enter, the researcher stops you. \"Wait - I thought you were looking for the hot springs, weren't you?\" You indicate that this definitely looks like hot springs to you.\n",
    "\n",
    "\"Oh, sorry, common mistake! This is actually the onsen! The hot springs are next door.\"\n",
    "\n",
    "You look in the direction the researcher is pointing and suddenly notice the massive metal helixes towering overhead. \"This way!\"\n",
    "\n",
    "It only takes you a few more steps to reach the main gate of the massive fenced-off area containing the springs. You go through the gate and into a small administrative building.\n",
    "\n",
    "\"Hello! What brings you to the hot springs today? Sorry they're not very hot right now; we're having a lava shortage at the moment.\" You ask about the missing machine parts for Desert Island.\n",
    "\n",
    "\"Oh, all of Gear Island is currently offline! Nothing is being manufactured at the moment, not until we get more lava to heat our forges. And our springs. The springs aren't very springy unless they're hot!\"\n",
    "\n",
    "\"Say, could you go up and see why the lava stopped flowing? The springs are too cold for normal operation, but we should be able to find one springy enough to launch you up there!\"\n",
    "\n",
    "There's just one problem - many of the springs have fallen into disrepair, so they're not actually sure which springs would even be safe to use! Worse yet, their condition records of which springs are damaged (your puzzle input) are also damaged! You'll need to help them repair the damaged records.\n",
    "\n",
    "In the giant field just outside, the springs are arranged into rows. For each row, the condition records show every spring and whether it is operational (.) or damaged (#). This is the part of the condition records that is itself damaged; for some springs, it is simply unknown (?) whether the spring is operational or damaged.\n",
    "\n",
    "However, the engineer that produced the condition records also duplicated some of this information in a different format! After the list of springs for a given row, the size of each contiguous group of damaged springs is listed in the order those groups appear in the row. This list always accounts for every damaged spring, and each number is the entire size of its contiguous group (that is, groups are always separated by at least one operational spring: #### would always be 4, never 2,2).\n",
    "\n",
    "So, condition records with no unknown spring conditions might look like this:\n",
    "\n",
    "```\n",
    "#.#.### 1,1,3\n",
    ".#...#....###. 1,1,3\n",
    ".#.###.#.###### 1,3,1,6\n",
    "####.#...#... 4,1,1\n",
    "#....######..#####. 1,6,5\n",
    ".###.##....# 3,2,1\n",
    "```\n",
    "\n",
    "However, the condition records are partially damaged; some of the springs' conditions are actually unknown (?). For example:\n",
    "\n",
    "```\n",
    "???.### 1,1,3\n",
    ".??..??...?##. 1,1,3\n",
    "?#?#?#?#?#?#?#? 1,3,1,6\n",
    "????.#...#... 4,1,1\n",
    "????.######..#####. 1,6,5\n",
    "?###???????? 3,2,1\n",
    "```\n",
    "\n",
    "Equipped with this information, it is your job to figure out how many different arrangements of operational and broken springs fit the given criteria in each row.\n",
    "\n",
    "In the first line (???.### 1,1,3), there is exactly one way separate groups of one, one, and three broken springs (in that order) can appear in that row: the first three unknown springs must be broken, then operational, then broken (#.#), making the whole row #.#.###.\n",
    "\n",
    "The second line is more interesting: .??..??...?##. 1,1,3 could be a total of four different arrangements. The last ? must always be broken (to satisfy the final contiguous group of three broken springs), and each ?? must hide exactly one of the two broken springs. (Neither ?? could be both broken springs or they would form a single contiguous group of two; if that were true, the numbers afterward would have been 2,3 instead.) Since each ?? can either be #. or .#, there are four possible arrangements of springs.\n",
    "\n",
    "The last line is actually consistent with ten different arrangements! Because the first number is 3, the first and second ? must both be . (if either were #, the first number would have to be 4 or higher). However, the remaining run of unknown spring conditions have many different ways they could hold groups of two and one broken springs:\n",
    "\n",
    "```\n",
    "?###???????? 3,2,1\n",
    ".###.##.#...\n",
    ".###.##..#..\n",
    ".###.##...#.\n",
    ".###.##....#\n",
    ".###..##.#..\n",
    ".###..##..#.\n",
    ".###..##...#\n",
    ".###...##.#.\n",
    ".###...##..#\n",
    ".###....##.#\n",
    "```\n",
    "\n",
    "In this example, the number of possible arrangements for each row is:\n",
    "\n",
    "\n",
    "- ???.### 1,1,3 - 1 arrangement\n",
    "- .??..??...?##. 1,1,3 - 4 arrangements\n",
    "- ?#?#?#?#?#?#?#? 1,3,1,6 - 1 arrangement\n",
    "- ????.#...#... 4,1,1 - 1 arrangement\n",
    "- ????.######..#####. 1,6,5 - 4 arrangements\n",
    "- ?###???????? 3,2,1 - 10 arrangements\n",
    "\n",
    "Adding all of the possible arrangement counts together produces a total of 21 arrangements.\n",
    "\n",
    "For each row, count all of the different arrangements of operational and broken springs that meet the given criteria. What is the sum of those counts?"
   ]
  },
  {
   "cell_type": "markdown",
   "metadata": {},
   "source": [
    "### Solution"
   ]
  },
  {
   "cell_type": "code",
   "execution_count": 66,
   "metadata": {},
   "outputs": [
    {
     "name": "stdout",
     "output_type": "stream",
     "text": [
      "[1]\n"
     ]
    }
   ],
   "source": [
    "x = [1,2]\n",
    "x.pop(1)\n",
    "print(x)"
   ]
  },
  {
   "cell_type": "code",
   "execution_count": 81,
   "metadata": {},
   "outputs": [],
   "source": [
    "def split_string(line):\n",
    "    symbol = line[0]\n",
    "    substring = symbol\n",
    "\n",
    "    result = []\n",
    "    for character in line[1:]:\n",
    "        if character != symbol:\n",
    "            result.append(substring)\n",
    "            substring = character\n",
    "            symbol = character\n",
    "        else:\n",
    "            substring += symbol\n",
    "\n",
    "    # Add the last substring to the result\n",
    "    result.append(substring)\n",
    "    return result"
   ]
  },
  {
   "cell_type": "code",
   "execution_count": 118,
   "metadata": {},
   "outputs": [
    {
     "data": {
      "text/plain": [
       "'##'"
      ]
     },
     "execution_count": 118,
     "metadata": {},
     "output_type": "execute_result"
    }
   ],
   "source": [
    "2*'#'"
   ]
  },
  {
   "cell_type": "code",
   "execution_count": 122,
   "metadata": {},
   "outputs": [],
   "source": [
    "import re\n",
    "\n",
    "def count_arrangements(input_string):\n",
    "    lines = input_string.splitlines()\n",
    "    # records = [split_string(line.split(' ')[0]) for line in lines]\n",
    "    records = [re.findall(r'[^.]+', line.split(' ')[0])for line in lines]\n",
    "    inputs = [line.split(' ')[1].split(',') for line in lines]\n",
    "\n",
    "    \n",
    "    for record, numbers in zip(records, inputs):\n",
    "        # remove .###. patterns\n",
    "        to_remove_r, to_remove_n = [], []\n",
    "        for n in numbers:\n",
    "            for r in record:\n",
    "                if '#' in r and int(n)==len(r):\n",
    "                    to_remove_r.append(r)\n",
    "                    to_remove_n.append(n)\n",
    "        \n",
    "        record = [r for r in record if r not in to_remove_r]\n",
    "        numbers = [n for n in numbers if n not in to_remove_n]\n",
    "\n",
    "        # remove ?###? patterns\n",
    "        to_remove_n = []\n",
    "        for n in numbers:\n",
    "            for i, r in enumerate(record):\n",
    "                substring = f\"?{int(n)*'#'}?\"                \n",
    "                if substring in r:\n",
    "                    to_remove_n.append(n)\n",
    "                record[i] = r.replace(substring, '') \n",
    "        \n",
    "        numbers = [n for n in numbers if n not in to_remove_n]\n",
    "\n",
    "        print(record, numbers)\n",
    "                \n",
    "        print()\n",
    "\n",
    "    # for idx_n, n in enumerate(numbers):\n",
    "    #     for idx_r, r in enumerate(record):\n",
    "\n",
    "    #         if '#' in r and int(n)==len(r):\n",
    "    #             record.pop(idx_r)\n",
    "    #             numbers.pop(idx_n)\n",
    "                \n",
    "    # record = [r if not '.' in r else '|' for r in record]\n",
    "    # print(record, numbers)\n",
    "\n",
    "    \n",
    "    # for i, r in enumerate(record):\n",
    "    #     if '?' in r:\n",
    "    #         previous = record[i-1] if i>0 else None\n",
    "    #         current = r\n",
    "    #         next = record[i+1] if i+1<len(record) else None\n",
    "    #         print(previous, current, next)\n"
   ]
  },
  {
   "cell_type": "markdown",
   "metadata": {},
   "source": [
    "### Example"
   ]
  },
  {
   "cell_type": "code",
   "execution_count": 123,
   "metadata": {},
   "outputs": [
    {
     "name": "stdout",
     "output_type": "stream",
     "text": [
      "['???'] ['1', '1']\n",
      "\n",
      "['??', '??'] ['1', '1']\n",
      "\n",
      "['###'] ['3', '6']\n",
      "\n",
      "['????'] ['4']\n",
      "\n",
      "['????'] ['1']\n",
      "\n",
      "['???????'] ['2', '1']\n",
      "\n"
     ]
    }
   ],
   "source": [
    "input_string = \"\"\"???.### 1,1,3\n",
    ".??..??...?##. 1,1,3\n",
    "?#?#?#?#?#?#?#? 1,3,1,6\n",
    "????.#...#... 4,1,1\n",
    "????.######..#####. 1,6,5\n",
    "?###???????? 3,2,1\"\"\"\n",
    "\n",
    "\n",
    "count_arrangements(input_string)\n"
   ]
  },
  {
   "cell_type": "markdown",
   "metadata": {},
   "source": [
    "### Submission"
   ]
  },
  {
   "cell_type": "code",
   "execution_count": 59,
   "metadata": {},
   "outputs": [
    {
     "ename": "NameError",
     "evalue": "name 'my_func' is not defined",
     "output_type": "error",
     "traceback": [
      "\u001b[0;31m---------------------------------------------------------------------------\u001b[0m",
      "\u001b[0;31mNameError\u001b[0m                                 Traceback (most recent call last)",
      "\u001b[1;32m/Users/belastamenkovits/Documents/Personal Code Projects/advent-of-code/2023/AoC_2023_Day12.ipynb Cell 9\u001b[0m line \u001b[0;36m4\n\u001b[1;32m      <a href='vscode-notebook-cell:/Users/belastamenkovits/Documents/Personal%20Code%20Projects/advent-of-code/2023/AoC_2023_Day12.ipynb#X10sZmlsZQ%3D%3D?line=0'>1</a>\u001b[0m input_string \u001b[39m=\u001b[39m \u001b[39m\"\"\"\u001b[39m\u001b[39m\"\"\"\u001b[39m\n\u001b[0;32m----> <a href='vscode-notebook-cell:/Users/belastamenkovits/Documents/Personal%20Code%20Projects/advent-of-code/2023/AoC_2023_Day12.ipynb#X10sZmlsZQ%3D%3D?line=3'>4</a>\u001b[0m my_func(input_string)\n",
      "\u001b[0;31mNameError\u001b[0m: name 'my_func' is not defined"
     ]
    }
   ],
   "source": [
    "input_string = \"\"\"\"\"\"\n",
    "\n",
    "\n",
    "my_func(input_string)\n"
   ]
  },
  {
   "cell_type": "markdown",
   "metadata": {},
   "source": [
    "## Part 2\n",
    "\n",
    "text"
   ]
  },
  {
   "cell_type": "markdown",
   "metadata": {},
   "source": [
    "### Solution"
   ]
  },
  {
   "cell_type": "code",
   "execution_count": 6,
   "metadata": {},
   "outputs": [],
   "source": [
    "def my_func(input_string):\n",
    "    pass\n"
   ]
  },
  {
   "cell_type": "markdown",
   "metadata": {},
   "source": [
    "### Example"
   ]
  },
  {
   "cell_type": "code",
   "execution_count": null,
   "metadata": {},
   "outputs": [],
   "source": [
    "input_string = \"\"\"\"\"\"\n",
    "\n",
    "\n",
    "my_func(input_string)\n"
   ]
  },
  {
   "cell_type": "markdown",
   "metadata": {},
   "source": [
    "### Submission"
   ]
  },
  {
   "cell_type": "code",
   "execution_count": null,
   "metadata": {},
   "outputs": [],
   "source": [
    "input_string = \"\"\"\"\"\"\n",
    "\n",
    "\n",
    "my_func(input_string)\n"
   ]
  }
 ],
 "metadata": {
  "kernelspec": {
   "display_name": ".venv",
   "language": "python",
   "name": "python3"
  },
  "language_info": {
   "codemirror_mode": {
    "name": "ipython",
    "version": 3
   },
   "file_extension": ".py",
   "mimetype": "text/x-python",
   "name": "python",
   "nbconvert_exporter": "python",
   "pygments_lexer": "ipython3",
   "version": "3.9.7"
  }
 },
 "nbformat": 4,
 "nbformat_minor": 2
}
